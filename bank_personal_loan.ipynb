{
 "cells": [
  {
   "cell_type": "code",
   "execution_count": null,
   "metadata": {},
   "outputs": [],
   "source": []
  },
  {
   "cell_type": "code",
   "execution_count": null,
   "metadata": {
    "_cell_guid": "b1076dfc-b9ad-4769-8c92-a6c4dae69d19",
    "_uuid": "8f2839f25d086af736a60e9eeb907d3b93b6e0e5"
   },
   "outputs": [],
   "source": [
    "# This Python 3 environment comes with many helpful analytics libraries installed\n",
    "# It is defined by the kaggle/python docker image: https://github.com/kaggle/docker-python\n",
    "# For example, here's several helpful packages to load in \n",
    "\n",
    "import numpy as np # linear algebra\n",
    "import pandas as pd # data processing, CSV file I/O (e.g. pd.read_csv)\n",
    "\n",
    "# Input data files are available in the \"../input/\" directory.\n",
    "# For example, running this (by clicking run or pressing Shift+Enter) will list the files in the input directory\n",
    "\n",
    "import os\n",
    "print(os.listdir(\"../input\"))\n",
    "\n",
    "# Any results you write to the current directory are saved as output."
   ]
  },
  {
   "cell_type": "markdown",
   "metadata": {
    "_cell_guid": "79c7e3d0-c299-4dcb-8224-4455121ee9b0",
    "_uuid": "d629ff2d2480ee46fbb7e2d37f6b5fab8052498a",
    "collapsed": true
   },
   "source": [
    "Bank is has a growing customer base. The bank wants to increase borrowers (asset customers) base to bring in more loan business and earn more through the interest on loans. So , bank wants to convert the liability based customers to personal loan customers. (while retaining them as depositors). A campaign that the bank ran last year for liability customers showed a healthy conversion rate of over 9% success.\n",
    "The department wants to build a model that will help them identify the potential customers who have higher probability of purchasing the loan. This will increase the success ratio while at the same time reduce the cost of the campaign."
   ]
  },
  {
   "cell_type": "markdown",
   "metadata": {
    "_uuid": "0ff71b8b8acfdba5db06d5d551766fdb245bb86a"
   },
   "source": [
    "#### On the dataset \n",
    "The file given below contains data on 5000 customers. The data include customer demographic information (age, income, etc.), the customer's relationship with the bank (mortgage, securities account, etc.), and the customer response to the last personal loan campaign (Personal Loan). Among these 5000 customers, only 480 (= 9.6%) accepted the personal loan that was offered to them in the earlier campaign"
   ]
  },
  {
   "cell_type": "markdown",
   "metadata": {
    "_uuid": "596024528b0ff25390ca486835486738648278c9"
   },
   "source": [
    "#### Information on the features or attributes\n",
    "\n",
    "The attributes can be divided accordingly :\n",
    "* The variable **ID** does not add any interesting information. There is no association between a person's customer ID  and loan, also it does not provide any general conclusion for future potential loan customers. We can neglect this information for our model prediction.\n",
    "\n",
    "The binary category have five variables as below:\n",
    "\n",
    "* Personal Loan - Did this customer accept the personal loan offered in the last campaign? <b> ** This is our target variable**</b>\n",
    "* Securities Account - Does the customer have a securities account with the bank?\n",
    "* CD Account - Does the customer have a certificate of deposit (CD) account with the bank?\n",
    "* Online - Does the customer use internet banking facilities?\n",
    "* Credit Card - Does the customer use a credit card issued by UniversalBank?\n",
    "\n",
    "Interval variables are as below:\n",
    "\n",
    "* Age - Age of the customer\n",
    "* Experience - Years of experience\n",
    "* Income - Annual income in dollars\n",
    "* CCAvg - Average credit card spending\n",
    "* Mortage - Value of House Mortgage\n",
    "\n",
    "Ordinal Categorical Variables are:\n",
    "* Family - Family size of the customer\n",
    "* Education - education level of the customer\n",
    "\n",
    "The nominal variable is :\n",
    "\n",
    "* ID\n",
    "* Zip Code"
   ]
  },
  {
   "cell_type": "markdown",
   "metadata": {
    "_uuid": "8af504f1379a3d2e9273f6fc8ad8a78187d2a168"
   },
   "source": [
    "* **Age** feature is normally distributed with majority of customers falling between 30 years and 60 years of age. We can confirm this by looking at the `describe` statement above, which shows **mean** is almost equal to **median**\n",
    "* **Experience** is normally distributed with more customer having experience starting from 8 years. Here the **mean** is equal to **median**. There are negative values in the **Experience**. This could be a data input error as in general it is not possible to measure negative years of experience. We can delete these values, because we have 3 or 4 records from the sample.\n",
    "* **Income** is positively skewed. Majority of the customers have income between 45K and 55K. We can confirm this by saying the **mean** is greater than the **median**\n",
    "* **CCAvg** is also a positively skewed variable and average spending is between 0K to 10K and majority spends less than 2.5K\n",
    "* **Mortgage**  70% of the individuals have a mortgage of less than 40K. However the max value is 635K\n",
    "* The variables family and education are ordinal variables. The distribution of families is evenly distributes"
   ]
  },
  {
   "cell_type": "code",
   "execution_count": null,
   "metadata": {
    "_uuid": "f9cf457791aab0ca6fa09e2f8e68bd1c700c3f31"
   },
   "outputs": [],
   "source": [
    "import pandas as pd\n",
    "import numpy as np\n",
    "import matplotlib.pyplot as plot\n",
    "import seaborn as sns\n",
    "%matplotlib inline\n",
    "sns.set(style=\"ticks\")\n",
    "\n",
    "from scipy.stats import zscore\n",
    "from sklearn import tree\n",
    "from sklearn.tree import DecisionTreeClassifier\n",
    "from sklearn.ensemble import BaggingClassifier\n",
    "from sklearn.feature_extraction.text import CountVectorizer\n",
    "from sklearn.naive_bayes import GaussianNB\n",
    "from sklearn.ensemble import RandomForestClassifier\n",
    "from sklearn.ensemble import BaggingClassifier, RandomForestClassifier\n",
    "from sklearn.neighbors import KNeighborsClassifier\n",
    "from sklearn import model_selection"
   ]
  },
  {
   "cell_type": "code",
   "execution_count": null,
   "metadata": {
    "_uuid": "6f7aa0cb3546122c4a9f98cbd3995ed74e9a505e"
   },
   "outputs": [],
   "source": [
    "data = pd.read_excel('../input/Bank_Personal_Loan.xlsx','Data')\n",
    "data.columns = [\"ID\",\"Age\",\"Experience\",\"Income\",\"ZIPCode\",\"Family\",\"CCAvg\",\"Education\",\"Mortgage\",\"PersonalLoan\",\"SecuritiesAccount\",\"CDAccount\",\"Online\",\"CreditCard\"]"
   ]
  },
  {
   "cell_type": "code",
   "execution_count": null,
   "metadata": {
    "_uuid": "da247fa73821e0fa59840a8e486e9933d5763325"
   },
   "outputs": [],
   "source": [
    "data.head()"
   ]
  },
  {
   "cell_type": "code",
   "execution_count": null,
   "metadata": {
    "_uuid": "a954fd3c4cab8e8326fa6d1d0a03849c9829e4fb"
   },
   "outputs": [],
   "source": [
    "data.columns"
   ]
  },
  {
   "cell_type": "code",
   "execution_count": null,
   "metadata": {
    "_uuid": "0bedb8ebc0855423d25054690a1658aa28ec9b66"
   },
   "outputs": [],
   "source": [
    "data.shape"
   ]
  },
  {
   "cell_type": "code",
   "execution_count": null,
   "metadata": {
    "_uuid": "2264dc3442114cf9f4f6699dd3ca1a19b4f8c497"
   },
   "outputs": [],
   "source": [
    "data.info()"
   ]
  },
  {
   "cell_type": "code",
   "execution_count": null,
   "metadata": {
    "_uuid": "f23d2cfdec7a15e61c708f81bc56ef6a4462d5a2"
   },
   "outputs": [],
   "source": [
    "# No columns have null data in the file\n",
    "data.apply(lambda x : sum(x.isnull()))"
   ]
  },
  {
   "cell_type": "code",
   "execution_count": null,
   "metadata": {
    "_uuid": "b37a7e37702ef5e9b6b577c1f4b4cfe22050e6b3"
   },
   "outputs": [],
   "source": [
    "# Eye balling the data\n",
    "data.describe().transpose()"
   ]
  },
  {
   "cell_type": "code",
   "execution_count": null,
   "metadata": {
    "_uuid": "a75cda3d89254cde1fbff1c54a0739ce86da8d79"
   },
   "outputs": [],
   "source": [
    "#finding unique data\n",
    "data.apply(lambda x: len(x.unique()))"
   ]
  },
  {
   "cell_type": "code",
   "execution_count": null,
   "metadata": {
    "_uuid": "731bb23607428999184c8bb9955ce3072ca63935"
   },
   "outputs": [],
   "source": [
    "sns.pairplot(data.iloc[:,1:])"
   ]
  },
  {
   "cell_type": "code",
   "execution_count": null,
   "metadata": {
    "_uuid": "df57811e198cbc2b012de985264a2da108415ec9"
   },
   "outputs": [],
   "source": [
    "# there are 52 records with negative experience. Before proceeding any further we need to clean the same\n",
    "data[data['Experience'] < 0]['Experience'].count()"
   ]
  },
  {
   "cell_type": "code",
   "execution_count": null,
   "metadata": {
    "_uuid": "07745684a4694d6a39b899dd281e4a2534e9a375"
   },
   "outputs": [],
   "source": [
    "#clean the negative variable\n",
    "dfExp = data.loc[data['Experience'] >0]\n",
    "negExp = data.Experience < 0\n",
    "column_name = 'Experience'\n",
    "mylist = data.loc[negExp]['ID'].tolist() # getting the customer ID who has negative experience"
   ]
  },
  {
   "cell_type": "code",
   "execution_count": null,
   "metadata": {
    "_uuid": "c4333152287546cb26fc442f86d5585711523f14"
   },
   "outputs": [],
   "source": [
    "# there are 52 records with negative experience\n",
    "negExp.value_counts()"
   ]
  },
  {
   "cell_type": "markdown",
   "metadata": {
    "_uuid": "a2970e7b0e1976ae17be151fb98e95b884d83837"
   },
   "source": [
    "The following code does the below steps:\n",
    "* For the record with the ID, get the value of `Age` column\n",
    "* For the record with the ID, get the value of `Education` column\n",
    "* Filter the records matching the above criteria from the data frame which has records with positive experience and take the median\n",
    "* Apply the median back to the location which had negative experience"
   ]
  },
  {
   "cell_type": "code",
   "execution_count": null,
   "metadata": {
    "_uuid": "6a98c5f0eafa50072e9e315d5b22379aa3a7793a"
   },
   "outputs": [],
   "source": [
    "for id in mylist:\n",
    "    age = data.loc[np.where(data['ID']==id)][\"Age\"].tolist()[0]\n",
    "    education = data.loc[np.where(data['ID']==id)][\"Education\"].tolist()[0]\n",
    "    df_filtered = dfExp[(dfExp.Age == age) & (dfExp.Education == education)]\n",
    "    exp = df_filtered['Experience'].median()\n",
    "    data.loc[data.loc[np.where(data['ID']==id)].index, 'Experience'] = exp"
   ]
  },
  {
   "cell_type": "code",
   "execution_count": null,
   "metadata": {
    "_uuid": "0f21e8da27e0a4d99643ea9eab9b7200ea3b1101"
   },
   "outputs": [],
   "source": [
    "# checking if there are records with negative experience\n",
    "data[data['Experience'] < 0]['Experience'].count()"
   ]
  },
  {
   "cell_type": "code",
   "execution_count": null,
   "metadata": {
    "_uuid": "44da7dd595b762df6736a3437261f36ad663f420"
   },
   "outputs": [],
   "source": [
    "data.describe().transpose()"
   ]
  },
  {
   "cell_type": "markdown",
   "metadata": {
    "_uuid": "7956f5cd64b7faba1400db68928149da2325a45a"
   },
   "source": [
    "### Influence of income and education on personal loan "
   ]
  },
  {
   "cell_type": "code",
   "execution_count": null,
   "metadata": {
    "_uuid": "fb53280e07b19dda4a39e0c1f49c78b0b73a8b86"
   },
   "outputs": [],
   "source": [
    "sns.boxplot(x='Education',y='Income',hue='PersonalLoan',data=data)"
   ]
  },
  {
   "cell_type": "markdown",
   "metadata": {
    "_uuid": "6665ecaf7e231d0a994771f6b1e9d4a666fab3d9"
   },
   "source": [
    "**Observation** : It seems the customers whose education level is 1 is having more income. However customers who has taken the personal loan have the same income levels"
   ]
  },
  {
   "cell_type": "code",
   "execution_count": null,
   "metadata": {
    "_uuid": "18bb43b0df318c69fbe140654c8f670583e9e8b1"
   },
   "outputs": [],
   "source": [
    "sns.boxplot(x=\"Education\", y='Mortgage', hue=\"PersonalLoan\", data=data,color='yellow')"
   ]
  },
  {
   "cell_type": "markdown",
   "metadata": {
    "_uuid": "08bad4e09bb840e9f750e937202dc3162d1754e7"
   },
   "source": [
    "**Inference** : From the above chart it seems that customer who do not have personal loan and customer who has personal loan have high mortgage"
   ]
  },
  {
   "cell_type": "code",
   "execution_count": null,
   "metadata": {
    "_uuid": "a156d673781587970efe9f03cd936fed7c75b7c1"
   },
   "outputs": [],
   "source": [
    "sns.countplot(x=\"SecuritiesAccount\", data=data,hue=\"PersonalLoan\")"
   ]
  },
  {
   "cell_type": "markdown",
   "metadata": {
    "_uuid": "1584d9a01e24723bb13c8f71b33d4014c6c5c46d"
   },
   "source": [
    "**Observation** : Majority of customers who does not have loan have securities account"
   ]
  },
  {
   "cell_type": "code",
   "execution_count": null,
   "metadata": {
    "_uuid": "9b2e03a05dd5944981fe252a8dc6b48cb8660f92"
   },
   "outputs": [],
   "source": [
    "sns.countplot(x='Family',data=data,hue='PersonalLoan',palette='Set1')"
   ]
  },
  {
   "cell_type": "markdown",
   "metadata": {
    "_uuid": "60b1a4df5c0f1b71cca3e25bba40fde28629a363"
   },
   "source": [
    "**Observation**: Family size does not have any impact in personal loan. But it seems families with size of 3 are more likely to take loan. When considering future campaign this might be good association."
   ]
  },
  {
   "cell_type": "code",
   "execution_count": null,
   "metadata": {
    "_uuid": "fe368766f56fd87bbd60e661c68c960d56f39193"
   },
   "outputs": [],
   "source": [
    "sns.countplot(x='CDAccount',data=data,hue='PersonalLoan')"
   ]
  },
  {
   "cell_type": "markdown",
   "metadata": {
    "_uuid": "8ac6639e91b1d96e2791a75f5018d4ff23d89566"
   },
   "source": [
    "**Observation**: Customers who does not have CD account , does not have loan as well. This seems to be majority. But almost all customers who has CD account has loan as well"
   ]
  },
  {
   "cell_type": "code",
   "execution_count": null,
   "metadata": {
    "_uuid": "56112bd496e765d8707d1b5d388079bc96a13b4e"
   },
   "outputs": [],
   "source": [
    "sns.distplot( data[data.PersonalLoan == 0]['CCAvg'], color = 'r')\n",
    "sns.distplot( data[data.PersonalLoan == 1]['CCAvg'], color = 'g')"
   ]
  },
  {
   "cell_type": "code",
   "execution_count": null,
   "metadata": {
    "_uuid": "0a62c49b584eccfe34fff1cfd00b8756b588aa85"
   },
   "outputs": [],
   "source": [
    "print('Credit card spending of Non-Loan customers: ',data[data.PersonalLoan == 0]['CCAvg'].median()*1000)\n",
    "print('Credit card spending of Loan customers    : ', data[data.PersonalLoan == 1]['CCAvg'].median()*1000)"
   ]
  },
  {
   "cell_type": "markdown",
   "metadata": {
    "_uuid": "a1a0d14ac0ab684c5854c534620bc884056b30e7"
   },
   "source": [
    "**Observation**: The graph show persons who have personal loan have a higher credit card average. Average credit card spending with a median of 3800 dollar indicates a higher probability of personal loan.  Lower credit card spending with a median of 1400 dollars is less likely to take a loan. This could be useful information."
   ]
  },
  {
   "cell_type": "code",
   "execution_count": null,
   "metadata": {
    "_uuid": "d9cdcdda4bdde4430115d01e8e5630069082281d"
   },
   "outputs": [],
   "source": [
    "fig, ax = plot.subplots()\n",
    "colors = {1:'red',2:'yellow',3:'green'}\n",
    "ax.scatter(data['Experience'],data['Age'],c=data['Education'].apply(lambda x:colors[x]))\n",
    "plot.xlabel('Experience')\n",
    "plot.ylabel('Age')"
   ]
  },
  {
   "cell_type": "markdown",
   "metadata": {
    "_uuid": "fe304633c3b89714f67fe3629629d0599212ee26"
   },
   "source": [
    "**Observation** The above plot show with experience and age have a positive correlation. As experience increase age also increases. Also the colors show the education level. There is gap in the mid forties of age and also more people in the under graduate level"
   ]
  },
  {
   "cell_type": "code",
   "execution_count": null,
   "metadata": {
    "_uuid": "3d5bb2f3da3e505218fd6f7252dc806a41252e46"
   },
   "outputs": [],
   "source": [
    "# Correlation with heat map\n",
    "import matplotlib.pyplot as plt\n",
    "import seaborn as sns\n",
    "corr = data.corr()\n",
    "sns.set_context(\"notebook\", font_scale=1.0, rc={\"lines.linewidth\": 2.5})\n",
    "plt.figure(figsize=(13,7))\n",
    "# create a mask so we only see the correlation values once\n",
    "mask = np.zeros_like(corr)\n",
    "mask[np.triu_indices_from(mask, 1)] = True\n",
    "a = sns.heatmap(corr,mask=mask, annot=True, fmt='.2f')\n",
    "rotx = a.set_xticklabels(a.get_xticklabels(), rotation=90)\n",
    "roty = a.set_yticklabels(a.get_yticklabels(), rotation=30)"
   ]
  },
  {
   "cell_type": "markdown",
   "metadata": {
    "_uuid": "0528c01c926d4664bdebc676a7c319235035c7ae"
   },
   "source": [
    "**Observation**\n",
    "* Income and CCAvg is moderately correlated. \n",
    "* Age and Experience is highly correlated"
   ]
  },
  {
   "cell_type": "code",
   "execution_count": null,
   "metadata": {
    "_uuid": "cdedb0a9d867adc03a7f6d0f8bf2e55e0c10cf5e"
   },
   "outputs": [],
   "source": [
    "sns.boxplot(x=data.Family,y=data.Income,hue=data.PersonalLoan)\n",
    "# Looking at the below plot, families with income less than 100K are less likely to take loan,than families with \n",
    "# high income"
   ]
  },
  {
   "cell_type": "markdown",
   "metadata": {
    "_uuid": "76d037dc5a98105b366f320f2ee552e8407c9271"
   },
   "source": [
    "### Applying models\n",
    "Split data into train and test"
   ]
  },
  {
   "cell_type": "code",
   "execution_count": null,
   "metadata": {
    "_uuid": "5d28c3698d4a956562b2619b748b8f717f8fd6e4"
   },
   "outputs": [],
   "source": [
    "from sklearn.model_selection import train_test_split\n",
    "train_set, test_set = train_test_split(data.drop(['ID','Experience'], axis=1), test_size=0.3 , random_state=100)"
   ]
  },
  {
   "cell_type": "code",
   "execution_count": null,
   "metadata": {
    "_uuid": "1787ba09706e057b796f03136c23d7d4cfc47b61"
   },
   "outputs": [],
   "source": [
    "train_labels = train_set.pop('PersonalLoan')\n",
    "test_labels = test_set.pop('PersonalLoan')"
   ]
  },
  {
   "cell_type": "markdown",
   "metadata": {
    "_uuid": "dbf870aef457694fa0c140569efcac4bff26defe"
   },
   "source": [
    "### Decision tree classifier"
   ]
  },
  {
   "cell_type": "code",
   "execution_count": null,
   "metadata": {
    "_uuid": "46760a0850d06388c02e2773acdd6d498eee5442"
   },
   "outputs": [],
   "source": [
    "from sklearn.naive_bayes import GaussianNB\n",
    "from sklearn.ensemble import RandomForestClassifier\n",
    "\n",
    "dt_model=DecisionTreeClassifier(criterion = 'entropy',max_depth=3)\n",
    "dt_model.fit(train_set, train_labels)"
   ]
  },
  {
   "cell_type": "code",
   "execution_count": null,
   "metadata": {
    "_uuid": "c58aa2972f8013bf260f7df323b54058923ad793"
   },
   "outputs": [],
   "source": [
    "dt_model.score(test_set , test_labels)"
   ]
  },
  {
   "cell_type": "code",
   "execution_count": null,
   "metadata": {
    "_uuid": "e84bc5afb8ba9883a38ec05c1f622a29ce58bc86"
   },
   "outputs": [],
   "source": [
    "y_predict = dt_model.predict(test_set)\n",
    "y_predict[:5]"
   ]
  },
  {
   "cell_type": "code",
   "execution_count": null,
   "metadata": {
    "_uuid": "29bb1a5bc4390ba14a11280b618e43cd7b5c29e3"
   },
   "outputs": [],
   "source": [
    "test_set.head(5)"
   ]
  },
  {
   "cell_type": "markdown",
   "metadata": {
    "_uuid": "b3bd76d5d56f55bc9c24fedf8a931422528d04fc"
   },
   "source": [
    "### Naive Bayes"
   ]
  },
  {
   "cell_type": "code",
   "execution_count": null,
   "metadata": {
    "_uuid": "427789d0206696d10f95d6da004083578b0e8397"
   },
   "outputs": [],
   "source": [
    "naive_model = GaussianNB()\n",
    "naive_model.fit(train_set, train_labels)\n",
    "\n",
    "prediction = naive_model.predict(test_set)\n",
    "naive_model.score(test_set,test_labels)"
   ]
  },
  {
   "cell_type": "markdown",
   "metadata": {
    "_uuid": "1c25309ddeafed08c281d17f2a28bfaa06025acc"
   },
   "source": [
    "### Random Forest classifier"
   ]
  },
  {
   "cell_type": "code",
   "execution_count": null,
   "metadata": {
    "_uuid": "c61d63999d0483fa91902ee0cbb8d7e9ad9cae2e"
   },
   "outputs": [],
   "source": [
    "randomforest_model = RandomForestClassifier(max_depth=2, random_state=0)\n",
    "randomforest_model.fit(train_set, train_labels)"
   ]
  },
  {
   "cell_type": "code",
   "execution_count": null,
   "metadata": {
    "_uuid": "a24455f372e6a847ce374c9a4997adaacbbdbda0"
   },
   "outputs": [],
   "source": [
    "Importance = pd.DataFrame({'Importance':randomforest_model.feature_importances_*100}, index=train_set.columns)\n",
    "Importance.sort_values('Importance', axis=0, ascending=True).plot(kind='barh', color='r', )"
   ]
  },
  {
   "cell_type": "code",
   "execution_count": null,
   "metadata": {
    "_uuid": "c37cede31700477469368d4cdf00d1c7b57d1e7d"
   },
   "outputs": [],
   "source": [
    "predicted_random=randomforest_model.predict(test_set)\n",
    "randomforest_model.score(test_set,test_labels)"
   ]
  },
  {
   "cell_type": "markdown",
   "metadata": {
    "_uuid": "76c992130ff4fa6c6e1967e1160fc6d9186f6d56"
   },
   "source": [
    "### KNN ( K - Nearest Neighbour )"
   ]
  },
  {
   "cell_type": "code",
   "execution_count": null,
   "metadata": {
    "_uuid": "e1cd7fc93cd71a65dd032f2dff2cd8995db0990e"
   },
   "outputs": [],
   "source": [
    "train_set_indep = data.drop(['Experience' ,'ID'] , axis = 1).drop(labels= \"PersonalLoan\" , axis = 1)\n",
    "train_set_dep = data[\"PersonalLoan\"]\n",
    "X = np.array(train_set_indep)\n",
    "Y = np.array(train_set_dep)\n",
    "X_Train = X[ :3500, :]\n",
    "X_Test = X[3501: , :]\n",
    "Y_Train = Y[:3500, ]\n",
    "Y_Test = Y[3501:, ]"
   ]
  },
  {
   "cell_type": "code",
   "execution_count": null,
   "metadata": {
    "_uuid": "cc288bcb0e44a3b4633ddee739d45a57fd8950e4"
   },
   "outputs": [],
   "source": [
    "knn = KNeighborsClassifier(n_neighbors= 21 , weights = 'uniform', metric='euclidean')\n",
    "knn.fit(X_Train, Y_Train)    \n",
    "predicted = knn.predict(X_Test)\n",
    "from sklearn.metrics import accuracy_score\n",
    "acc = accuracy_score(Y_Test, predicted)\n",
    "print(acc)"
   ]
  },
  {
   "cell_type": "markdown",
   "metadata": {
    "_uuid": "69579c436e071ee9d1379fd6c481c427419025fe"
   },
   "source": [
    "### Model comparison"
   ]
  },
  {
   "cell_type": "code",
   "execution_count": null,
   "metadata": {
    "_uuid": "0f07bf461b9fec69d8593e232d44c41daf50bd5d"
   },
   "outputs": [],
   "source": [
    "X=data.drop(['PersonalLoan','Experience','ID'],axis=1)\n",
    "y=data.pop('PersonalLoan')"
   ]
  },
  {
   "cell_type": "code",
   "execution_count": null,
   "metadata": {
    "_uuid": "66d364219a661d00872a2a12b8bdb5b137a3f72e"
   },
   "outputs": [],
   "source": [
    "models = []\n",
    "models.append(('KNN', KNeighborsClassifier()))\n",
    "models.append(('CART', DecisionTreeClassifier()))\n",
    "models.append(('NB', GaussianNB()))\n",
    "models.append(('RF', RandomForestClassifier()))\n",
    "# evaluate each model in turn\n",
    "results = []\n",
    "names = []\n",
    "scoring = 'accuracy'\n",
    "for name, model in models:\n",
    "\tkfold = model_selection.KFold(n_splits=10, random_state=12345)\n",
    "\tcv_results = model_selection.cross_val_score(model, X, y, cv=kfold, scoring=scoring)\n",
    "\tresults.append(cv_results)\n",
    "\tnames.append(name)\n",
    "\tmsg = \"%s: %f (%f)\" % (name, cv_results.mean(), cv_results.std())\n",
    "\tprint(msg)\n",
    "# boxplot algorithm comparison\n",
    "fig = plt.figure()\n",
    "fig.suptitle('Algorithm Comparison')\n",
    "ax = fig.add_subplot(111)\n",
    "plt.boxplot(results)\n",
    "ax.set_xticklabels(names)\n",
    "plt.show()"
   ]
  },
  {
   "cell_type": "markdown",
   "metadata": {
    "_uuid": "61a4326a8e076332c88bf4d8282615508d116443"
   },
   "source": [
    "### Conclusion\n",
    "The aim of the universal bank is to convert there liability customers into loan customers. They want to set up a new marketing campaign; hence, they need information about the connection between the variables given in the data. Four classification algorithms were used in this study. From the above graph , it seems like **Decision Tree** algorithm have the highest accuracy and we can choose that as our final model"
   ]
  },
  {
   "cell_type": "code",
   "execution_count": null,
   "metadata": {
    "_uuid": "a5b3ddc14575e37a405b2acbcf4b21faea55ec18"
   },
   "outputs": [],
   "source": []
  }
 ],
 "metadata": {
  "kernelspec": {
   "display_name": "Python 3",
   "language": "python",
   "name": "python3"
  },
  "language_info": {
   "codemirror_mode": {
    "name": "ipython",
    "version": 3
   },
   "file_extension": ".py",
   "mimetype": "text/x-python",
   "name": "python",
   "nbconvert_exporter": "python",
   "pygments_lexer": "ipython3",
   "version": "3.7.4"
  }
 },
 "nbformat": 4,
 "nbformat_minor": 1
}
