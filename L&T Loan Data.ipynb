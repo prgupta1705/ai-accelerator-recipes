{
 "cells": [
  {
   "cell_type": "code",
   "execution_count": 1,
   "metadata": {},
   "outputs": [
    {
     "data": {
      "text/plain": [
       "'1.0.52.dev0'"
      ]
     },
     "execution_count": 1,
     "metadata": {},
     "output_type": "execute_result"
    }
   ],
   "source": [
    "# !pip install fastai==0.7 --no-deps\n",
    "# !pip install torch==0.4.1 torchvision==0.2.1\n",
    "import fastai\n",
    "from fastai.vision import *\n",
    "from fastai.collab import *\n",
    "from fastai.tabular import *\n",
    "fastai.__version__"
   ]
  },
  {
   "cell_type": "code",
   "execution_count": 2,
   "metadata": {},
   "outputs": [
    {
     "name": "stdout",
     "output_type": "stream",
     "text": [
      "__notebook__.ipynb  __output__.json\r\n"
     ]
    }
   ],
   "source": [
    "path = '../working'\n",
    "!ls {path}"
   ]
  },
  {
   "cell_type": "code",
   "execution_count": 3,
   "metadata": {
    "_cell_guid": "b1076dfc-b9ad-4769-8c92-a6c4dae69d19",
    "_uuid": "8f2839f25d086af736a60e9eeb907d3b93b6e0e5"
   },
   "outputs": [
    {
     "name": "stdout",
     "output_type": "stream",
     "text": [
      "['test_bqCt9Pv.csv', 'sample_submission_24jSKY6.csv', 'train.csv']\n"
     ]
    }
   ],
   "source": [
    "# This Python 3 environment comes with many helpful analytics libraries installed\n",
    "# It is defined by the kaggle/python docker image: https://github.com/kaggle/docker-python\n",
    "# For example, here's several helpful packages to load in \n",
    "\n",
    "import numpy as np # linear algebra\n",
    "import pandas as pd # data processing, CSV file I/O (e.g. pd.read_csv)\n",
    "\n",
    "# Input data files are available in the \"../input/\" directory.\n",
    "# For example, running this (by clicking run or pressing Shift+Enter) will list the files in the input directory\n",
    "# from fastai.collab import *\n",
    "# from fastai.tabular import *\n",
    "from fastai.imports import *\n",
    "#from fastai.structured import *\n",
    "from pandas_summary import DataFrameSummary\n",
    "from sklearn.ensemble import RandomForestRegressor, RandomForestClassifier\n",
    "from IPython.display import display\n",
    "from sklearn.model_selection import StratifiedKFold\n",
    "from xgboost import XGBClassifier\n",
    "import itertools\n",
    "from sklearn.metrics import *\n",
    "from sklearn import metrics\n",
    "from sklearn.preprocessing import LabelEncoder\n",
    "import os\n",
    "print(os.listdir(\"../input\"))\n",
    "import matplotlib.pyplot as plt\n",
    "import seaborn as sns\n",
    "from fastai.imports import *\n",
    "# Any results you write to the current directory are saved as output."
   ]
  },
  {
   "cell_type": "code",
   "execution_count": 4,
   "metadata": {},
   "outputs": [
    {
     "name": "stdout",
     "output_type": "stream",
     "text": [
      "sample_submission_24jSKY6.csv  test_bqCt9Pv.csv  train.csv\r\n"
     ]
    }
   ],
   "source": [
    "PATH = \"../input\"\n",
    "!ls {PATH}"
   ]
  },
  {
   "cell_type": "code",
   "execution_count": 5,
   "metadata": {},
   "outputs": [
    {
     "name": "stdout",
     "output_type": "stream",
     "text": [
      "__notebook__.ipynb  __output__.json\r\n"
     ]
    }
   ],
   "source": [
    "path = '../working'\n",
    "!ls {path}"
   ]
  },
  {
   "cell_type": "code",
   "execution_count": 6,
   "metadata": {
    "_cell_guid": "79c7e3d0-c299-4dcb-8224-4455121ee9b0",
    "_uuid": "d629ff2d2480ee46fbb7e2d37f6b5fab8052498a"
   },
   "outputs": [
    {
     "name": "stdout",
     "output_type": "stream",
     "text": [
      "Shape of Train : (233154, 41)\n",
      "Shape of Test : (112392, 40)\n"
     ]
    }
   ],
   "source": [
    "# reading the data\n",
    "\n",
    "train = pd.read_csv('../input/train.csv')\n",
    "test = pd.read_csv('../input/test_bqCt9Pv.csv')\n",
    "\n",
    "# getting the shapes of the datasets\n",
    "print(\"Shape of Train :\", train.shape)\n",
    "print(\"Shape of Test :\", test.shape)"
   ]
  },
  {
   "cell_type": "code",
   "execution_count": 7,
   "metadata": {},
   "outputs": [],
   "source": [
    "def display_all(df):\n",
    "    with pd.option_context(\"display.max_rows\", 1000): \n",
    "        with pd.option_context(\"display.max_columns\", 1000): \n",
    "            display(df)"
   ]
  },
  {
   "cell_type": "code",
   "execution_count": 8,
   "metadata": {},
   "outputs": [
    {
     "data": {
      "text/html": [
       "<div>\n",
       "<style scoped>\n",
       "    .dataframe tbody tr th:only-of-type {\n",
       "        vertical-align: middle;\n",
       "    }\n",
       "\n",
       "    .dataframe tbody tr th {\n",
       "        vertical-align: top;\n",
       "    }\n",
       "\n",
       "    .dataframe thead th {\n",
       "        text-align: right;\n",
       "    }\n",
       "</style>\n",
       "<table border=\"1\" class=\"dataframe\">\n",
       "  <thead>\n",
       "    <tr style=\"text-align: right;\">\n",
       "      <th></th>\n",
       "      <th>UniqueID</th>\n",
       "      <th>disbursed_amount</th>\n",
       "      <th>asset_cost</th>\n",
       "      <th>ltv</th>\n",
       "      <th>branch_id</th>\n",
       "      <th>supplier_id</th>\n",
       "      <th>manufacturer_id</th>\n",
       "      <th>Current_pincode_ID</th>\n",
       "      <th>Date.of.Birth</th>\n",
       "      <th>Employment.Type</th>\n",
       "      <th>DisbursalDate</th>\n",
       "      <th>State_ID</th>\n",
       "      <th>Employee_code_ID</th>\n",
       "      <th>MobileNo_Avl_Flag</th>\n",
       "      <th>Aadhar_flag</th>\n",
       "      <th>PAN_flag</th>\n",
       "      <th>VoterID_flag</th>\n",
       "      <th>Driving_flag</th>\n",
       "      <th>Passport_flag</th>\n",
       "      <th>PERFORM_CNS.SCORE</th>\n",
       "      <th>PERFORM_CNS.SCORE.DESCRIPTION</th>\n",
       "      <th>PRI.NO.OF.ACCTS</th>\n",
       "      <th>PRI.ACTIVE.ACCTS</th>\n",
       "      <th>PRI.OVERDUE.ACCTS</th>\n",
       "      <th>PRI.CURRENT.BALANCE</th>\n",
       "      <th>PRI.SANCTIONED.AMOUNT</th>\n",
       "      <th>PRI.DISBURSED.AMOUNT</th>\n",
       "      <th>SEC.NO.OF.ACCTS</th>\n",
       "      <th>SEC.ACTIVE.ACCTS</th>\n",
       "      <th>SEC.OVERDUE.ACCTS</th>\n",
       "      <th>SEC.CURRENT.BALANCE</th>\n",
       "      <th>SEC.SANCTIONED.AMOUNT</th>\n",
       "      <th>SEC.DISBURSED.AMOUNT</th>\n",
       "      <th>PRIMARY.INSTAL.AMT</th>\n",
       "      <th>SEC.INSTAL.AMT</th>\n",
       "      <th>NEW.ACCTS.IN.LAST.SIX.MONTHS</th>\n",
       "      <th>DELINQUENT.ACCTS.IN.LAST.SIX.MONTHS</th>\n",
       "      <th>AVERAGE.ACCT.AGE</th>\n",
       "      <th>CREDIT.HISTORY.LENGTH</th>\n",
       "      <th>NO.OF_INQUIRIES</th>\n",
       "      <th>loan_default</th>\n",
       "    </tr>\n",
       "  </thead>\n",
       "  <tbody>\n",
       "    <tr>\n",
       "      <th>0</th>\n",
       "      <td>420825</td>\n",
       "      <td>50578</td>\n",
       "      <td>58400</td>\n",
       "      <td>89.55</td>\n",
       "      <td>67</td>\n",
       "      <td>22807</td>\n",
       "      <td>45</td>\n",
       "      <td>1441</td>\n",
       "      <td>01-01-84</td>\n",
       "      <td>Salaried</td>\n",
       "      <td>03-08-18</td>\n",
       "      <td>6</td>\n",
       "      <td>1998</td>\n",
       "      <td>1</td>\n",
       "      <td>1</td>\n",
       "      <td>0</td>\n",
       "      <td>0</td>\n",
       "      <td>0</td>\n",
       "      <td>0</td>\n",
       "      <td>0</td>\n",
       "      <td>No Bureau History Available</td>\n",
       "      <td>0</td>\n",
       "      <td>0</td>\n",
       "      <td>0</td>\n",
       "      <td>0</td>\n",
       "      <td>0</td>\n",
       "      <td>0</td>\n",
       "      <td>0</td>\n",
       "      <td>0</td>\n",
       "      <td>0</td>\n",
       "      <td>0</td>\n",
       "      <td>0</td>\n",
       "      <td>0</td>\n",
       "      <td>0</td>\n",
       "      <td>0</td>\n",
       "      <td>0</td>\n",
       "      <td>0</td>\n",
       "      <td>0yrs 0mon</td>\n",
       "      <td>0yrs 0mon</td>\n",
       "      <td>0</td>\n",
       "      <td>0</td>\n",
       "    </tr>\n",
       "    <tr>\n",
       "      <th>1</th>\n",
       "      <td>537409</td>\n",
       "      <td>47145</td>\n",
       "      <td>65550</td>\n",
       "      <td>73.23</td>\n",
       "      <td>67</td>\n",
       "      <td>22807</td>\n",
       "      <td>45</td>\n",
       "      <td>1502</td>\n",
       "      <td>31-07-85</td>\n",
       "      <td>Self employed</td>\n",
       "      <td>26-09-18</td>\n",
       "      <td>6</td>\n",
       "      <td>1998</td>\n",
       "      <td>1</td>\n",
       "      <td>1</td>\n",
       "      <td>0</td>\n",
       "      <td>0</td>\n",
       "      <td>0</td>\n",
       "      <td>0</td>\n",
       "      <td>598</td>\n",
       "      <td>I-Medium Risk</td>\n",
       "      <td>1</td>\n",
       "      <td>1</td>\n",
       "      <td>1</td>\n",
       "      <td>27600</td>\n",
       "      <td>50200</td>\n",
       "      <td>50200</td>\n",
       "      <td>0</td>\n",
       "      <td>0</td>\n",
       "      <td>0</td>\n",
       "      <td>0</td>\n",
       "      <td>0</td>\n",
       "      <td>0</td>\n",
       "      <td>1991</td>\n",
       "      <td>0</td>\n",
       "      <td>0</td>\n",
       "      <td>1</td>\n",
       "      <td>1yrs 11mon</td>\n",
       "      <td>1yrs 11mon</td>\n",
       "      <td>0</td>\n",
       "      <td>1</td>\n",
       "    </tr>\n",
       "    <tr>\n",
       "      <th>2</th>\n",
       "      <td>417566</td>\n",
       "      <td>53278</td>\n",
       "      <td>61360</td>\n",
       "      <td>89.63</td>\n",
       "      <td>67</td>\n",
       "      <td>22807</td>\n",
       "      <td>45</td>\n",
       "      <td>1497</td>\n",
       "      <td>24-08-85</td>\n",
       "      <td>Self employed</td>\n",
       "      <td>01-08-18</td>\n",
       "      <td>6</td>\n",
       "      <td>1998</td>\n",
       "      <td>1</td>\n",
       "      <td>1</td>\n",
       "      <td>0</td>\n",
       "      <td>0</td>\n",
       "      <td>0</td>\n",
       "      <td>0</td>\n",
       "      <td>0</td>\n",
       "      <td>No Bureau History Available</td>\n",
       "      <td>0</td>\n",
       "      <td>0</td>\n",
       "      <td>0</td>\n",
       "      <td>0</td>\n",
       "      <td>0</td>\n",
       "      <td>0</td>\n",
       "      <td>0</td>\n",
       "      <td>0</td>\n",
       "      <td>0</td>\n",
       "      <td>0</td>\n",
       "      <td>0</td>\n",
       "      <td>0</td>\n",
       "      <td>0</td>\n",
       "      <td>0</td>\n",
       "      <td>0</td>\n",
       "      <td>0</td>\n",
       "      <td>0yrs 0mon</td>\n",
       "      <td>0yrs 0mon</td>\n",
       "      <td>0</td>\n",
       "      <td>0</td>\n",
       "    </tr>\n",
       "    <tr>\n",
       "      <th>3</th>\n",
       "      <td>624493</td>\n",
       "      <td>57513</td>\n",
       "      <td>66113</td>\n",
       "      <td>88.48</td>\n",
       "      <td>67</td>\n",
       "      <td>22807</td>\n",
       "      <td>45</td>\n",
       "      <td>1501</td>\n",
       "      <td>30-12-93</td>\n",
       "      <td>Self employed</td>\n",
       "      <td>26-10-18</td>\n",
       "      <td>6</td>\n",
       "      <td>1998</td>\n",
       "      <td>1</td>\n",
       "      <td>1</td>\n",
       "      <td>0</td>\n",
       "      <td>0</td>\n",
       "      <td>0</td>\n",
       "      <td>0</td>\n",
       "      <td>305</td>\n",
       "      <td>L-Very High Risk</td>\n",
       "      <td>3</td>\n",
       "      <td>0</td>\n",
       "      <td>0</td>\n",
       "      <td>0</td>\n",
       "      <td>0</td>\n",
       "      <td>0</td>\n",
       "      <td>0</td>\n",
       "      <td>0</td>\n",
       "      <td>0</td>\n",
       "      <td>0</td>\n",
       "      <td>0</td>\n",
       "      <td>0</td>\n",
       "      <td>31</td>\n",
       "      <td>0</td>\n",
       "      <td>0</td>\n",
       "      <td>0</td>\n",
       "      <td>0yrs 8mon</td>\n",
       "      <td>1yrs 3mon</td>\n",
       "      <td>1</td>\n",
       "      <td>1</td>\n",
       "    </tr>\n",
       "    <tr>\n",
       "      <th>4</th>\n",
       "      <td>539055</td>\n",
       "      <td>52378</td>\n",
       "      <td>60300</td>\n",
       "      <td>88.39</td>\n",
       "      <td>67</td>\n",
       "      <td>22807</td>\n",
       "      <td>45</td>\n",
       "      <td>1495</td>\n",
       "      <td>09-12-77</td>\n",
       "      <td>Self employed</td>\n",
       "      <td>26-09-18</td>\n",
       "      <td>6</td>\n",
       "      <td>1998</td>\n",
       "      <td>1</td>\n",
       "      <td>1</td>\n",
       "      <td>0</td>\n",
       "      <td>0</td>\n",
       "      <td>0</td>\n",
       "      <td>0</td>\n",
       "      <td>0</td>\n",
       "      <td>No Bureau History Available</td>\n",
       "      <td>0</td>\n",
       "      <td>0</td>\n",
       "      <td>0</td>\n",
       "      <td>0</td>\n",
       "      <td>0</td>\n",
       "      <td>0</td>\n",
       "      <td>0</td>\n",
       "      <td>0</td>\n",
       "      <td>0</td>\n",
       "      <td>0</td>\n",
       "      <td>0</td>\n",
       "      <td>0</td>\n",
       "      <td>0</td>\n",
       "      <td>0</td>\n",
       "      <td>0</td>\n",
       "      <td>0</td>\n",
       "      <td>0yrs 0mon</td>\n",
       "      <td>0yrs 0mon</td>\n",
       "      <td>1</td>\n",
       "      <td>1</td>\n",
       "    </tr>\n",
       "  </tbody>\n",
       "</table>\n",
       "</div>"
      ],
      "text/plain": [
       "   UniqueID  disbursed_amount      ...       NO.OF_INQUIRIES  loan_default\n",
       "0    420825             50578      ...                     0             0\n",
       "1    537409             47145      ...                     0             1\n",
       "2    417566             53278      ...                     0             0\n",
       "3    624493             57513      ...                     1             1\n",
       "4    539055             52378      ...                     1             1\n",
       "\n",
       "[5 rows x 41 columns]"
      ]
     },
     "execution_count": 8,
     "metadata": {},
     "output_type": "execute_result"
    }
   ],
   "source": [
    "# lets look at the head of the train\n",
    "\n",
    "train.head()"
   ]
  },
  {
   "cell_type": "code",
   "execution_count": 9,
   "metadata": {},
   "outputs": [
    {
     "data": {
      "text/html": [
       "<div>\n",
       "<style scoped>\n",
       "    .dataframe tbody tr th:only-of-type {\n",
       "        vertical-align: middle;\n",
       "    }\n",
       "\n",
       "    .dataframe tbody tr th {\n",
       "        vertical-align: top;\n",
       "    }\n",
       "\n",
       "    .dataframe thead th {\n",
       "        text-align: right;\n",
       "    }\n",
       "</style>\n",
       "<table border=\"1\" class=\"dataframe\">\n",
       "  <thead>\n",
       "    <tr style=\"text-align: right;\">\n",
       "      <th></th>\n",
       "      <th>UniqueID</th>\n",
       "      <th>disbursed_amount</th>\n",
       "      <th>asset_cost</th>\n",
       "      <th>ltv</th>\n",
       "      <th>branch_id</th>\n",
       "      <th>supplier_id</th>\n",
       "      <th>manufacturer_id</th>\n",
       "      <th>Current_pincode_ID</th>\n",
       "      <th>Date.of.Birth</th>\n",
       "      <th>Employment.Type</th>\n",
       "      <th>DisbursalDate</th>\n",
       "      <th>State_ID</th>\n",
       "      <th>Employee_code_ID</th>\n",
       "      <th>MobileNo_Avl_Flag</th>\n",
       "      <th>Aadhar_flag</th>\n",
       "      <th>PAN_flag</th>\n",
       "      <th>VoterID_flag</th>\n",
       "      <th>Driving_flag</th>\n",
       "      <th>Passport_flag</th>\n",
       "      <th>PERFORM_CNS.SCORE</th>\n",
       "      <th>PERFORM_CNS.SCORE.DESCRIPTION</th>\n",
       "      <th>PRI.NO.OF.ACCTS</th>\n",
       "      <th>PRI.ACTIVE.ACCTS</th>\n",
       "      <th>PRI.OVERDUE.ACCTS</th>\n",
       "      <th>PRI.CURRENT.BALANCE</th>\n",
       "      <th>PRI.SANCTIONED.AMOUNT</th>\n",
       "      <th>PRI.DISBURSED.AMOUNT</th>\n",
       "      <th>SEC.NO.OF.ACCTS</th>\n",
       "      <th>SEC.ACTIVE.ACCTS</th>\n",
       "      <th>SEC.OVERDUE.ACCTS</th>\n",
       "      <th>SEC.CURRENT.BALANCE</th>\n",
       "      <th>SEC.SANCTIONED.AMOUNT</th>\n",
       "      <th>SEC.DISBURSED.AMOUNT</th>\n",
       "      <th>PRIMARY.INSTAL.AMT</th>\n",
       "      <th>SEC.INSTAL.AMT</th>\n",
       "      <th>NEW.ACCTS.IN.LAST.SIX.MONTHS</th>\n",
       "      <th>DELINQUENT.ACCTS.IN.LAST.SIX.MONTHS</th>\n",
       "      <th>AVERAGE.ACCT.AGE</th>\n",
       "      <th>CREDIT.HISTORY.LENGTH</th>\n",
       "      <th>NO.OF_INQUIRIES</th>\n",
       "    </tr>\n",
       "  </thead>\n",
       "  <tbody>\n",
       "    <tr>\n",
       "      <th>0</th>\n",
       "      <td>655269</td>\n",
       "      <td>53478</td>\n",
       "      <td>63558</td>\n",
       "      <td>86.54</td>\n",
       "      <td>67</td>\n",
       "      <td>22807</td>\n",
       "      <td>45</td>\n",
       "      <td>1497</td>\n",
       "      <td>01-01-74</td>\n",
       "      <td>Salaried</td>\n",
       "      <td>03-11-18</td>\n",
       "      <td>6</td>\n",
       "      <td>1998</td>\n",
       "      <td>1</td>\n",
       "      <td>1</td>\n",
       "      <td>0</td>\n",
       "      <td>0</td>\n",
       "      <td>0</td>\n",
       "      <td>0</td>\n",
       "      <td>0</td>\n",
       "      <td>No Bureau History Available</td>\n",
       "      <td>0</td>\n",
       "      <td>0</td>\n",
       "      <td>0</td>\n",
       "      <td>0</td>\n",
       "      <td>0</td>\n",
       "      <td>0</td>\n",
       "      <td>0</td>\n",
       "      <td>0</td>\n",
       "      <td>0</td>\n",
       "      <td>0</td>\n",
       "      <td>0</td>\n",
       "      <td>0</td>\n",
       "      <td>0</td>\n",
       "      <td>0</td>\n",
       "      <td>0</td>\n",
       "      <td>0</td>\n",
       "      <td>0yrs 0mon</td>\n",
       "      <td>0yrs 0mon</td>\n",
       "      <td>0</td>\n",
       "    </tr>\n",
       "    <tr>\n",
       "      <th>1</th>\n",
       "      <td>723482</td>\n",
       "      <td>55513</td>\n",
       "      <td>63163</td>\n",
       "      <td>89.45</td>\n",
       "      <td>67</td>\n",
       "      <td>22807</td>\n",
       "      <td>45</td>\n",
       "      <td>1497</td>\n",
       "      <td>20-05-85</td>\n",
       "      <td>Self employed</td>\n",
       "      <td>20-11-18</td>\n",
       "      <td>6</td>\n",
       "      <td>1998</td>\n",
       "      <td>1</td>\n",
       "      <td>1</td>\n",
       "      <td>0</td>\n",
       "      <td>0</td>\n",
       "      <td>0</td>\n",
       "      <td>0</td>\n",
       "      <td>749</td>\n",
       "      <td>C-Very Low Risk</td>\n",
       "      <td>2</td>\n",
       "      <td>1</td>\n",
       "      <td>0</td>\n",
       "      <td>43898</td>\n",
       "      <td>48780</td>\n",
       "      <td>48780</td>\n",
       "      <td>0</td>\n",
       "      <td>0</td>\n",
       "      <td>0</td>\n",
       "      <td>0</td>\n",
       "      <td>0</td>\n",
       "      <td>0</td>\n",
       "      <td>5605</td>\n",
       "      <td>0</td>\n",
       "      <td>1</td>\n",
       "      <td>0</td>\n",
       "      <td>0yrs 8mon</td>\n",
       "      <td>1yrs 0mon</td>\n",
       "      <td>1</td>\n",
       "    </tr>\n",
       "    <tr>\n",
       "      <th>2</th>\n",
       "      <td>758529</td>\n",
       "      <td>65282</td>\n",
       "      <td>84320</td>\n",
       "      <td>79.93</td>\n",
       "      <td>78</td>\n",
       "      <td>23135</td>\n",
       "      <td>86</td>\n",
       "      <td>2071</td>\n",
       "      <td>14-10-95</td>\n",
       "      <td>Salaried</td>\n",
       "      <td>29-11-18</td>\n",
       "      <td>4</td>\n",
       "      <td>1646</td>\n",
       "      <td>1</td>\n",
       "      <td>1</td>\n",
       "      <td>1</td>\n",
       "      <td>0</td>\n",
       "      <td>0</td>\n",
       "      <td>0</td>\n",
       "      <td>0</td>\n",
       "      <td>No Bureau History Available</td>\n",
       "      <td>0</td>\n",
       "      <td>0</td>\n",
       "      <td>0</td>\n",
       "      <td>0</td>\n",
       "      <td>0</td>\n",
       "      <td>0</td>\n",
       "      <td>0</td>\n",
       "      <td>0</td>\n",
       "      <td>0</td>\n",
       "      <td>0</td>\n",
       "      <td>0</td>\n",
       "      <td>0</td>\n",
       "      <td>0</td>\n",
       "      <td>0</td>\n",
       "      <td>0</td>\n",
       "      <td>0</td>\n",
       "      <td>0yrs 0mon</td>\n",
       "      <td>0yrs 0mon</td>\n",
       "      <td>0</td>\n",
       "    </tr>\n",
       "    <tr>\n",
       "      <th>3</th>\n",
       "      <td>763449</td>\n",
       "      <td>46905</td>\n",
       "      <td>63896</td>\n",
       "      <td>76.58</td>\n",
       "      <td>78</td>\n",
       "      <td>17014</td>\n",
       "      <td>45</td>\n",
       "      <td>2070</td>\n",
       "      <td>01-06-73</td>\n",
       "      <td>Self employed</td>\n",
       "      <td>29-11-18</td>\n",
       "      <td>4</td>\n",
       "      <td>1646</td>\n",
       "      <td>1</td>\n",
       "      <td>1</td>\n",
       "      <td>0</td>\n",
       "      <td>0</td>\n",
       "      <td>0</td>\n",
       "      <td>0</td>\n",
       "      <td>14</td>\n",
       "      <td>Not Scored: Only a Guarantor</td>\n",
       "      <td>1</td>\n",
       "      <td>1</td>\n",
       "      <td>1</td>\n",
       "      <td>132480</td>\n",
       "      <td>255000</td>\n",
       "      <td>255000</td>\n",
       "      <td>0</td>\n",
       "      <td>0</td>\n",
       "      <td>0</td>\n",
       "      <td>0</td>\n",
       "      <td>0</td>\n",
       "      <td>0</td>\n",
       "      <td>0</td>\n",
       "      <td>0</td>\n",
       "      <td>0</td>\n",
       "      <td>0</td>\n",
       "      <td>2yrs 5mon</td>\n",
       "      <td>2yrs 5mon</td>\n",
       "      <td>0</td>\n",
       "    </tr>\n",
       "    <tr>\n",
       "      <th>4</th>\n",
       "      <td>708663</td>\n",
       "      <td>51428</td>\n",
       "      <td>63896</td>\n",
       "      <td>86.08</td>\n",
       "      <td>78</td>\n",
       "      <td>17014</td>\n",
       "      <td>45</td>\n",
       "      <td>2069</td>\n",
       "      <td>01-06-72</td>\n",
       "      <td>Salaried</td>\n",
       "      <td>17-11-18</td>\n",
       "      <td>4</td>\n",
       "      <td>1646</td>\n",
       "      <td>1</td>\n",
       "      <td>1</td>\n",
       "      <td>0</td>\n",
       "      <td>0</td>\n",
       "      <td>0</td>\n",
       "      <td>0</td>\n",
       "      <td>0</td>\n",
       "      <td>No Bureau History Available</td>\n",
       "      <td>0</td>\n",
       "      <td>0</td>\n",
       "      <td>0</td>\n",
       "      <td>0</td>\n",
       "      <td>0</td>\n",
       "      <td>0</td>\n",
       "      <td>0</td>\n",
       "      <td>0</td>\n",
       "      <td>0</td>\n",
       "      <td>0</td>\n",
       "      <td>0</td>\n",
       "      <td>0</td>\n",
       "      <td>0</td>\n",
       "      <td>0</td>\n",
       "      <td>0</td>\n",
       "      <td>0</td>\n",
       "      <td>0yrs 0mon</td>\n",
       "      <td>0yrs 0mon</td>\n",
       "      <td>0</td>\n",
       "    </tr>\n",
       "  </tbody>\n",
       "</table>\n",
       "</div>"
      ],
      "text/plain": [
       "   UniqueID       ...         NO.OF_INQUIRIES\n",
       "0    655269       ...                       0\n",
       "1    723482       ...                       1\n",
       "2    758529       ...                       0\n",
       "3    763449       ...                       0\n",
       "4    708663       ...                       0\n",
       "\n",
       "[5 rows x 40 columns]"
      ]
     },
     "execution_count": 9,
     "metadata": {},
     "output_type": "execute_result"
    }
   ],
   "source": [
    "# lets look at the head of the test data\n",
    "\n",
    "test.head()"
   ]
  },
  {
   "cell_type": "code",
   "execution_count": 10,
   "metadata": {},
   "outputs": [
    {
     "data": {
      "text/html": [
       "<div>\n",
       "<style scoped>\n",
       "    .dataframe tbody tr th:only-of-type {\n",
       "        vertical-align: middle;\n",
       "    }\n",
       "\n",
       "    .dataframe tbody tr th {\n",
       "        vertical-align: top;\n",
       "    }\n",
       "\n",
       "    .dataframe thead th {\n",
       "        text-align: right;\n",
       "    }\n",
       "</style>\n",
       "<table border=\"1\" class=\"dataframe\">\n",
       "  <thead>\n",
       "    <tr style=\"text-align: right;\">\n",
       "      <th></th>\n",
       "      <th>UniqueID</th>\n",
       "      <th>disbursed_amount</th>\n",
       "      <th>asset_cost</th>\n",
       "      <th>ltv</th>\n",
       "      <th>branch_id</th>\n",
       "      <th>supplier_id</th>\n",
       "      <th>manufacturer_id</th>\n",
       "      <th>Current_pincode_ID</th>\n",
       "      <th>State_ID</th>\n",
       "      <th>Employee_code_ID</th>\n",
       "      <th>MobileNo_Avl_Flag</th>\n",
       "      <th>Aadhar_flag</th>\n",
       "      <th>PAN_flag</th>\n",
       "      <th>VoterID_flag</th>\n",
       "      <th>Driving_flag</th>\n",
       "      <th>Passport_flag</th>\n",
       "      <th>PERFORM_CNS.SCORE</th>\n",
       "      <th>PRI.NO.OF.ACCTS</th>\n",
       "      <th>PRI.ACTIVE.ACCTS</th>\n",
       "      <th>PRI.OVERDUE.ACCTS</th>\n",
       "      <th>PRI.CURRENT.BALANCE</th>\n",
       "      <th>PRI.SANCTIONED.AMOUNT</th>\n",
       "      <th>PRI.DISBURSED.AMOUNT</th>\n",
       "      <th>SEC.NO.OF.ACCTS</th>\n",
       "      <th>SEC.ACTIVE.ACCTS</th>\n",
       "      <th>SEC.OVERDUE.ACCTS</th>\n",
       "      <th>SEC.CURRENT.BALANCE</th>\n",
       "      <th>SEC.SANCTIONED.AMOUNT</th>\n",
       "      <th>SEC.DISBURSED.AMOUNT</th>\n",
       "      <th>PRIMARY.INSTAL.AMT</th>\n",
       "      <th>SEC.INSTAL.AMT</th>\n",
       "      <th>NEW.ACCTS.IN.LAST.SIX.MONTHS</th>\n",
       "      <th>DELINQUENT.ACCTS.IN.LAST.SIX.MONTHS</th>\n",
       "      <th>NO.OF_INQUIRIES</th>\n",
       "      <th>loan_default</th>\n",
       "    </tr>\n",
       "  </thead>\n",
       "  <tbody>\n",
       "    <tr>\n",
       "      <th>count</th>\n",
       "      <td>233154.000000</td>\n",
       "      <td>233154.000000</td>\n",
       "      <td>2.331540e+05</td>\n",
       "      <td>233154.000000</td>\n",
       "      <td>233154.000000</td>\n",
       "      <td>233154.000000</td>\n",
       "      <td>233154.000000</td>\n",
       "      <td>233154.000000</td>\n",
       "      <td>233154.000000</td>\n",
       "      <td>233154.000000</td>\n",
       "      <td>233154.0</td>\n",
       "      <td>233154.00000</td>\n",
       "      <td>233154.000000</td>\n",
       "      <td>233154.000000</td>\n",
       "      <td>233154.000000</td>\n",
       "      <td>233154.000000</td>\n",
       "      <td>233154.000000</td>\n",
       "      <td>233154.000000</td>\n",
       "      <td>233154.000000</td>\n",
       "      <td>233154.000000</td>\n",
       "      <td>2.331540e+05</td>\n",
       "      <td>2.331540e+05</td>\n",
       "      <td>2.331540e+05</td>\n",
       "      <td>233154.000000</td>\n",
       "      <td>233154.000000</td>\n",
       "      <td>233154.000000</td>\n",
       "      <td>2.331540e+05</td>\n",
       "      <td>2.331540e+05</td>\n",
       "      <td>2.331540e+05</td>\n",
       "      <td>2.331540e+05</td>\n",
       "      <td>2.331540e+05</td>\n",
       "      <td>233154.000000</td>\n",
       "      <td>233154.000000</td>\n",
       "      <td>233154.000000</td>\n",
       "      <td>233154.000000</td>\n",
       "    </tr>\n",
       "    <tr>\n",
       "      <th>mean</th>\n",
       "      <td>535917.573376</td>\n",
       "      <td>54356.993528</td>\n",
       "      <td>7.586507e+04</td>\n",
       "      <td>74.746530</td>\n",
       "      <td>72.936094</td>\n",
       "      <td>19638.635035</td>\n",
       "      <td>69.028054</td>\n",
       "      <td>3396.880247</td>\n",
       "      <td>7.262243</td>\n",
       "      <td>1549.477148</td>\n",
       "      <td>1.0</td>\n",
       "      <td>0.84032</td>\n",
       "      <td>0.075577</td>\n",
       "      <td>0.144943</td>\n",
       "      <td>0.023242</td>\n",
       "      <td>0.002127</td>\n",
       "      <td>289.462994</td>\n",
       "      <td>2.440636</td>\n",
       "      <td>1.039896</td>\n",
       "      <td>0.156549</td>\n",
       "      <td>1.659001e+05</td>\n",
       "      <td>2.185039e+05</td>\n",
       "      <td>2.180659e+05</td>\n",
       "      <td>0.059081</td>\n",
       "      <td>0.027703</td>\n",
       "      <td>0.007244</td>\n",
       "      <td>5.427793e+03</td>\n",
       "      <td>7.295923e+03</td>\n",
       "      <td>7.179998e+03</td>\n",
       "      <td>1.310548e+04</td>\n",
       "      <td>3.232684e+02</td>\n",
       "      <td>0.381833</td>\n",
       "      <td>0.097481</td>\n",
       "      <td>0.206615</td>\n",
       "      <td>0.217071</td>\n",
       "    </tr>\n",
       "    <tr>\n",
       "      <th>std</th>\n",
       "      <td>68315.693711</td>\n",
       "      <td>12971.314171</td>\n",
       "      <td>1.894478e+04</td>\n",
       "      <td>11.456636</td>\n",
       "      <td>69.834995</td>\n",
       "      <td>3491.949566</td>\n",
       "      <td>22.141304</td>\n",
       "      <td>2238.147502</td>\n",
       "      <td>4.482230</td>\n",
       "      <td>975.261278</td>\n",
       "      <td>0.0</td>\n",
       "      <td>0.36631</td>\n",
       "      <td>0.264320</td>\n",
       "      <td>0.352044</td>\n",
       "      <td>0.150672</td>\n",
       "      <td>0.046074</td>\n",
       "      <td>338.374779</td>\n",
       "      <td>5.217233</td>\n",
       "      <td>1.941496</td>\n",
       "      <td>0.548787</td>\n",
       "      <td>9.422736e+05</td>\n",
       "      <td>2.374794e+06</td>\n",
       "      <td>2.377744e+06</td>\n",
       "      <td>0.626795</td>\n",
       "      <td>0.316057</td>\n",
       "      <td>0.111079</td>\n",
       "      <td>1.702370e+05</td>\n",
       "      <td>1.831560e+05</td>\n",
       "      <td>1.825925e+05</td>\n",
       "      <td>1.513679e+05</td>\n",
       "      <td>1.555369e+04</td>\n",
       "      <td>0.955107</td>\n",
       "      <td>0.384439</td>\n",
       "      <td>0.706498</td>\n",
       "      <td>0.412252</td>\n",
       "    </tr>\n",
       "    <tr>\n",
       "      <th>min</th>\n",
       "      <td>417428.000000</td>\n",
       "      <td>13320.000000</td>\n",
       "      <td>3.700000e+04</td>\n",
       "      <td>10.030000</td>\n",
       "      <td>1.000000</td>\n",
       "      <td>10524.000000</td>\n",
       "      <td>45.000000</td>\n",
       "      <td>1.000000</td>\n",
       "      <td>1.000000</td>\n",
       "      <td>1.000000</td>\n",
       "      <td>1.0</td>\n",
       "      <td>0.00000</td>\n",
       "      <td>0.000000</td>\n",
       "      <td>0.000000</td>\n",
       "      <td>0.000000</td>\n",
       "      <td>0.000000</td>\n",
       "      <td>0.000000</td>\n",
       "      <td>0.000000</td>\n",
       "      <td>0.000000</td>\n",
       "      <td>0.000000</td>\n",
       "      <td>-6.678296e+06</td>\n",
       "      <td>0.000000e+00</td>\n",
       "      <td>0.000000e+00</td>\n",
       "      <td>0.000000</td>\n",
       "      <td>0.000000</td>\n",
       "      <td>0.000000</td>\n",
       "      <td>-5.746470e+05</td>\n",
       "      <td>0.000000e+00</td>\n",
       "      <td>0.000000e+00</td>\n",
       "      <td>0.000000e+00</td>\n",
       "      <td>0.000000e+00</td>\n",
       "      <td>0.000000</td>\n",
       "      <td>0.000000</td>\n",
       "      <td>0.000000</td>\n",
       "      <td>0.000000</td>\n",
       "    </tr>\n",
       "    <tr>\n",
       "      <th>25%</th>\n",
       "      <td>476786.250000</td>\n",
       "      <td>47145.000000</td>\n",
       "      <td>6.571700e+04</td>\n",
       "      <td>68.880000</td>\n",
       "      <td>14.000000</td>\n",
       "      <td>16535.000000</td>\n",
       "      <td>48.000000</td>\n",
       "      <td>1511.000000</td>\n",
       "      <td>4.000000</td>\n",
       "      <td>713.000000</td>\n",
       "      <td>1.0</td>\n",
       "      <td>1.00000</td>\n",
       "      <td>0.000000</td>\n",
       "      <td>0.000000</td>\n",
       "      <td>0.000000</td>\n",
       "      <td>0.000000</td>\n",
       "      <td>0.000000</td>\n",
       "      <td>0.000000</td>\n",
       "      <td>0.000000</td>\n",
       "      <td>0.000000</td>\n",
       "      <td>0.000000e+00</td>\n",
       "      <td>0.000000e+00</td>\n",
       "      <td>0.000000e+00</td>\n",
       "      <td>0.000000</td>\n",
       "      <td>0.000000</td>\n",
       "      <td>0.000000</td>\n",
       "      <td>0.000000e+00</td>\n",
       "      <td>0.000000e+00</td>\n",
       "      <td>0.000000e+00</td>\n",
       "      <td>0.000000e+00</td>\n",
       "      <td>0.000000e+00</td>\n",
       "      <td>0.000000</td>\n",
       "      <td>0.000000</td>\n",
       "      <td>0.000000</td>\n",
       "      <td>0.000000</td>\n",
       "    </tr>\n",
       "    <tr>\n",
       "      <th>50%</th>\n",
       "      <td>535978.500000</td>\n",
       "      <td>53803.000000</td>\n",
       "      <td>7.094600e+04</td>\n",
       "      <td>76.800000</td>\n",
       "      <td>61.000000</td>\n",
       "      <td>20333.000000</td>\n",
       "      <td>86.000000</td>\n",
       "      <td>2970.000000</td>\n",
       "      <td>6.000000</td>\n",
       "      <td>1451.000000</td>\n",
       "      <td>1.0</td>\n",
       "      <td>1.00000</td>\n",
       "      <td>0.000000</td>\n",
       "      <td>0.000000</td>\n",
       "      <td>0.000000</td>\n",
       "      <td>0.000000</td>\n",
       "      <td>0.000000</td>\n",
       "      <td>0.000000</td>\n",
       "      <td>0.000000</td>\n",
       "      <td>0.000000</td>\n",
       "      <td>0.000000e+00</td>\n",
       "      <td>0.000000e+00</td>\n",
       "      <td>0.000000e+00</td>\n",
       "      <td>0.000000</td>\n",
       "      <td>0.000000</td>\n",
       "      <td>0.000000</td>\n",
       "      <td>0.000000e+00</td>\n",
       "      <td>0.000000e+00</td>\n",
       "      <td>0.000000e+00</td>\n",
       "      <td>0.000000e+00</td>\n",
       "      <td>0.000000e+00</td>\n",
       "      <td>0.000000</td>\n",
       "      <td>0.000000</td>\n",
       "      <td>0.000000</td>\n",
       "      <td>0.000000</td>\n",
       "    </tr>\n",
       "    <tr>\n",
       "      <th>75%</th>\n",
       "      <td>595039.750000</td>\n",
       "      <td>60413.000000</td>\n",
       "      <td>7.920175e+04</td>\n",
       "      <td>83.670000</td>\n",
       "      <td>130.000000</td>\n",
       "      <td>23000.000000</td>\n",
       "      <td>86.000000</td>\n",
       "      <td>5677.000000</td>\n",
       "      <td>10.000000</td>\n",
       "      <td>2362.000000</td>\n",
       "      <td>1.0</td>\n",
       "      <td>1.00000</td>\n",
       "      <td>0.000000</td>\n",
       "      <td>0.000000</td>\n",
       "      <td>0.000000</td>\n",
       "      <td>0.000000</td>\n",
       "      <td>678.000000</td>\n",
       "      <td>3.000000</td>\n",
       "      <td>1.000000</td>\n",
       "      <td>0.000000</td>\n",
       "      <td>3.500650e+04</td>\n",
       "      <td>6.250000e+04</td>\n",
       "      <td>6.080000e+04</td>\n",
       "      <td>0.000000</td>\n",
       "      <td>0.000000</td>\n",
       "      <td>0.000000</td>\n",
       "      <td>0.000000e+00</td>\n",
       "      <td>0.000000e+00</td>\n",
       "      <td>0.000000e+00</td>\n",
       "      <td>1.999000e+03</td>\n",
       "      <td>0.000000e+00</td>\n",
       "      <td>0.000000</td>\n",
       "      <td>0.000000</td>\n",
       "      <td>0.000000</td>\n",
       "      <td>0.000000</td>\n",
       "    </tr>\n",
       "    <tr>\n",
       "      <th>max</th>\n",
       "      <td>671084.000000</td>\n",
       "      <td>990572.000000</td>\n",
       "      <td>1.628992e+06</td>\n",
       "      <td>95.000000</td>\n",
       "      <td>261.000000</td>\n",
       "      <td>24803.000000</td>\n",
       "      <td>156.000000</td>\n",
       "      <td>7345.000000</td>\n",
       "      <td>22.000000</td>\n",
       "      <td>3795.000000</td>\n",
       "      <td>1.0</td>\n",
       "      <td>1.00000</td>\n",
       "      <td>1.000000</td>\n",
       "      <td>1.000000</td>\n",
       "      <td>1.000000</td>\n",
       "      <td>1.000000</td>\n",
       "      <td>890.000000</td>\n",
       "      <td>453.000000</td>\n",
       "      <td>144.000000</td>\n",
       "      <td>25.000000</td>\n",
       "      <td>9.652492e+07</td>\n",
       "      <td>1.000000e+09</td>\n",
       "      <td>1.000000e+09</td>\n",
       "      <td>52.000000</td>\n",
       "      <td>36.000000</td>\n",
       "      <td>8.000000</td>\n",
       "      <td>3.603285e+07</td>\n",
       "      <td>3.000000e+07</td>\n",
       "      <td>3.000000e+07</td>\n",
       "      <td>2.564281e+07</td>\n",
       "      <td>4.170901e+06</td>\n",
       "      <td>35.000000</td>\n",
       "      <td>20.000000</td>\n",
       "      <td>36.000000</td>\n",
       "      <td>1.000000</td>\n",
       "    </tr>\n",
       "  </tbody>\n",
       "</table>\n",
       "</div>"
      ],
      "text/plain": [
       "            UniqueID      ...         loan_default\n",
       "count  233154.000000      ...        233154.000000\n",
       "mean   535917.573376      ...             0.217071\n",
       "std     68315.693711      ...             0.412252\n",
       "min    417428.000000      ...             0.000000\n",
       "25%    476786.250000      ...             0.000000\n",
       "50%    535978.500000      ...             0.000000\n",
       "75%    595039.750000      ...             0.000000\n",
       "max    671084.000000      ...             1.000000\n",
       "\n",
       "[8 rows x 35 columns]"
      ]
     },
     "execution_count": 10,
     "metadata": {},
     "output_type": "execute_result"
    }
   ],
   "source": [
    "# let's decsribe the train set\n",
    "\n",
    "train.describe()"
   ]
  },
  {
   "cell_type": "code",
   "execution_count": 11,
   "metadata": {},
   "outputs": [
    {
     "data": {
      "text/html": [
       "<div>\n",
       "<style scoped>\n",
       "    .dataframe tbody tr th:only-of-type {\n",
       "        vertical-align: middle;\n",
       "    }\n",
       "\n",
       "    .dataframe tbody tr th {\n",
       "        vertical-align: top;\n",
       "    }\n",
       "\n",
       "    .dataframe thead th {\n",
       "        text-align: right;\n",
       "    }\n",
       "</style>\n",
       "<table border=\"1\" class=\"dataframe\">\n",
       "  <thead>\n",
       "    <tr style=\"text-align: right;\">\n",
       "      <th></th>\n",
       "      <th>UniqueID</th>\n",
       "      <th>disbursed_amount</th>\n",
       "      <th>asset_cost</th>\n",
       "      <th>ltv</th>\n",
       "      <th>branch_id</th>\n",
       "      <th>supplier_id</th>\n",
       "      <th>manufacturer_id</th>\n",
       "      <th>Current_pincode_ID</th>\n",
       "      <th>State_ID</th>\n",
       "      <th>Employee_code_ID</th>\n",
       "      <th>MobileNo_Avl_Flag</th>\n",
       "      <th>Aadhar_flag</th>\n",
       "      <th>PAN_flag</th>\n",
       "      <th>VoterID_flag</th>\n",
       "      <th>Driving_flag</th>\n",
       "      <th>Passport_flag</th>\n",
       "      <th>PERFORM_CNS.SCORE</th>\n",
       "      <th>PRI.NO.OF.ACCTS</th>\n",
       "      <th>PRI.ACTIVE.ACCTS</th>\n",
       "      <th>PRI.OVERDUE.ACCTS</th>\n",
       "      <th>PRI.CURRENT.BALANCE</th>\n",
       "      <th>PRI.SANCTIONED.AMOUNT</th>\n",
       "      <th>PRI.DISBURSED.AMOUNT</th>\n",
       "      <th>SEC.NO.OF.ACCTS</th>\n",
       "      <th>SEC.ACTIVE.ACCTS</th>\n",
       "      <th>SEC.OVERDUE.ACCTS</th>\n",
       "      <th>SEC.CURRENT.BALANCE</th>\n",
       "      <th>SEC.SANCTIONED.AMOUNT</th>\n",
       "      <th>SEC.DISBURSED.AMOUNT</th>\n",
       "      <th>PRIMARY.INSTAL.AMT</th>\n",
       "      <th>SEC.INSTAL.AMT</th>\n",
       "      <th>NEW.ACCTS.IN.LAST.SIX.MONTHS</th>\n",
       "      <th>DELINQUENT.ACCTS.IN.LAST.SIX.MONTHS</th>\n",
       "      <th>NO.OF_INQUIRIES</th>\n",
       "    </tr>\n",
       "  </thead>\n",
       "  <tbody>\n",
       "    <tr>\n",
       "      <th>count</th>\n",
       "      <td>112392.000000</td>\n",
       "      <td>112392.000000</td>\n",
       "      <td>1.123920e+05</td>\n",
       "      <td>112392.000000</td>\n",
       "      <td>112392.000000</td>\n",
       "      <td>112392.000000</td>\n",
       "      <td>112392.000000</td>\n",
       "      <td>112392.000000</td>\n",
       "      <td>112392.000000</td>\n",
       "      <td>112392.000000</td>\n",
       "      <td>112392.0</td>\n",
       "      <td>112392.000000</td>\n",
       "      <td>112392.000000</td>\n",
       "      <td>112392.000000</td>\n",
       "      <td>112392.000000</td>\n",
       "      <td>112392.000000</td>\n",
       "      <td>112392.000000</td>\n",
       "      <td>112392.00000</td>\n",
       "      <td>112392.000000</td>\n",
       "      <td>112392.000000</td>\n",
       "      <td>1.123920e+05</td>\n",
       "      <td>1.123920e+05</td>\n",
       "      <td>1.123920e+05</td>\n",
       "      <td>112392.000000</td>\n",
       "      <td>112392.000000</td>\n",
       "      <td>112392.000000</td>\n",
       "      <td>1.123920e+05</td>\n",
       "      <td>1.123920e+05</td>\n",
       "      <td>1.123920e+05</td>\n",
       "      <td>1.123920e+05</td>\n",
       "      <td>1.123920e+05</td>\n",
       "      <td>112392.000000</td>\n",
       "      <td>112392.000000</td>\n",
       "      <td>112392.000000</td>\n",
       "    </tr>\n",
       "    <tr>\n",
       "      <th>mean</th>\n",
       "      <td>711741.891861</td>\n",
       "      <td>56076.803269</td>\n",
       "      <td>7.718639e+04</td>\n",
       "      <td>75.310325</td>\n",
       "      <td>78.902591</td>\n",
       "      <td>19843.303545</td>\n",
       "      <td>68.366031</td>\n",
       "      <td>3014.001352</td>\n",
       "      <td>7.215754</td>\n",
       "      <td>1771.651541</td>\n",
       "      <td>1.0</td>\n",
       "      <td>0.869626</td>\n",
       "      <td>0.191588</td>\n",
       "      <td>0.120978</td>\n",
       "      <td>0.016709</td>\n",
       "      <td>0.001913</td>\n",
       "      <td>288.138106</td>\n",
       "      <td>2.22716</td>\n",
       "      <td>0.928260</td>\n",
       "      <td>0.152235</td>\n",
       "      <td>1.485912e+05</td>\n",
       "      <td>1.912856e+05</td>\n",
       "      <td>1.919172e+05</td>\n",
       "      <td>0.023560</td>\n",
       "      <td>0.012350</td>\n",
       "      <td>0.003176</td>\n",
       "      <td>2.776081e+03</td>\n",
       "      <td>3.721477e+03</td>\n",
       "      <td>3.671156e+03</td>\n",
       "      <td>1.123698e+04</td>\n",
       "      <td>1.679060e+02</td>\n",
       "      <td>0.314907</td>\n",
       "      <td>0.091884</td>\n",
       "      <td>0.226119</td>\n",
       "    </tr>\n",
       "    <tr>\n",
       "      <th>std</th>\n",
       "      <td>33492.215991</td>\n",
       "      <td>13123.697627</td>\n",
       "      <td>1.827149e+04</td>\n",
       "      <td>11.006380</td>\n",
       "      <td>71.469633</td>\n",
       "      <td>3555.303301</td>\n",
       "      <td>22.137265</td>\n",
       "      <td>2223.215364</td>\n",
       "      <td>4.679847</td>\n",
       "      <td>1104.533635</td>\n",
       "      <td>0.0</td>\n",
       "      <td>0.336716</td>\n",
       "      <td>0.393553</td>\n",
       "      <td>0.326104</td>\n",
       "      <td>0.128181</td>\n",
       "      <td>0.043696</td>\n",
       "      <td>339.806585</td>\n",
       "      <td>4.55903</td>\n",
       "      <td>1.733452</td>\n",
       "      <td>0.531832</td>\n",
       "      <td>8.890925e+05</td>\n",
       "      <td>1.069343e+06</td>\n",
       "      <td>1.077010e+06</td>\n",
       "      <td>0.393237</td>\n",
       "      <td>0.198374</td>\n",
       "      <td>0.073784</td>\n",
       "      <td>1.406059e+05</td>\n",
       "      <td>2.015516e+05</td>\n",
       "      <td>2.013686e+05</td>\n",
       "      <td>2.741250e+05</td>\n",
       "      <td>1.763841e+04</td>\n",
       "      <td>0.843406</td>\n",
       "      <td>0.381809</td>\n",
       "      <td>0.739231</td>\n",
       "    </tr>\n",
       "    <tr>\n",
       "      <th>min</th>\n",
       "      <td>654115.000000</td>\n",
       "      <td>11613.000000</td>\n",
       "      <td>4.011700e+04</td>\n",
       "      <td>10.030000</td>\n",
       "      <td>1.000000</td>\n",
       "      <td>10524.000000</td>\n",
       "      <td>45.000000</td>\n",
       "      <td>1.000000</td>\n",
       "      <td>1.000000</td>\n",
       "      <td>1.000000</td>\n",
       "      <td>1.0</td>\n",
       "      <td>0.000000</td>\n",
       "      <td>0.000000</td>\n",
       "      <td>0.000000</td>\n",
       "      <td>0.000000</td>\n",
       "      <td>0.000000</td>\n",
       "      <td>0.000000</td>\n",
       "      <td>0.00000</td>\n",
       "      <td>0.000000</td>\n",
       "      <td>0.000000</td>\n",
       "      <td>-2.012765e+06</td>\n",
       "      <td>-4.815000e+05</td>\n",
       "      <td>0.000000e+00</td>\n",
       "      <td>0.000000</td>\n",
       "      <td>0.000000</td>\n",
       "      <td>0.000000</td>\n",
       "      <td>-3.882000e+03</td>\n",
       "      <td>0.000000e+00</td>\n",
       "      <td>0.000000e+00</td>\n",
       "      <td>0.000000e+00</td>\n",
       "      <td>0.000000e+00</td>\n",
       "      <td>0.000000</td>\n",
       "      <td>0.000000</td>\n",
       "      <td>0.000000</td>\n",
       "    </tr>\n",
       "    <tr>\n",
       "      <th>25%</th>\n",
       "      <td>682658.750000</td>\n",
       "      <td>48849.000000</td>\n",
       "      <td>6.751000e+04</td>\n",
       "      <td>69.970000</td>\n",
       "      <td>15.000000</td>\n",
       "      <td>16633.000000</td>\n",
       "      <td>45.000000</td>\n",
       "      <td>1312.000000</td>\n",
       "      <td>4.000000</td>\n",
       "      <td>801.000000</td>\n",
       "      <td>1.0</td>\n",
       "      <td>1.000000</td>\n",
       "      <td>0.000000</td>\n",
       "      <td>0.000000</td>\n",
       "      <td>0.000000</td>\n",
       "      <td>0.000000</td>\n",
       "      <td>0.000000</td>\n",
       "      <td>0.00000</td>\n",
       "      <td>0.000000</td>\n",
       "      <td>0.000000</td>\n",
       "      <td>0.000000e+00</td>\n",
       "      <td>0.000000e+00</td>\n",
       "      <td>0.000000e+00</td>\n",
       "      <td>0.000000</td>\n",
       "      <td>0.000000</td>\n",
       "      <td>0.000000</td>\n",
       "      <td>0.000000e+00</td>\n",
       "      <td>0.000000e+00</td>\n",
       "      <td>0.000000e+00</td>\n",
       "      <td>0.000000e+00</td>\n",
       "      <td>0.000000e+00</td>\n",
       "      <td>0.000000</td>\n",
       "      <td>0.000000</td>\n",
       "      <td>0.000000</td>\n",
       "    </tr>\n",
       "    <tr>\n",
       "      <th>50%</th>\n",
       "      <td>711522.500000</td>\n",
       "      <td>55359.000000</td>\n",
       "      <td>7.258400e+04</td>\n",
       "      <td>77.780000</td>\n",
       "      <td>67.000000</td>\n",
       "      <td>20675.000000</td>\n",
       "      <td>86.000000</td>\n",
       "      <td>2412.000000</td>\n",
       "      <td>6.000000</td>\n",
       "      <td>1664.000000</td>\n",
       "      <td>1.0</td>\n",
       "      <td>1.000000</td>\n",
       "      <td>0.000000</td>\n",
       "      <td>0.000000</td>\n",
       "      <td>0.000000</td>\n",
       "      <td>0.000000</td>\n",
       "      <td>0.000000</td>\n",
       "      <td>0.00000</td>\n",
       "      <td>0.000000</td>\n",
       "      <td>0.000000</td>\n",
       "      <td>0.000000e+00</td>\n",
       "      <td>0.000000e+00</td>\n",
       "      <td>0.000000e+00</td>\n",
       "      <td>0.000000</td>\n",
       "      <td>0.000000</td>\n",
       "      <td>0.000000</td>\n",
       "      <td>0.000000e+00</td>\n",
       "      <td>0.000000e+00</td>\n",
       "      <td>0.000000e+00</td>\n",
       "      <td>0.000000e+00</td>\n",
       "      <td>0.000000e+00</td>\n",
       "      <td>0.000000</td>\n",
       "      <td>0.000000</td>\n",
       "      <td>0.000000</td>\n",
       "    </tr>\n",
       "    <tr>\n",
       "      <th>75%</th>\n",
       "      <td>740851.250000</td>\n",
       "      <td>62147.000000</td>\n",
       "      <td>8.004000e+04</td>\n",
       "      <td>83.740000</td>\n",
       "      <td>136.000000</td>\n",
       "      <td>23170.000000</td>\n",
       "      <td>86.000000</td>\n",
       "      <td>5092.000000</td>\n",
       "      <td>10.000000</td>\n",
       "      <td>2694.000000</td>\n",
       "      <td>1.0</td>\n",
       "      <td>1.000000</td>\n",
       "      <td>0.000000</td>\n",
       "      <td>0.000000</td>\n",
       "      <td>0.000000</td>\n",
       "      <td>0.000000</td>\n",
       "      <td>679.000000</td>\n",
       "      <td>2.00000</td>\n",
       "      <td>1.000000</td>\n",
       "      <td>0.000000</td>\n",
       "      <td>2.472500e+04</td>\n",
       "      <td>5.100000e+04</td>\n",
       "      <td>5.000000e+04</td>\n",
       "      <td>0.000000</td>\n",
       "      <td>0.000000</td>\n",
       "      <td>0.000000</td>\n",
       "      <td>0.000000e+00</td>\n",
       "      <td>0.000000e+00</td>\n",
       "      <td>0.000000e+00</td>\n",
       "      <td>1.855000e+03</td>\n",
       "      <td>0.000000e+00</td>\n",
       "      <td>0.000000</td>\n",
       "      <td>0.000000</td>\n",
       "      <td>0.000000</td>\n",
       "    </tr>\n",
       "    <tr>\n",
       "      <th>max</th>\n",
       "      <td>769909.000000</td>\n",
       "      <td>940690.000000</td>\n",
       "      <td>1.271553e+06</td>\n",
       "      <td>95.000000</td>\n",
       "      <td>261.000000</td>\n",
       "      <td>24901.000000</td>\n",
       "      <td>155.000000</td>\n",
       "      <td>7345.000000</td>\n",
       "      <td>22.000000</td>\n",
       "      <td>3923.000000</td>\n",
       "      <td>1.0</td>\n",
       "      <td>1.000000</td>\n",
       "      <td>1.000000</td>\n",
       "      <td>1.000000</td>\n",
       "      <td>1.000000</td>\n",
       "      <td>1.000000</td>\n",
       "      <td>879.000000</td>\n",
       "      <td>130.00000</td>\n",
       "      <td>38.000000</td>\n",
       "      <td>22.000000</td>\n",
       "      <td>6.714607e+07</td>\n",
       "      <td>8.367934e+07</td>\n",
       "      <td>8.367934e+07</td>\n",
       "      <td>57.000000</td>\n",
       "      <td>20.000000</td>\n",
       "      <td>8.000000</td>\n",
       "      <td>3.579410e+07</td>\n",
       "      <td>5.794500e+07</td>\n",
       "      <td>5.794500e+07</td>\n",
       "      <td>8.526233e+07</td>\n",
       "      <td>5.390000e+06</td>\n",
       "      <td>22.000000</td>\n",
       "      <td>18.000000</td>\n",
       "      <td>23.000000</td>\n",
       "    </tr>\n",
       "  </tbody>\n",
       "</table>\n",
       "</div>"
      ],
      "text/plain": [
       "            UniqueID       ...         NO.OF_INQUIRIES\n",
       "count  112392.000000       ...           112392.000000\n",
       "mean   711741.891861       ...                0.226119\n",
       "std     33492.215991       ...                0.739231\n",
       "min    654115.000000       ...                0.000000\n",
       "25%    682658.750000       ...                0.000000\n",
       "50%    711522.500000       ...                0.000000\n",
       "75%    740851.250000       ...                0.000000\n",
       "max    769909.000000       ...               23.000000\n",
       "\n",
       "[8 rows x 34 columns]"
      ]
     },
     "execution_count": 11,
     "metadata": {},
     "output_type": "execute_result"
    }
   ],
   "source": [
    "# let's describe the test set\n",
    "\n",
    "test.describe()"
   ]
  },
  {
   "cell_type": "code",
   "execution_count": 12,
   "metadata": {},
   "outputs": [
    {
     "name": "stdout",
     "output_type": "stream",
     "text": [
      "<class 'pandas.core.frame.DataFrame'>\n",
      "RangeIndex: 233154 entries, 0 to 233153\n",
      "Data columns (total 41 columns):\n",
      "UniqueID                               233154 non-null int64\n",
      "disbursed_amount                       233154 non-null int64\n",
      "asset_cost                             233154 non-null int64\n",
      "ltv                                    233154 non-null float64\n",
      "branch_id                              233154 non-null int64\n",
      "supplier_id                            233154 non-null int64\n",
      "manufacturer_id                        233154 non-null int64\n",
      "Current_pincode_ID                     233154 non-null int64\n",
      "Date.of.Birth                          233154 non-null object\n",
      "Employment.Type                        225493 non-null object\n",
      "DisbursalDate                          233154 non-null object\n",
      "State_ID                               233154 non-null int64\n",
      "Employee_code_ID                       233154 non-null int64\n",
      "MobileNo_Avl_Flag                      233154 non-null int64\n",
      "Aadhar_flag                            233154 non-null int64\n",
      "PAN_flag                               233154 non-null int64\n",
      "VoterID_flag                           233154 non-null int64\n",
      "Driving_flag                           233154 non-null int64\n",
      "Passport_flag                          233154 non-null int64\n",
      "PERFORM_CNS.SCORE                      233154 non-null int64\n",
      "PERFORM_CNS.SCORE.DESCRIPTION          233154 non-null object\n",
      "PRI.NO.OF.ACCTS                        233154 non-null int64\n",
      "PRI.ACTIVE.ACCTS                       233154 non-null int64\n",
      "PRI.OVERDUE.ACCTS                      233154 non-null int64\n",
      "PRI.CURRENT.BALANCE                    233154 non-null int64\n",
      "PRI.SANCTIONED.AMOUNT                  233154 non-null int64\n",
      "PRI.DISBURSED.AMOUNT                   233154 non-null int64\n",
      "SEC.NO.OF.ACCTS                        233154 non-null int64\n",
      "SEC.ACTIVE.ACCTS                       233154 non-null int64\n",
      "SEC.OVERDUE.ACCTS                      233154 non-null int64\n",
      "SEC.CURRENT.BALANCE                    233154 non-null int64\n",
      "SEC.SANCTIONED.AMOUNT                  233154 non-null int64\n",
      "SEC.DISBURSED.AMOUNT                   233154 non-null int64\n",
      "PRIMARY.INSTAL.AMT                     233154 non-null int64\n",
      "SEC.INSTAL.AMT                         233154 non-null int64\n",
      "NEW.ACCTS.IN.LAST.SIX.MONTHS           233154 non-null int64\n",
      "DELINQUENT.ACCTS.IN.LAST.SIX.MONTHS    233154 non-null int64\n",
      "AVERAGE.ACCT.AGE                       233154 non-null object\n",
      "CREDIT.HISTORY.LENGTH                  233154 non-null object\n",
      "NO.OF_INQUIRIES                        233154 non-null int64\n",
      "loan_default                           233154 non-null int64\n",
      "dtypes: float64(1), int64(34), object(6)\n",
      "memory usage: 72.9+ MB\n"
     ]
    }
   ],
   "source": [
    "# get the info of train\n",
    "\n",
    "train.info()"
   ]
  },
  {
   "cell_type": "code",
   "execution_count": 13,
   "metadata": {},
   "outputs": [
    {
     "name": "stdout",
     "output_type": "stream",
     "text": [
      "<class 'pandas.core.frame.DataFrame'>\n",
      "RangeIndex: 112392 entries, 0 to 112391\n",
      "Data columns (total 40 columns):\n",
      "UniqueID                               112392 non-null int64\n",
      "disbursed_amount                       112392 non-null int64\n",
      "asset_cost                             112392 non-null int64\n",
      "ltv                                    112392 non-null float64\n",
      "branch_id                              112392 non-null int64\n",
      "supplier_id                            112392 non-null int64\n",
      "manufacturer_id                        112392 non-null int64\n",
      "Current_pincode_ID                     112392 non-null int64\n",
      "Date.of.Birth                          112392 non-null object\n",
      "Employment.Type                        108949 non-null object\n",
      "DisbursalDate                          112392 non-null object\n",
      "State_ID                               112392 non-null int64\n",
      "Employee_code_ID                       112392 non-null int64\n",
      "MobileNo_Avl_Flag                      112392 non-null int64\n",
      "Aadhar_flag                            112392 non-null int64\n",
      "PAN_flag                               112392 non-null int64\n",
      "VoterID_flag                           112392 non-null int64\n",
      "Driving_flag                           112392 non-null int64\n",
      "Passport_flag                          112392 non-null int64\n",
      "PERFORM_CNS.SCORE                      112392 non-null int64\n",
      "PERFORM_CNS.SCORE.DESCRIPTION          112392 non-null object\n",
      "PRI.NO.OF.ACCTS                        112392 non-null int64\n",
      "PRI.ACTIVE.ACCTS                       112392 non-null int64\n",
      "PRI.OVERDUE.ACCTS                      112392 non-null int64\n",
      "PRI.CURRENT.BALANCE                    112392 non-null int64\n",
      "PRI.SANCTIONED.AMOUNT                  112392 non-null int64\n",
      "PRI.DISBURSED.AMOUNT                   112392 non-null int64\n",
      "SEC.NO.OF.ACCTS                        112392 non-null int64\n",
      "SEC.ACTIVE.ACCTS                       112392 non-null int64\n",
      "SEC.OVERDUE.ACCTS                      112392 non-null int64\n",
      "SEC.CURRENT.BALANCE                    112392 non-null int64\n",
      "SEC.SANCTIONED.AMOUNT                  112392 non-null int64\n",
      "SEC.DISBURSED.AMOUNT                   112392 non-null int64\n",
      "PRIMARY.INSTAL.AMT                     112392 non-null int64\n",
      "SEC.INSTAL.AMT                         112392 non-null int64\n",
      "NEW.ACCTS.IN.LAST.SIX.MONTHS           112392 non-null int64\n",
      "DELINQUENT.ACCTS.IN.LAST.SIX.MONTHS    112392 non-null int64\n",
      "AVERAGE.ACCT.AGE                       112392 non-null object\n",
      "CREDIT.HISTORY.LENGTH                  112392 non-null object\n",
      "NO.OF_INQUIRIES                        112392 non-null int64\n",
      "dtypes: float64(1), int64(33), object(6)\n",
      "memory usage: 34.3+ MB\n"
     ]
    }
   ],
   "source": [
    "# get the info of test set\n",
    "\n",
    "test.info()"
   ]
  },
  {
   "cell_type": "code",
   "execution_count": 14,
   "metadata": {},
   "outputs": [
    {
     "data": {
      "text/plain": [
       "UniqueID                                 int64\n",
       "disbursed_amount                         int64\n",
       "asset_cost                               int64\n",
       "ltv                                    float64\n",
       "branch_id                                int64\n",
       "supplier_id                              int64\n",
       "manufacturer_id                          int64\n",
       "Current_pincode_ID                       int64\n",
       "Date.of.Birth                           object\n",
       "Employment.Type                         object\n",
       "DisbursalDate                           object\n",
       "State_ID                                 int64\n",
       "Employee_code_ID                         int64\n",
       "MobileNo_Avl_Flag                        int64\n",
       "Aadhar_flag                              int64\n",
       "PAN_flag                                 int64\n",
       "VoterID_flag                             int64\n",
       "Driving_flag                             int64\n",
       "Passport_flag                            int64\n",
       "PERFORM_CNS.SCORE                        int64\n",
       "PERFORM_CNS.SCORE.DESCRIPTION           object\n",
       "PRI.NO.OF.ACCTS                          int64\n",
       "PRI.ACTIVE.ACCTS                         int64\n",
       "PRI.OVERDUE.ACCTS                        int64\n",
       "PRI.CURRENT.BALANCE                      int64\n",
       "PRI.SANCTIONED.AMOUNT                    int64\n",
       "PRI.DISBURSED.AMOUNT                     int64\n",
       "SEC.NO.OF.ACCTS                          int64\n",
       "SEC.ACTIVE.ACCTS                         int64\n",
       "SEC.OVERDUE.ACCTS                        int64\n",
       "SEC.CURRENT.BALANCE                      int64\n",
       "SEC.SANCTIONED.AMOUNT                    int64\n",
       "SEC.DISBURSED.AMOUNT                     int64\n",
       "PRIMARY.INSTAL.AMT                       int64\n",
       "SEC.INSTAL.AMT                           int64\n",
       "NEW.ACCTS.IN.LAST.SIX.MONTHS             int64\n",
       "DELINQUENT.ACCTS.IN.LAST.SIX.MONTHS      int64\n",
       "AVERAGE.ACCT.AGE                        object\n",
       "CREDIT.HISTORY.LENGTH                   object\n",
       "NO.OF_INQUIRIES                          int64\n",
       "loan_default                             int64\n",
       "dtype: object"
      ]
     },
     "execution_count": 14,
     "metadata": {},
     "output_type": "execute_result"
    }
   ],
   "source": [
    "# getting the data types of train\n",
    "\n",
    "train.dtypes"
   ]
  },
  {
   "cell_type": "code",
   "execution_count": 15,
   "metadata": {},
   "outputs": [
    {
     "data": {
      "text/plain": [
       "UniqueID                                 int64\n",
       "disbursed_amount                         int64\n",
       "asset_cost                               int64\n",
       "ltv                                    float64\n",
       "branch_id                                int64\n",
       "supplier_id                              int64\n",
       "manufacturer_id                          int64\n",
       "Current_pincode_ID                       int64\n",
       "Date.of.Birth                           object\n",
       "Employment.Type                         object\n",
       "DisbursalDate                           object\n",
       "State_ID                                 int64\n",
       "Employee_code_ID                         int64\n",
       "MobileNo_Avl_Flag                        int64\n",
       "Aadhar_flag                              int64\n",
       "PAN_flag                                 int64\n",
       "VoterID_flag                             int64\n",
       "Driving_flag                             int64\n",
       "Passport_flag                            int64\n",
       "PERFORM_CNS.SCORE                        int64\n",
       "PERFORM_CNS.SCORE.DESCRIPTION           object\n",
       "PRI.NO.OF.ACCTS                          int64\n",
       "PRI.ACTIVE.ACCTS                         int64\n",
       "PRI.OVERDUE.ACCTS                        int64\n",
       "PRI.CURRENT.BALANCE                      int64\n",
       "PRI.SANCTIONED.AMOUNT                    int64\n",
       "PRI.DISBURSED.AMOUNT                     int64\n",
       "SEC.NO.OF.ACCTS                          int64\n",
       "SEC.ACTIVE.ACCTS                         int64\n",
       "SEC.OVERDUE.ACCTS                        int64\n",
       "SEC.CURRENT.BALANCE                      int64\n",
       "SEC.SANCTIONED.AMOUNT                    int64\n",
       "SEC.DISBURSED.AMOUNT                     int64\n",
       "PRIMARY.INSTAL.AMT                       int64\n",
       "SEC.INSTAL.AMT                           int64\n",
       "NEW.ACCTS.IN.LAST.SIX.MONTHS             int64\n",
       "DELINQUENT.ACCTS.IN.LAST.SIX.MONTHS      int64\n",
       "AVERAGE.ACCT.AGE                        object\n",
       "CREDIT.HISTORY.LENGTH                   object\n",
       "NO.OF_INQUIRIES                          int64\n",
       "dtype: object"
      ]
     },
     "execution_count": 15,
     "metadata": {},
     "output_type": "execute_result"
    }
   ],
   "source": [
    "# getting the data types of test\n",
    "\n",
    "test.dtypes"
   ]
  },
  {
   "cell_type": "code",
   "execution_count": 16,
   "metadata": {},
   "outputs": [
    {
     "data": {
      "text/plain": [
       "UniqueID                                  0\n",
       "disbursed_amount                          0\n",
       "asset_cost                                0\n",
       "ltv                                       0\n",
       "branch_id                                 0\n",
       "supplier_id                               0\n",
       "manufacturer_id                           0\n",
       "Current_pincode_ID                        0\n",
       "Date.of.Birth                             0\n",
       "Employment.Type                        7661\n",
       "DisbursalDate                             0\n",
       "State_ID                                  0\n",
       "Employee_code_ID                          0\n",
       "MobileNo_Avl_Flag                         0\n",
       "Aadhar_flag                               0\n",
       "PAN_flag                                  0\n",
       "VoterID_flag                              0\n",
       "Driving_flag                              0\n",
       "Passport_flag                             0\n",
       "PERFORM_CNS.SCORE                         0\n",
       "PERFORM_CNS.SCORE.DESCRIPTION             0\n",
       "PRI.NO.OF.ACCTS                           0\n",
       "PRI.ACTIVE.ACCTS                          0\n",
       "PRI.OVERDUE.ACCTS                         0\n",
       "PRI.CURRENT.BALANCE                       0\n",
       "PRI.SANCTIONED.AMOUNT                     0\n",
       "PRI.DISBURSED.AMOUNT                      0\n",
       "SEC.NO.OF.ACCTS                           0\n",
       "SEC.ACTIVE.ACCTS                          0\n",
       "SEC.OVERDUE.ACCTS                         0\n",
       "SEC.CURRENT.BALANCE                       0\n",
       "SEC.SANCTIONED.AMOUNT                     0\n",
       "SEC.DISBURSED.AMOUNT                      0\n",
       "PRIMARY.INSTAL.AMT                        0\n",
       "SEC.INSTAL.AMT                            0\n",
       "NEW.ACCTS.IN.LAST.SIX.MONTHS              0\n",
       "DELINQUENT.ACCTS.IN.LAST.SIX.MONTHS       0\n",
       "AVERAGE.ACCT.AGE                          0\n",
       "CREDIT.HISTORY.LENGTH                     0\n",
       "NO.OF_INQUIRIES                           0\n",
       "loan_default                              0\n",
       "dtype: int64"
      ]
     },
     "execution_count": 16,
     "metadata": {},
     "output_type": "execute_result"
    }
   ],
   "source": [
    "# checking if there exists any NULL values in the train set\n",
    "\n",
    "train.isnull().sum()"
   ]
  },
  {
   "cell_type": "code",
   "execution_count": 17,
   "metadata": {},
   "outputs": [
    {
     "data": {
      "text/plain": [
       "UniqueID                                  0\n",
       "disbursed_amount                          0\n",
       "asset_cost                                0\n",
       "ltv                                       0\n",
       "branch_id                                 0\n",
       "supplier_id                               0\n",
       "manufacturer_id                           0\n",
       "Current_pincode_ID                        0\n",
       "Date.of.Birth                             0\n",
       "Employment.Type                        3443\n",
       "DisbursalDate                             0\n",
       "State_ID                                  0\n",
       "Employee_code_ID                          0\n",
       "MobileNo_Avl_Flag                         0\n",
       "Aadhar_flag                               0\n",
       "PAN_flag                                  0\n",
       "VoterID_flag                              0\n",
       "Driving_flag                              0\n",
       "Passport_flag                             0\n",
       "PERFORM_CNS.SCORE                         0\n",
       "PERFORM_CNS.SCORE.DESCRIPTION             0\n",
       "PRI.NO.OF.ACCTS                           0\n",
       "PRI.ACTIVE.ACCTS                          0\n",
       "PRI.OVERDUE.ACCTS                         0\n",
       "PRI.CURRENT.BALANCE                       0\n",
       "PRI.SANCTIONED.AMOUNT                     0\n",
       "PRI.DISBURSED.AMOUNT                      0\n",
       "SEC.NO.OF.ACCTS                           0\n",
       "SEC.ACTIVE.ACCTS                          0\n",
       "SEC.OVERDUE.ACCTS                         0\n",
       "SEC.CURRENT.BALANCE                       0\n",
       "SEC.SANCTIONED.AMOUNT                     0\n",
       "SEC.DISBURSED.AMOUNT                      0\n",
       "PRIMARY.INSTAL.AMT                        0\n",
       "SEC.INSTAL.AMT                            0\n",
       "NEW.ACCTS.IN.LAST.SIX.MONTHS              0\n",
       "DELINQUENT.ACCTS.IN.LAST.SIX.MONTHS       0\n",
       "AVERAGE.ACCT.AGE                          0\n",
       "CREDIT.HISTORY.LENGTH                     0\n",
       "NO.OF_INQUIRIES                           0\n",
       "dtype: int64"
      ]
     },
     "execution_count": 17,
     "metadata": {},
     "output_type": "execute_result"
    }
   ],
   "source": [
    "# checking if there exists any NULL values in the test set\n",
    "\n",
    "test.isnull().sum()"
   ]
  },
  {
   "cell_type": "code",
   "execution_count": 18,
   "metadata": {},
   "outputs": [
    {
     "data": {
      "text/plain": [
       "Self employed    127635\n",
       "Salaried          97858\n",
       "Name: Employment.Type, dtype: int64"
      ]
     },
     "execution_count": 18,
     "metadata": {},
     "output_type": "execute_result"
    }
   ],
   "source": [
    "# checking the values present in the Employement.Type attribute in the train and test sets\n",
    "\n",
    "train['Employment.Type'].value_counts()"
   ]
  },
  {
   "cell_type": "code",
   "execution_count": 19,
   "metadata": {},
   "outputs": [
    {
     "name": "stdout",
     "output_type": "stream",
     "text": [
      "Null values left in the train set: 0\n",
      "Null values left in the test set: 0\n"
     ]
    }
   ],
   "source": [
    "# filling the missing values in the Employment.Type attribute of train and test sets\n",
    "\n",
    "# Employement Type has two types of Employment i.e., self employed and salaried\n",
    "# but the empty values must be the people who don't  work at all that's why it is empty\n",
    "# let's fill unemployed in the place of Null values\n",
    "\n",
    "train['Employment.Type'].fillna('Unemployed', inplace = True)\n",
    "test['Employment.Type'].fillna('Unemployed', inplace = True)\n",
    "\n",
    "# let's check if there is any null values still left or not\n",
    "print(\"Null values left in the train set:\", train.isnull().sum().sum())\n",
    "print(\"Null values left in the test set:\", test.isnull().sum().sum())"
   ]
  },
  {
   "cell_type": "code",
   "execution_count": 20,
   "metadata": {},
   "outputs": [
    {
     "data": {
      "text/plain": [
       "((233154, 40), (112392, 40), (233154,))"
      ]
     },
     "execution_count": 20,
     "metadata": {},
     "output_type": "execute_result"
    }
   ],
   "source": [
    "# let's save the unique id of the test set and labels set\n",
    "\n",
    "unique_id = test['UniqueID']\n",
    "y = train['loan_default']\n",
    "\n",
    "# let's delete the last column from the dataset to  concat train and test\n",
    "train = train.drop(['loan_default'], axis = 1)\n",
    "\n",
    "# shape of train\n",
    "train.shape, test.shape,y.shape"
   ]
  },
  {
   "cell_type": "code",
   "execution_count": 21,
   "metadata": {},
   "outputs": [
    {
     "data": {
      "text/plain": [
       "(345546, 40)"
      ]
     },
     "execution_count": 21,
     "metadata": {},
     "output_type": "execute_result"
    }
   ],
   "source": [
    "# lets concat the train and test sets for preprocessing and visualizations\n",
    "\n",
    "data = pd.concat([train, test], axis = 0,ignore_index=True)\n",
    "\n",
    "# let's check the shape\n",
    "data.shape\n"
   ]
  },
  {
   "cell_type": "code",
   "execution_count": 22,
   "metadata": {},
   "outputs": [
    {
     "data": {
      "text/plain": [
       "Self employed    187429\n",
       "Salaried         147013\n",
       "Unemployed        11104\n",
       "Name: Employment.Type, dtype: int64"
      ]
     },
     "execution_count": 22,
     "metadata": {},
     "output_type": "execute_result"
    }
   ],
   "source": [
    "# let's check the employement type in the data\n",
    "data['Employment.Type'].value_counts()\n",
    "#train['Employment.Type'].value_counts(), test['Employment.Type'].value_counts()"
   ]
  },
  {
   "cell_type": "code",
   "execution_count": 23,
   "metadata": {},
   "outputs": [
    {
     "data": {
      "image/png": "[encoded data removed]",
      "text/plain": [
       "<Figure size 720x720 with 1 Axes>"
      ]
     },
     "metadata": {},
     "output_type": "display_data"
    }
   ],
   "source": [
    "# plotting a donut chart\n",
    "\n",
    "size = [187429, 147013, 11104]\n",
    "colors = ['pink', 'lightblue', 'lightgreen']\n",
    "labels = \"Self Employed\", \"Salried\", \"Unemployed\" \n",
    "explode = [0.05, 0.05, 0.05]\n",
    "\n",
    "circle = plt.Circle((0, 0), 0.7, color = 'white')\n",
    "\n",
    "plt.rcParams['figure.figsize'] = (10, 10)\n",
    "plt.pie(size, colors = colors, labels = labels, explode = explode, shadow = True, pctdistance = 1, autopct = '%.2f%%')\n",
    "plt.title('Types of Employments', fontsize = 30)\n",
    "plt.axis('off')\n",
    "p = plt.gcf()\n",
    "p.gca().add_artist(circle)\n",
    "plt.legend()\n",
    "plt.show()"
   ]
  },
  {
   "cell_type": "code",
   "execution_count": 24,
   "metadata": {},
   "outputs": [
    {
     "data": {
      "text/plain": [
       "2    187429\n",
       "1    147013\n",
       "0     11104\n",
       "Name: Employment.Type, dtype: int64"
      ]
     },
     "execution_count": 24,
     "metadata": {},
     "output_type": "execute_result"
    }
   ],
   "source": [
    "# encodings for type of employments\n",
    "\n",
    "data['Employment.Type'] = data['Employment.Type'].replace(('Self employed', 'Salaried', 'Unemployed'), (2, 1, 0))\n",
    "train['Employment.Type'] = train['Employment.Type'].replace(('Self employed', 'Salaried', 'Unemployed'), (2, 1, 0))\n",
    "test['Employment.Type'] = test['Employment.Type'].replace(('Self employed', 'Salaried', 'Unemployed'), (2, 1, 0))\n",
    "\n",
    "# checking the values  of employement type\n",
    "data['Employment.Type'].value_counts()"
   ]
  },
  {
   "cell_type": "code",
   "execution_count": 25,
   "metadata": {},
   "outputs": [
    {
     "data": {
      "text/plain": [
       "Index(['UniqueID', 'disbursed_amount', 'asset_cost', 'ltv', 'branch_id',\n",
       "       'supplier_id', 'manufacturer_id', 'Current_pincode_ID', 'Date.of.Birth',\n",
       "       'Employment.Type', 'DisbursalDate', 'State_ID', 'Employee_code_ID',\n",
       "       'MobileNo_Avl_Flag', 'Aadhar_flag', 'PAN_flag', 'VoterID_flag',\n",
       "       'Driving_flag', 'Passport_flag', 'PERFORM_CNS.SCORE',\n",
       "       'PERFORM_CNS.SCORE.DESCRIPTION', 'PRI.NO.OF.ACCTS', 'PRI.ACTIVE.ACCTS',\n",
       "       'PRI.OVERDUE.ACCTS', 'PRI.CURRENT.BALANCE', 'PRI.SANCTIONED.AMOUNT',\n",
       "       'PRI.DISBURSED.AMOUNT', 'SEC.NO.OF.ACCTS', 'SEC.ACTIVE.ACCTS',\n",
       "       'SEC.OVERDUE.ACCTS', 'SEC.CURRENT.BALANCE', 'SEC.SANCTIONED.AMOUNT',\n",
       "       'SEC.DISBURSED.AMOUNT', 'PRIMARY.INSTAL.AMT', 'SEC.INSTAL.AMT',\n",
       "       'NEW.ACCTS.IN.LAST.SIX.MONTHS', 'DELINQUENT.ACCTS.IN.LAST.SIX.MONTHS',\n",
       "       'AVERAGE.ACCT.AGE', 'CREDIT.HISTORY.LENGTH', 'NO.OF_INQUIRIES'],\n",
       "      dtype='object')"
      ]
     },
     "execution_count": 25,
     "metadata": {},
     "output_type": "execute_result"
    }
   ],
   "source": [
    "# checking the columns names of the data\n",
    "\n",
    "data.columns"
   ]
  },
  {
   "cell_type": "code",
   "execution_count": 26,
   "metadata": {},
   "outputs": [
    {
     "name": "stdout",
     "output_type": "stream",
     "text": [
      "Total no. of Unique Ids : 345546\n",
      "Total no. of Unique Branches : 82\n",
      "Total no. of Unique Suppliers : 3089\n",
      "Total no. of Unique Manufactures : 12\n",
      "Total no. of Unique Current pincode Ids : 7096\n",
      "Total no. of Unique State IDs : 22\n",
      "Total no. of Unique Employee code IDs : 3398\n"
     ]
    }
   ],
   "source": [
    "#let's check the unique values of ids in different branchs\n",
    "\n",
    "print(\"Total no. of Unique Ids :\", data['UniqueID'].nunique())\n",
    "print(\"Total no. of Unique Branches :\", data['branch_id'].nunique())\n",
    "print(\"Total no. of Unique Suppliers :\", data['supplier_id'].nunique())\n",
    "print(\"Total no. of Unique Manufactures :\", data['manufacturer_id'].nunique())\n",
    "print(\"Total no. of Unique Current pincode Ids :\", data['Current_pincode_ID'].nunique())\n",
    "print(\"Total no. of Unique State IDs :\",data['State_ID'].nunique())\n",
    "print(\"Total no. of Unique Employee code IDs :\", data['Employee_code_ID'].nunique())"
   ]
  },
  {
   "cell_type": "code",
   "execution_count": 27,
   "metadata": {},
   "outputs": [
    {
     "name": "stderr",
     "output_type": "stream",
     "text": [
      "/opt/conda/lib/python3.6/site-packages/scipy/stats/stats.py:1713: FutureWarning: Using a non-tuple sequence for multidimensional indexing is deprecated; use `arr[tuple(seq)]` instead of `arr[seq]`. In the future this will be interpreted as an array index, `arr[np.array(seq)]`, which will result either in an error or a different result.\n",
      "  return np.add.reduce(sorted[indexer] * weights, axis=axis) / sumval\n"
     ]
    },
    {
     "data": {
      "image/png": "[encoded data removed]",
      "text/plain": [
       "<Figure size 1296x360 with 3 Axes>"
      ]
     },
     "metadata": {},
     "output_type": "display_data"
    }
   ],
   "source": [
    "# check the distribution of disbursed amount\n",
    "\n",
    "plt.rcParams['figure.figsize'] = (18, 5)\n",
    "\n",
    "plt.subplot(1, 3, 1)\n",
    "sns.distplot(data['disbursed_amount'],  color = 'orange')\n",
    "plt.title('Disburesed Amount')\n",
    "\n",
    "plt.subplot(1, 3, 2)\n",
    "sns.distplot(data['asset_cost'], color = 'pink')\n",
    "plt.title('Asset Cost')\n",
    "\n",
    "plt.subplot(1, 3, 3)\n",
    "sns.distplot(data['ltv'], color = 'red')\n",
    "plt.title('Loan to value of the asset')\n",
    "\n",
    "plt.show()"
   ]
  },
  {
   "cell_type": "code",
   "execution_count": 28,
   "metadata": {},
   "outputs": [
    {
     "name": "stderr",
     "output_type": "stream",
     "text": [
      "/opt/conda/lib/python3.6/site-packages/scipy/stats/stats.py:1713: FutureWarning: Using a non-tuple sequence for multidimensional indexing is deprecated; use `arr[tuple(seq)]` instead of `arr[seq]`. In the future this will be interpreted as an array index, `arr[np.array(seq)]`, which will result either in an error or a different result.\n",
      "  return np.add.reduce(sorted[indexer] * weights, axis=axis) / sumval\n"
     ]
    },
    {
     "data": {
      "image/png": "[encoded data removed]",
      "text/plain": [
       "<Figure size 1296x360 with 3 Axes>"
      ]
     },
     "metadata": {},
     "output_type": "display_data"
    }
   ],
   "source": [
    "#performing log transformations on disbursed amount, ltv, and asset cost\n",
    "\n",
    "data['disbursed_amount'] = np.log1p(data['disbursed_amount'])\n",
    "data['ltv'] = np.log1p(data['ltv'])\n",
    "data['asset_cost'] = np.log1p(data['asset_cost'])\n",
    "\n",
    "train['disbursed_amount'] = np.log1p(train['disbursed_amount'])\n",
    "train['ltv'] = np.log1p(train['ltv'])\n",
    "train['asset_cost'] = np.log1p(train['asset_cost'])\n",
    "\n",
    "test['disbursed_amount'] = np.log1p(test['disbursed_amount'])\n",
    "test['ltv'] = np.log1p(test['ltv'])\n",
    "test['asset_cost'] = np.log1p(test['asset_cost'])\n",
    "\n",
    "plt.rcParams['figure.figsize'] = (18, 5)\n",
    "\n",
    "plt.subplot(1, 3, 1)\n",
    "sns.distplot(data['disbursed_amount'],  color = 'orange')\n",
    "plt.title('Disburesed Amount')\n",
    "\n",
    "plt.subplot(1, 3, 2)\n",
    "sns.distplot(data['asset_cost'], color = 'pink')\n",
    "plt.title('Asset Cost')\n",
    "\n",
    "plt.subplot(1, 3, 3)\n",
    "sns.distplot(data['ltv'], color = 'red')\n",
    "plt.title('Loan to value of the asset')\n",
    "\n",
    "plt.show()"
   ]
  },
  {
   "cell_type": "code",
   "execution_count": 29,
   "metadata": {},
   "outputs": [
    {
     "data": {
      "text/plain": [
       "(1969, 2068)"
      ]
     },
     "execution_count": 29,
     "metadata": {},
     "output_type": "execute_result"
    }
   ],
   "source": [
    "# date of birth is an useless attribute \n",
    "#  the only thing we can extract the is the year of birth\n",
    "# let's first convert the date into date-time format\n",
    "\n",
    "data['Date.of.Birth'] = pd.to_datetime(data['Date.of.Birth'], errors = 'coerce')\n",
    "train['Date.of.Birth'] = pd.to_datetime(train['Date.of.Birth'], errors = 'coerce')\n",
    "test['Date.of.Birth'] = pd.to_datetime(test['Date.of.Birth'], errors = 'coerce')\n",
    "\n",
    "# extracting the year of birth of the customers\n",
    "data['Year_of_birth'] = data['Date.of.Birth'].dt.year\n",
    "train['Year_of_birth'] = train['Date.of.Birth'].dt.year\n",
    "test['Year_of_birth'] = test['Date.of.Birth'].dt.year\n",
    "data['Year_of_birth'].min(), data['Year_of_birth'].max()"
   ]
  },
  {
   "cell_type": "code",
   "execution_count": 30,
   "metadata": {},
   "outputs": [],
   "source": [
    "##assuming we don't have enough histroy to secure a loan till age of 18 i.e. max year should be 2001.we will cap this year\n",
    "data.loc[data['Date.of.Birth'].dt.year >2001,'Date.of.Birth'] = pd.to_datetime(20010101,format='%Y%m%d')\n",
    "train.loc[train['Date.of.Birth'].dt.year >2001,'Date.of.Birth'] = pd.to_datetime(20010101,format='%Y%m%d')\n",
    "test.loc[train['Date.of.Birth'].dt.year >2001,'Date.of.Birth'] = pd.to_datetime(20010101,format='%Y%m%d')"
   ]
  },
  {
   "cell_type": "code",
   "execution_count": 31,
   "metadata": {},
   "outputs": [
    {
     "name": "stderr",
     "output_type": "stream",
     "text": [
      "/opt/conda/lib/python3.6/site-packages/scipy/stats/stats.py:1713: FutureWarning: Using a non-tuple sequence for multidimensional indexing is deprecated; use `arr[tuple(seq)]` instead of `arr[seq]`. In the future this will be interpreted as an array index, `arr[np.array(seq)]`, which will result either in an error or a different result.\n",
      "  return np.add.reduce(sorted[indexer] * weights, axis=axis) / sumval\n"
     ]
    },
    {
     "data": {
      "text/plain": [
       "Text(0.5, 1.0, 'Distribution by age')"
      ]
     },
     "execution_count": 31,
     "metadata": {},
     "output_type": "execute_result"
    },
    {
     "data": {
      "image/png": "[encoded data removed]",
      "text/plain": [
       "<Figure size 1296x360 with 1 Axes>"
      ]
     },
     "metadata": {},
     "output_type": "display_data"
    }
   ],
   "source": [
    "import datetime as DT\n",
    "now = pd.Timestamp(DT.datetime.now())\n",
    "data['age'] = (now - data['Date.of.Birth']).astype('<m8[Y]') \n",
    "data['Year_of_birth'] = data['Date.of.Birth'].dt.year\n",
    "\n",
    "train['age'] = (now - train['Date.of.Birth']).astype('<m8[Y]') \n",
    "train['Year_of_birth'] = train['Date.of.Birth'].dt.year\n",
    "\n",
    "test['age'] = (now - test['Date.of.Birth']).astype('<m8[Y]') \n",
    "test['Year_of_birth'] = test['Date.of.Birth'].dt.year\n",
    "sns.distplot(data['age'],color='red')\n",
    "plt.title('Distribution by age')"
   ]
  },
  {
   "cell_type": "code",
   "execution_count": 32,
   "metadata": {},
   "outputs": [
    {
     "name": "stderr",
     "output_type": "stream",
     "text": [
      "/opt/conda/lib/python3.6/site-packages/scipy/stats/stats.py:1713: FutureWarning: Using a non-tuple sequence for multidimensional indexing is deprecated; use `arr[tuple(seq)]` instead of `arr[seq]`. In the future this will be interpreted as an array index, `arr[np.array(seq)]`, which will result either in an error or a different result.\n",
      "  return np.add.reduce(sorted[indexer] * weights, axis=axis) / sumval\n"
     ]
    },
    {
     "data": {
      "text/plain": [
       "Text(0.5, 1.0, 'Distribution of Year of birth')"
      ]
     },
     "execution_count": 32,
     "metadata": {},
     "output_type": "execute_result"
    },
    {
     "data": {
      "image/png": "[encoded data removed]",
      "text/plain": [
       "<Figure size 1296x360 with 1 Axes>"
      ]
     },
     "metadata": {},
     "output_type": "display_data"
    }
   ],
   "source": [
    "# checking the values inside date of year\n",
    "sns.distplot(data['Year_of_birth'], color = 'blue')\n",
    "plt.title('Distribution of Year of birth')"
   ]
  },
  {
   "cell_type": "code",
   "execution_count": 33,
   "metadata": {},
   "outputs": [
    {
     "data": {
      "text/plain": [
       "Text(0.5, 1.0, 'No. of Inquiries')"
      ]
     },
     "execution_count": 33,
     "metadata": {},
     "output_type": "execute_result"
    },
    {
     "data": {
      "image/png": "[encoded data removed]",
      "text/plain": [
       "<Figure size 1296x360 with 1 Axes>"
      ]
     },
     "metadata": {},
     "output_type": "display_data"
    }
   ],
   "source": [
    "# plotting a countplot\n",
    "\n",
    "sns.countplot(data['NO.OF_INQUIRIES'], palette = 'muted')\n",
    "plt.title('No. of Inquiries',  fontsize = 30)"
   ]
  },
  {
   "cell_type": "code",
   "execution_count": 34,
   "metadata": {},
   "outputs": [
    {
     "data": {
      "text/plain": [
       "(array([ 0,  1,  2,  3,  4,  5,  6,  7,  8,  9, 10, 11, 12, 13, 14, 15, 16, 17, 18, 19, 20, 21, 22, 23, 24, 25, 26, 27,\n",
       "        28]), <a list of 29 Text xticklabel objects>)"
      ]
     },
     "execution_count": 34,
     "metadata": {},
     "output_type": "execute_result"
    },
    {
     "data": {
      "image/png": "[encoded data removed]",
      "text/plain": [
       "<Figure size 1296x360 with 1 Axes>"
      ]
     },
     "metadata": {},
     "output_type": "display_data"
    }
   ],
   "source": [
    "# # plotting countplot for credit history of users\n",
    "plt.rcParams['figure.figsize'] = (18, 5)\n",
    "sns.countplot(data['CREDIT.HISTORY.LENGTH'].head(50))\n",
    "plt.title('Credit History')\n",
    "plt.xticks(rotation = 45)"
   ]
  },
  {
   "cell_type": "code",
   "execution_count": 35,
   "metadata": {},
   "outputs": [],
   "source": [
    "##convert string formatted year.month columns to number of months\n",
    "def convert__int(column):\n",
    "    months=[i for i in range(len(column))]\n",
    "    for j in range(len(column)):\n",
    "        months[j] = int(re.findall(r'\\d+', column[j])[0]) *12 + int(re.findall(r'\\d+', column[j])[1])\n",
    "        #column[i] = months[i]\n",
    "    return months"
   ]
  },
  {
   "cell_type": "code",
   "execution_count": 36,
   "metadata": {},
   "outputs": [
    {
     "data": {
      "text/plain": [
       "(array([ 0,  1,  2,  3,  4,  5,  6,  7,  8,  9, 10, 11, 12, 13, 14, 15, 16, 17, 18, 19, 20, 21]),\n",
       " <a list of 22 Text xticklabel objects>)"
      ]
     },
     "execution_count": 36,
     "metadata": {},
     "output_type": "execute_result"
    },
    {
     "data": {
      "image/png": "[encoded data removed]",
      "text/plain": [
       "<Figure size 1296x360 with 1 Axes>"
      ]
     },
     "metadata": {},
     "output_type": "display_data"
    }
   ],
   "source": [
    "# # plotting countplot for credit history of users\n",
    "plt.rcParams['figure.figsize'] = (18, 5)\n",
    "sns.countplot(data['CREDIT.HISTORY.LENGTH'].tail(50))\n",
    "plt.title('Credit History')\n",
    "plt.xticks(rotation = 45)"
   ]
  },
  {
   "cell_type": "code",
   "execution_count": 37,
   "metadata": {},
   "outputs": [],
   "source": [
    "# changing the credit history format from ayrsbmonths to number of months \n",
    "data['AVERAGE.ACCT.AGE'] = convert__int(data['AVERAGE.ACCT.AGE'])\n",
    "data['CREDIT.HISTORY.LENGTH'] = convert__int(data['CREDIT.HISTORY.LENGTH'])\n",
    "\n",
    "train['AVERAGE.ACCT.AGE'] = convert__int(train['AVERAGE.ACCT.AGE'])\n",
    "train['CREDIT.HISTORY.LENGTH'] = convert__int(train['CREDIT.HISTORY.LENGTH'])\n",
    "\n",
    "test['AVERAGE.ACCT.AGE'] = convert__int(test['AVERAGE.ACCT.AGE'])\n",
    "test['CREDIT.HISTORY.LENGTH'] = convert__int(test['CREDIT.HISTORY.LENGTH'])\n",
    "# data['CREDIT.HISTORY.LENGTH'] = data['CREDIT.HISTORY.LENGTH'].apply(lambda x: x.split(' ')[0])\n",
    "# data['CREDIT.HISTORY.LENGTH'] = data['CREDIT.HISTORY.LENGTH'].apply(lambda x: x.split('yrs')[0])\n",
    "#data['CREDIT.HISTORY.LENGTH'].value_counts()"
   ]
  },
  {
   "cell_type": "code",
   "execution_count": 38,
   "metadata": {},
   "outputs": [
    {
     "name": "stderr",
     "output_type": "stream",
     "text": [
      "/opt/conda/lib/python3.6/site-packages/scipy/stats/stats.py:1713: FutureWarning: Using a non-tuple sequence for multidimensional indexing is deprecated; use `arr[tuple(seq)]` instead of `arr[seq]`. In the future this will be interpreted as an array index, `arr[np.array(seq)]`, which will result either in an error or a different result.\n",
      "  return np.add.reduce(sorted[indexer] * weights, axis=axis) / sumval\n"
     ]
    },
    {
     "data": {
      "image/png": "[encoded data removed]",
      "text/plain": [
       "<Figure size 1296x360 with 1 Axes>"
      ]
     },
     "metadata": {},
     "output_type": "display_data"
    }
   ],
   "source": [
    "# distribution of credit history years\n",
    "\n",
    "plt.rcParams['figure.figsize'] = (18, 5)\n",
    "sns.distplot(data['CREDIT.HISTORY.LENGTH'])\n",
    "plt.title('Credit History in Years', fontsize = 25)\n",
    "plt.show()"
   ]
  },
  {
   "cell_type": "code",
   "execution_count": 39,
   "metadata": {},
   "outputs": [
    {
     "name": "stderr",
     "output_type": "stream",
     "text": [
      "/opt/conda/lib/python3.6/site-packages/scipy/stats/stats.py:1713: FutureWarning: Using a non-tuple sequence for multidimensional indexing is deprecated; use `arr[tuple(seq)]` instead of `arr[seq]`. In the future this will be interpreted as an array index, `arr[np.array(seq)]`, which will result either in an error or a different result.\n",
      "  return np.add.reduce(sorted[indexer] * weights, axis=axis) / sumval\n"
     ]
    },
    {
     "data": {
      "text/plain": [
       "(array([-40., -20.,   0.,  20.,  40.,  60.,  80., 100.]),\n",
       " <a list of 8 Text xticklabel objects>)"
      ]
     },
     "execution_count": 39,
     "metadata": {},
     "output_type": "execute_result"
    },
    {
     "data": {
      "image/png": "[encoded data removed]",
      "text/plain": [
       "<Figure size 1296x360 with 1 Axes>"
      ]
     },
     "metadata": {},
     "output_type": "display_data"
    }
   ],
   "source": [
    "# average.acct.age i.e., average loan tenure\n",
    "\n",
    "sns.distplot(data['AVERAGE.ACCT.AGE'].head(50))\n",
    "plt.title('Average Loan Tenure')\n",
    "plt.xticks(rotation = 45)"
   ]
  },
  {
   "cell_type": "code",
   "execution_count": 40,
   "metadata": {},
   "outputs": [
    {
     "data": {
      "text/plain": [
       "(array([ 0,  1,  2,  3,  4,  5,  6,  7,  8,  9, 10, 11, 12, 13, 14, 15, 16, 17, 18, 19, 20]),\n",
       " <a list of 21 Text xticklabel objects>)"
      ]
     },
     "execution_count": 40,
     "metadata": {},
     "output_type": "execute_result"
    },
    {
     "data": {
      "image/png": "[encoded data removed]",
      "text/plain": [
       "<Figure size 1296x360 with 1 Axes>"
      ]
     },
     "metadata": {},
     "output_type": "display_data"
    }
   ],
   "source": [
    "# average.acct.age i.e., average loan tenure\n",
    "\n",
    "sns.countplot(data['AVERAGE.ACCT.AGE'].tail(50), palette = 'colorblind')\n",
    "plt.title('Average Loan Tenure')\n",
    "plt.xticks(rotation = 45)"
   ]
  },
  {
   "cell_type": "code",
   "execution_count": 41,
   "metadata": {},
   "outputs": [],
   "source": [
    "# changing the average account age format from ayrsbmonths to years \n",
    "# as no. of years are more important\n",
    "\n",
    "# data['AVERAGE.ACCT.AGE'] = data['AVERAGE.ACCT.AGE'].apply(lambda x: x.split(' ')[0])\n",
    "# data['AVERAGE.ACCT.AGE'] = data['AVERAGE.ACCT.AGE'].apply(lambda x: x.split('yrs')[0])\n",
    "#data['AVERAGE.ACCT.AGE'].value_counts()"
   ]
  },
  {
   "cell_type": "code",
   "execution_count": 42,
   "metadata": {},
   "outputs": [
    {
     "data": {
      "text/plain": [
       "0     319144\n",
       "1      21684\n",
       "2       3550\n",
       "3        790\n",
       "4        220\n",
       "5         78\n",
       "6         29\n",
       "7         21\n",
       "8         10\n",
       "9          7\n",
       "12         5\n",
       "11         3\n",
       "10         2\n",
       "20         1\n",
       "18         1\n",
       "16         1\n",
       "Name: DELINQUENT.ACCTS.IN.LAST.SIX.MONTHS, dtype: int64"
      ]
     },
     "execution_count": 42,
     "metadata": {},
     "output_type": "execute_result"
    }
   ],
   "source": [
    "# loans defaulted in last six months\n",
    "\n",
    "data['DELINQUENT.ACCTS.IN.LAST.SIX.MONTHS'].value_counts()"
   ]
  },
  {
   "cell_type": "code",
   "execution_count": 43,
   "metadata": {},
   "outputs": [
    {
     "data": {
      "text/plain": [
       "0     272341\n",
       "1      45965\n",
       "2      15618\n",
       "3       6161\n",
       "4       2636\n",
       "5       1287\n",
       "6        625\n",
       "7        383\n",
       "8        197\n",
       "9        109\n",
       "10        82\n",
       "11        47\n",
       "12        28\n",
       "13        18\n",
       "14        11\n",
       "17         9\n",
       "16         8\n",
       "15         4\n",
       "19         4\n",
       "20         4\n",
       "18         2\n",
       "22         2\n",
       "23         2\n",
       "28         1\n",
       "21         1\n",
       "35         1\n",
       "Name: NEW.ACCTS.IN.LAST.SIX.MONTHS, dtype: int64"
      ]
     },
     "execution_count": 43,
     "metadata": {},
     "output_type": "execute_result"
    }
   ],
   "source": [
    "# new loans taken by the customer before disbursement\n",
    "\n",
    "data['NEW.ACCTS.IN.LAST.SIX.MONTHS'].value_counts()"
   ]
  },
  {
   "cell_type": "code",
   "execution_count": 44,
   "metadata": {},
   "outputs": [
    {
     "name": "stderr",
     "output_type": "stream",
     "text": [
      "/opt/conda/lib/python3.6/site-packages/scipy/stats/stats.py:1713: FutureWarning: Using a non-tuple sequence for multidimensional indexing is deprecated; use `arr[tuple(seq)]` instead of `arr[seq]`. In the future this will be interpreted as an array index, `arr[np.array(seq)]`, which will result either in an error or a different result.\n",
      "  return np.add.reduce(sorted[indexer] * weights, axis=axis) / sumval\n"
     ]
    },
    {
     "data": {
      "image/png": "[encoded data removed]",
      "text/plain": [
       "<Figure size 1296x360 with 2 Axes>"
      ]
     },
     "metadata": {},
     "output_type": "display_data"
    }
   ],
   "source": [
    "# EMI Amount of the Secondary Plan\n",
    "\n",
    "plt.subplot(1, 2, 1)\n",
    "sns.distplot(data['SEC.INSTAL.AMT'])\n",
    "plt.title('EMI Amount Secondary Plan', fontsize = 20)\n",
    "plt.xticks(rotation = 45)\n",
    "\n",
    "plt.subplot(1, 2, 2)\n",
    "sns.distplot(data['PRIMARY.INSTAL.AMT'])\n",
    "plt.title('EMI Amount Primary Plan', fontsize = 20)\n",
    "plt.xticks(rotation = 45)\n",
    "\n",
    "plt.show()"
   ]
  },
  {
   "cell_type": "code",
   "execution_count": 45,
   "metadata": {},
   "outputs": [
    {
     "name": "stderr",
     "output_type": "stream",
     "text": [
      "/opt/conda/lib/python3.6/site-packages/scipy/stats/stats.py:1713: FutureWarning: Using a non-tuple sequence for multidimensional indexing is deprecated; use `arr[tuple(seq)]` instead of `arr[seq]`. In the future this will be interpreted as an array index, `arr[np.array(seq)]`, which will result either in an error or a different result.\n",
      "  return np.add.reduce(sorted[indexer] * weights, axis=axis) / sumval\n"
     ]
    },
    {
     "data": {
      "image/png": "[encoded data removed]",
      "text/plain": [
       "<Figure size 1296x360 with 2 Axes>"
      ]
     },
     "metadata": {},
     "output_type": "display_data"
    }
   ],
   "source": [
    "# let's apply log transformations on EMI Amount of the Primary Loan and Secondary loan\n",
    "\n",
    "data['PRIMARY.INSTAL.AMT'] = np.log1p(data['PRIMARY.INSTAL.AMT'])\n",
    "data['SEC.INSTAL.AMT'] = np.log1p(data['SEC.INSTAL.AMT'])\n",
    "\n",
    "train['PRIMARY.INSTAL.AMT'] = np.log1p(train['PRIMARY.INSTAL.AMT'])\n",
    "train['SEC.INSTAL.AMT'] = np.log1p(train['SEC.INSTAL.AMT'])\n",
    "\n",
    "test['PRIMARY.INSTAL.AMT'] = np.log1p(test['PRIMARY.INSTAL.AMT'])\n",
    "test['SEC.INSTAL.AMT'] = np.log1p(test['SEC.INSTAL.AMT'])\n",
    "\n",
    "plt.subplot(1, 2, 1)\n",
    "sns.distplot(data['SEC.INSTAL.AMT'], color = 'yellow')\n",
    "plt.title('EMI Amount Secondary Plan', fontsize = 20)\n",
    "plt.xticks(rotation = 45)\n",
    "\n",
    "plt.subplot(1, 2, 2)\n",
    "sns.distplot(data['PRIMARY.INSTAL.AMT'],color = 'yellow')\n",
    "plt.title('EMI Amount Primary Plan', fontsize = 20)\n",
    "plt.xticks(rotation = 45)\n",
    "\n",
    "plt.show()"
   ]
  },
  {
   "cell_type": "code",
   "execution_count": 46,
   "metadata": {},
   "outputs": [
    {
     "name": "stderr",
     "output_type": "stream",
     "text": [
      "/opt/conda/lib/python3.6/site-packages/scipy/stats/stats.py:1713: FutureWarning: Using a non-tuple sequence for multidimensional indexing is deprecated; use `arr[tuple(seq)]` instead of `arr[seq]`. In the future this will be interpreted as an array index, `arr[np.array(seq)]`, which will result either in an error or a different result.\n",
      "  return np.add.reduce(sorted[indexer] * weights, axis=axis) / sumval\n"
     ]
    },
    {
     "data": {
      "text/plain": [
       "(array([-10000000.,         0.,  10000000.,  20000000.,  30000000.,  40000000.,  50000000.,  60000000.,  70000000.]),\n",
       " <a list of 9 Text xticklabel objects>)"
      ]
     },
     "execution_count": 46,
     "metadata": {},
     "output_type": "execute_result"
    },
    {
     "data": {
      "image/png": "[encoded data removed]",
      "text/plain": [
       "<Figure size 1296x864 with 6 Axes>"
      ]
     },
     "metadata": {},
     "output_type": "display_data"
    }
   ],
   "source": [
    "# distribution for different attributesof secondary accounts\n",
    "\n",
    "\n",
    "plt.rcParams['figure.figsize'] = (18, 12)    \n",
    "plt.subplot(2, 3, 1)\n",
    "sns.distplot(data['SEC.NO.OF.ACCTS'], color = 'green')\n",
    "plt.title('Total loan taken by customer')\n",
    "plt.xticks(rotation = 45)\n",
    "\n",
    "plt.subplot(2, 3, 2)\n",
    "sns.distplot(data['SEC.ACTIVE.ACCTS'], color = 'green')\n",
    "plt.title('Active loan taken by customer')\n",
    "plt.xticks(rotation = 45)\n",
    "\n",
    "plt.subplot(2, 3, 3)\n",
    "sns.distplot(data['SEC.OVERDUE.ACCTS'], color = 'green')\n",
    "plt.title('Default Accounts at the time of disbursement')\n",
    "plt.xticks(rotation = 45)\n",
    "\n",
    "plt.subplot(2, 3, 4)\n",
    "sns.distplot(data['SEC.CURRENT.BALANCE'], color = 'green')\n",
    "plt.title('Principal Outstanding amount')\n",
    "plt.xticks(rotation = 45)\n",
    "\n",
    "plt.subplot(2, 3, 5)\n",
    "sns.distplot(data['SEC.SANCTIONED.AMOUNT'], color = 'green')\n",
    "plt.title('Total Sanctioned Amount')\n",
    "plt.xticks(rotation = 45)\n",
    "\n",
    "plt.subplot(2, 3, 6)\n",
    "sns.distplot(data['SEC.DISBURSED.AMOUNT'], color = 'green')\n",
    "plt.title('Total Disbured Amount')\n",
    "plt.xticks(rotation = 45)"
   ]
  },
  {
   "cell_type": "code",
   "execution_count": 47,
   "metadata": {},
   "outputs": [],
   "source": [
    "# applying log transformation to all these attributes\n",
    "\n",
    "data['SEC.NO.OF.ACCTS'] = np.log1p(data['SEC.NO.OF.ACCTS'])\n",
    "data['SEC.ACTIVE.ACCTS'] = np.log1p(data['SEC.ACTIVE.ACCTS'])\n",
    "data['SEC.OVERDUE.ACCTS'] = np.log1p(data['SEC.OVERDUE.ACCTS'])\n",
    "#data['SEC.CURRENT.BALANCE'] = np.log1p(data['SEC.CURRENT.BALANCE'])\n",
    "data['SEC.SANCTIONED.AMOUNT'] = np.log1p(data['SEC.SANCTIONED.AMOUNT'])\n",
    "data['SEC.DISBURSED.AMOUNT'] = np.log1p(data['SEC.DISBURSED.AMOUNT'])\n",
    "\n",
    "#  filling  missing values in sec.current.balance\n",
    "data['SEC.CURRENT.BALANCE'].fillna(data['SEC.CURRENT.BALANCE'].mean(), inplace = True)\n"
   ]
  },
  {
   "cell_type": "code",
   "execution_count": 48,
   "metadata": {},
   "outputs": [],
   "source": [
    "train['SEC.NO.OF.ACCTS'] = np.log1p(train['SEC.NO.OF.ACCTS'])\n",
    "train['SEC.ACTIVE.ACCTS'] = np.log1p(train['SEC.ACTIVE.ACCTS'])\n",
    "train['SEC.OVERDUE.ACCTS'] = np.log1p(train['SEC.OVERDUE.ACCTS'])\n",
    "#train['SEC.CURRENT.BALANCE'] = np.log1p(train['SEC.CURRENT.BALANCE'])\n",
    "train['SEC.SANCTIONED.AMOUNT'] = np.log1p(train['SEC.SANCTIONED.AMOUNT'])\n",
    "train['SEC.DISBURSED.AMOUNT'] = np.log1p(train['SEC.DISBURSED.AMOUNT'])\n",
    "\n",
    "#  filling  missing values in sec.current.balance\n",
    "train['SEC.CURRENT.BALANCE'].fillna(train['SEC.CURRENT.BALANCE'].mean(), inplace = True)"
   ]
  },
  {
   "cell_type": "code",
   "execution_count": 49,
   "metadata": {},
   "outputs": [],
   "source": [
    "test['SEC.NO.OF.ACCTS'] = np.log1p(test['SEC.NO.OF.ACCTS'])\n",
    "test['SEC.ACTIVE.ACCTS'] = np.log1p(test['SEC.ACTIVE.ACCTS'])\n",
    "test['SEC.OVERDUE.ACCTS'] = np.log1p(test['SEC.OVERDUE.ACCTS'])\n",
    "#test['SEC.CURRENT.BALANCE'] = np.log1p(test['SEC.CURRENT.BALANCE'])\n",
    "test['SEC.SANCTIONED.AMOUNT'] = np.log1p(test['SEC.SANCTIONED.AMOUNT'])\n",
    "test['SEC.DISBURSED.AMOUNT'] = np.log1p(test['SEC.DISBURSED.AMOUNT'])\n",
    "\n",
    "#  filling  missing values in sec.current.balance\n",
    "test['SEC.CURRENT.BALANCE'].fillna(test['SEC.CURRENT.BALANCE'].mean(), inplace = True)"
   ]
  },
  {
   "cell_type": "code",
   "execution_count": 50,
   "metadata": {},
   "outputs": [
    {
     "name": "stderr",
     "output_type": "stream",
     "text": [
      "/opt/conda/lib/python3.6/site-packages/scipy/stats/stats.py:1713: FutureWarning: Using a non-tuple sequence for multidimensional indexing is deprecated; use `arr[tuple(seq)]` instead of `arr[seq]`. In the future this will be interpreted as an array index, `arr[np.array(seq)]`, which will result either in an error or a different result.\n",
      "  return np.add.reduce(sorted[indexer] * weights, axis=axis) / sumval\n"
     ]
    },
    {
     "data": {
      "image/png": "[encoded data removed]",
      "text/plain": [
       "<Figure size 1296x864 with 6 Axes>"
      ]
     },
     "metadata": {},
     "output_type": "display_data"
    }
   ],
   "source": [
    "\n",
    "plt.rcParams['figure.figsize'] = (18, 12)    \n",
    "plt.subplot(2, 3, 1)\n",
    "sns.distplot(data['SEC.NO.OF.ACCTS'], color = 'red')\n",
    "plt.title('Total loan taken by customer')\n",
    "plt.xticks(rotation = 45)\n",
    "\n",
    "plt.subplot(2, 3, 2)\n",
    "sns.distplot(data['SEC.ACTIVE.ACCTS'], color = 'red')\n",
    "plt.title('Active loan taken by customer')\n",
    "plt.xticks(rotation = 45)\n",
    "\n",
    "plt.subplot(2, 3, 3)\n",
    "sns.distplot(data['SEC.OVERDUE.ACCTS'], color = 'red')\n",
    "plt.title('Default Accounts')\n",
    "plt.xticks(rotation = 45)\n",
    "\n",
    "plt.subplot(2, 3, 4)\n",
    "sns.distplot(data['SEC.CURRENT.BALANCE'], color = 'red')\n",
    "plt.title('Principal Outstanding amount')\n",
    "plt.xticks(rotation = 45)\n",
    "\n",
    "plt.subplot(2, 3, 5)\n",
    "sns.distplot(data['SEC.SANCTIONED.AMOUNT'], color = 'red')\n",
    "plt.title('Total Sanctioned Amount')\n",
    "plt.xticks(rotation = 45)\n",
    "\n",
    "plt.subplot(2, 3, 6)\n",
    "sns.distplot(data['SEC.DISBURSED.AMOUNT'], color = 'red')\n",
    "plt.title('Total Disbured Amount')\n",
    "plt.xticks(rotation = 45)\n",
    "\n",
    "plt.show()"
   ]
  },
  {
   "cell_type": "code",
   "execution_count": 51,
   "metadata": {},
   "outputs": [
    {
     "name": "stderr",
     "output_type": "stream",
     "text": [
      "/opt/conda/lib/python3.6/site-packages/ipykernel_launcher.py:7: RuntimeWarning: invalid value encountered in log1p\n",
      "  import sys\n"
     ]
    }
   ],
   "source": [
    "#  applying log transformations to the primary account attributes\n",
    "\n",
    "data['PRI.NO.OF.ACCTS'] = np.log1p(data['PRI.NO.OF.ACCTS'])\n",
    "data['PRI.ACTIVE.ACCTS'] = np.log1p(data['PRI.ACTIVE.ACCTS'])\n",
    "#data['PRI.OVERDUE.ACCTS'] = np.log1p(data['PRI.OVERDUE.ACCTS'])\n",
    "#data['PRI.CURRENT.BALANCE'] = np.log1p(data['PRI.CURRENT.BALANCE'])\n",
    "data['PRI.SANCTIONED.AMOUNT'] = np.log1p(data['PRI.SANCTIONED.AMOUNT'])\n",
    "data['PRI.DISBURSED.AMOUNT'] = np.log1p(data['PRI.DISBURSED.AMOUNT'])\n",
    "\n",
    "#  filling  missing values in sec.current.balance\n",
    "data['PRI.CURRENT.BALANCE'].fillna(data['PRI.CURRENT.BALANCE'].mean(), inplace = True)\n",
    "data['PRI.SANCTIONED.AMOUNT'].fillna(data['PRI.SANCTIONED.AMOUNT'].mean(), inplace = True)\n",
    "data['PRI.OVERDUE.ACCTS'].fillna(data['PRI.OVERDUE.ACCTS'].mean(), inplace = True)\n",
    "data['PRI.DISBURSED.AMOUNT'].fillna(data['PRI.DISBURSED.AMOUNT'].mean(), inplace = True)\n",
    "#data['PRI.OVERDUE.ACCTS'].fillna(data['PRI.OVERDUE.ACCTS'].mean(), inplace = True)"
   ]
  },
  {
   "cell_type": "code",
   "execution_count": 52,
   "metadata": {},
   "outputs": [],
   "source": [
    "#  applying log transformations to the primary account attributes\n",
    "\n",
    "train['PRI.NO.OF.ACCTS'] = np.log1p(train['PRI.NO.OF.ACCTS'])\n",
    "train['PRI.ACTIVE.ACCTS'] = np.log1p(train['PRI.ACTIVE.ACCTS'])\n",
    "#data['PRI.OVERDUE.ACCTS'] = np.log1p(train['PRI.OVERDUE.ACCTS'])\n",
    "#train['PRI.CURRENT.BALANCE'] = np.log1p(train['PRI.CURRENT.BALANCE'])\n",
    "train['PRI.SANCTIONED.AMOUNT'] = np.log1p(train['PRI.SANCTIONED.AMOUNT'])\n",
    "train['PRI.DISBURSED.AMOUNT'] = np.log1p(train['PRI.DISBURSED.AMOUNT'])\n",
    "\n",
    "#  filling  missing values in sec.current.balance\n",
    "train['PRI.CURRENT.BALANCE'].fillna(train['PRI.CURRENT.BALANCE'].mean(), inplace = True)\n",
    "train['PRI.SANCTIONED.AMOUNT'].fillna(train['PRI.SANCTIONED.AMOUNT'].mean(), inplace = True)\n",
    "train['PRI.OVERDUE.ACCTS'].fillna(train['PRI.OVERDUE.ACCTS'].mean(), inplace = True)\n",
    "train['PRI.DISBURSED.AMOUNT'].fillna(train['PRI.DISBURSED.AMOUNT'].mean(), inplace = True)"
   ]
  },
  {
   "cell_type": "code",
   "execution_count": 53,
   "metadata": {},
   "outputs": [
    {
     "name": "stderr",
     "output_type": "stream",
     "text": [
      "/opt/conda/lib/python3.6/site-packages/ipykernel_launcher.py:7: RuntimeWarning: invalid value encountered in log1p\n",
      "  import sys\n"
     ]
    }
   ],
   "source": [
    "#  applying log transformations to the primary account attributes\n",
    "\n",
    "test['PRI.NO.OF.ACCTS'] = np.log1p(test['PRI.NO.OF.ACCTS'])\n",
    "test['PRI.ACTIVE.ACCTS'] = np.log1p(test['PRI.ACTIVE.ACCTS'])\n",
    "#test['PRI.OVERDUE.ACCTS'] = np.log1p(test['PRI.OVERDUE.ACCTS'])\n",
    "#test['PRI.CURRENT.BALANCE'] = np.log1p(test['PRI.CURRENT.BALANCE'])\n",
    "test['PRI.SANCTIONED.AMOUNT'] = np.log1p(test['PRI.SANCTIONED.AMOUNT'])\n",
    "test['PRI.DISBURSED.AMOUNT'] = np.log1p(test['PRI.DISBURSED.AMOUNT'])\n",
    "\n",
    "#  filling  missing values in sec.current.balance\n",
    "test['PRI.CURRENT.BALANCE'].fillna(test['PRI.CURRENT.BALANCE'].mean(), inplace = True)\n",
    "test['PRI.SANCTIONED.AMOUNT'].fillna(test['PRI.SANCTIONED.AMOUNT'].mean(), inplace = True)\n",
    "test['PRI.OVERDUE.ACCTS'].fillna(test['PRI.OVERDUE.ACCTS'].mean(), inplace = True)\n",
    "test['PRI.DISBURSED.AMOUNT'].fillna(test['PRI.DISBURSED.AMOUNT'].mean(), inplace = True)"
   ]
  },
  {
   "cell_type": "code",
   "execution_count": 54,
   "metadata": {},
   "outputs": [
    {
     "name": "stderr",
     "output_type": "stream",
     "text": [
      "/opt/conda/lib/python3.6/site-packages/scipy/stats/stats.py:1713: FutureWarning: Using a non-tuple sequence for multidimensional indexing is deprecated; use `arr[tuple(seq)]` instead of `arr[seq]`. In the future this will be interpreted as an array index, `arr[np.array(seq)]`, which will result either in an error or a different result.\n",
      "  return np.add.reduce(sorted[indexer] * weights, axis=axis) / sumval\n"
     ]
    },
    {
     "data": {
      "image/png": "[encoded data removed]",
      "text/plain": [
       "<Figure size 1296x864 with 6 Axes>"
      ]
     },
     "metadata": {},
     "output_type": "display_data"
    }
   ],
   "source": [
    "# plotting distribution plots for these attributes\n",
    "\n",
    "plt.rcParams['figure.figsize'] = (18, 12)    \n",
    "plt.subplot(2, 3, 1)\n",
    "sns.distplot(data['PRI.NO.OF.ACCTS'], color = 'violet')\n",
    "plt.title('Total loan taken by customer')\n",
    "plt.xticks(rotation = 45)\n",
    "\n",
    "plt.subplot(2, 3, 2)\n",
    "sns.distplot(data['PRI.ACTIVE.ACCTS'], color = 'violet')\n",
    "plt.title('Active loan taken by customer')\n",
    "plt.xticks(rotation = 45)\n",
    "\n",
    "plt.subplot(2, 3, 3)\n",
    "sns.distplot(data['PRI.OVERDUE.ACCTS'], color = 'violet')\n",
    "plt.title('Default Accounts')\n",
    "plt.xticks(rotation = 45)\n",
    "\n",
    "plt.subplot(2, 3, 4)\n",
    "sns.distplot(data['PRI.CURRENT.BALANCE'], color = 'violet')\n",
    "plt.title('Principal Outstanding amount')\n",
    "plt.xticks(rotation = 45)\n",
    "\n",
    "plt.subplot(2, 3, 5)\n",
    "sns.distplot(data['PRI.SANCTIONED.AMOUNT'], color = 'violet')\n",
    "plt.title('Total Sanctioned Amount')\n",
    "plt.xticks(rotation = 45)\n",
    "\n",
    "plt.subplot(2, 3, 6)\n",
    "sns.distplot(data['PRI.DISBURSED.AMOUNT'], color = 'violet')\n",
    "plt.title('Total Disbured Amount')\n",
    "plt.xticks(rotation = 45)\n",
    "\n",
    "plt.show()"
   ]
  },
  {
   "cell_type": "code",
   "execution_count": 55,
   "metadata": {},
   "outputs": [
    {
     "data": {
      "image/png": "[encoded data removed]",
      "text/plain": [
       "<Figure size 1368x432 with 1 Axes>"
      ]
     },
     "metadata": {},
     "output_type": "display_data"
    }
   ],
   "source": [
    "# checking the bureau score description\n",
    "\n",
    "plt.rcParams['figure.figsize'] = (19, 6)\n",
    "sns.countplot(data['PERFORM_CNS.SCORE.DESCRIPTION'], palette = 'pastel')\n",
    "plt.title('Bureau Score Description', fontsize = 30)\n",
    "plt.xticks(rotation = 90)\n",
    "plt.show()"
   ]
  },
  {
   "cell_type": "code",
   "execution_count": 56,
   "metadata": {},
   "outputs": [
    {
     "data": {
      "text/plain": [
       "No Bureau History Available                                174843\n",
       "C-Very Low Risk                                             23870\n",
       "A-Very Low Risk                                             21683\n",
       "D-Very Low Risk                                             16472\n",
       "B-Very Low Risk                                             13696\n",
       "M-Very High Risk                                            12808\n",
       "F-Low Risk                                                  12176\n",
       "K-High Risk                                                 12141\n",
       "H-Medium Risk                                               10142\n",
       "E-Low Risk                                                   8393\n",
       "I-Medium Risk                                                8260\n",
       "G-Low Risk                                                   5795\n",
       "J-High Risk                                                  5526\n",
       "Not Scored: Sufficient History Not Available                 5025\n",
       "Not Scored: Not Enough Info available on the customer        4940\n",
       "Not Scored: No Activity seen on the customer (Inactive)      4246\n",
       "Not Scored: No Updates available in last 36 months           2299\n",
       "L-Very High Risk                                             1782\n",
       "Not Scored: Only a Guarantor                                 1446\n",
       "Not Scored: More than 50 active Accounts found                  3\n",
       "Name: PERFORM_CNS.SCORE.DESCRIPTION, dtype: int64"
      ]
     },
     "execution_count": 56,
     "metadata": {},
     "output_type": "execute_result"
    }
   ],
   "source": [
    "# checking the perform cns score description\n",
    "\n",
    "data['PERFORM_CNS.SCORE.DESCRIPTION'].value_counts()"
   ]
  },
  {
   "cell_type": "code",
   "execution_count": 57,
   "metadata": {},
   "outputs": [
    {
     "data": {
      "text/plain": [
       "0    192802\n",
       "5     75721\n",
       "4     26364\n",
       "3     18402\n",
       "2     17667\n",
       "1     14590\n",
       "Name: PERFORM_CNS.SCORE.DESCRIPTION, dtype: int64"
      ]
     },
     "execution_count": 57,
     "metadata": {},
     "output_type": "execute_result"
    }
   ],
   "source": [
    "# encodings for bureau score(perform cns score distribution)\n",
    "\n",
    "data['PERFORM_CNS.SCORE.DESCRIPTION'] = data['PERFORM_CNS.SCORE.DESCRIPTION'].replace('No Bureau History Available', 0)\n",
    "data['PERFORM_CNS.SCORE.DESCRIPTION'] = data['PERFORM_CNS.SCORE.DESCRIPTION'].replace('Not Scored: Sufficient History Not Available', 0)\n",
    "data['PERFORM_CNS.SCORE.DESCRIPTION'] = data['PERFORM_CNS.SCORE.DESCRIPTION'].replace('Not Scored: Not Enough Info available on the customer', 0)\n",
    "data['PERFORM_CNS.SCORE.DESCRIPTION'] = data['PERFORM_CNS.SCORE.DESCRIPTION'].replace('Not Scored: No Activity seen on the customer (Inactive)',0)\n",
    "data['PERFORM_CNS.SCORE.DESCRIPTION'] = data['PERFORM_CNS.SCORE.DESCRIPTION'].replace('Not Scored: No Updates available in last 36 months', 0)\n",
    "data['PERFORM_CNS.SCORE.DESCRIPTION'] = data['PERFORM_CNS.SCORE.DESCRIPTION'].replace('Not Scored: Only a Guarantor', 0)\n",
    "data['PERFORM_CNS.SCORE.DESCRIPTION'] = data['PERFORM_CNS.SCORE.DESCRIPTION'].replace('Not Scored: More than 50 active Accounts found',0)\n",
    "data['PERFORM_CNS.SCORE.DESCRIPTION'] = data['PERFORM_CNS.SCORE.DESCRIPTION'].replace('M-Very High Risk', 1)\n",
    "data['PERFORM_CNS.SCORE.DESCRIPTION'] = data['PERFORM_CNS.SCORE.DESCRIPTION'].replace('L-Very High Risk', 1)\n",
    "data['PERFORM_CNS.SCORE.DESCRIPTION'] = data['PERFORM_CNS.SCORE.DESCRIPTION'].replace('K-High Risk', 2)\n",
    "data['PERFORM_CNS.SCORE.DESCRIPTION'] = data['PERFORM_CNS.SCORE.DESCRIPTION'].replace('J-High Risk', 2)\n",
    "data['PERFORM_CNS.SCORE.DESCRIPTION'] = data['PERFORM_CNS.SCORE.DESCRIPTION'].replace('I-Medium Risk', 3)\n",
    "data['PERFORM_CNS.SCORE.DESCRIPTION'] = data['PERFORM_CNS.SCORE.DESCRIPTION'].replace('H-Medium Risk', 3)\n",
    "data['PERFORM_CNS.SCORE.DESCRIPTION'] = data['PERFORM_CNS.SCORE.DESCRIPTION'].replace('G-Low Risk', 4)\n",
    "data['PERFORM_CNS.SCORE.DESCRIPTION'] = data['PERFORM_CNS.SCORE.DESCRIPTION'].replace('F-Low Risk', 4)\n",
    "data['PERFORM_CNS.SCORE.DESCRIPTION'] = data['PERFORM_CNS.SCORE.DESCRIPTION'].replace('E-Low Risk', 4)\n",
    "data['PERFORM_CNS.SCORE.DESCRIPTION'] = data['PERFORM_CNS.SCORE.DESCRIPTION'].replace('D-Very Low Risk', 5)\n",
    "data['PERFORM_CNS.SCORE.DESCRIPTION'] = data['PERFORM_CNS.SCORE.DESCRIPTION'].replace('C-Very Low Risk', 5)\n",
    "data['PERFORM_CNS.SCORE.DESCRIPTION'] = data['PERFORM_CNS.SCORE.DESCRIPTION'].replace('B-Very Low Risk', 5)\n",
    "data['PERFORM_CNS.SCORE.DESCRIPTION'] = data['PERFORM_CNS.SCORE.DESCRIPTION'].replace('A-Very Low Risk', 5)\n",
    "\n",
    "# checing the values in bureau score\n",
    "data['PERFORM_CNS.SCORE.DESCRIPTION'].value_counts()\n"
   ]
  },
  {
   "cell_type": "code",
   "execution_count": 58,
   "metadata": {},
   "outputs": [],
   "source": [
    "train['PERFORM_CNS.SCORE.DESCRIPTION'] = train['PERFORM_CNS.SCORE.DESCRIPTION'].replace('No Bureau History Available', 0)\n",
    "train['PERFORM_CNS.SCORE.DESCRIPTION'] = train['PERFORM_CNS.SCORE.DESCRIPTION'].replace('Not Scored: Sufficient History Not Available', 0)\n",
    "train['PERFORM_CNS.SCORE.DESCRIPTION'] = train['PERFORM_CNS.SCORE.DESCRIPTION'].replace('Not Scored: Not Enough Info available on the customer', 0)\n",
    "train['PERFORM_CNS.SCORE.DESCRIPTION'] = train['PERFORM_CNS.SCORE.DESCRIPTION'].replace('Not Scored: No Activity seen on the customer (Inactive)',0)\n",
    "train['PERFORM_CNS.SCORE.DESCRIPTION'] = train['PERFORM_CNS.SCORE.DESCRIPTION'].replace('Not Scored: No Updates available in last 36 months', 0)\n",
    "train['PERFORM_CNS.SCORE.DESCRIPTION'] = train['PERFORM_CNS.SCORE.DESCRIPTION'].replace('Not Scored: Only a Guarantor', 0)\n",
    "train['PERFORM_CNS.SCORE.DESCRIPTION'] = train['PERFORM_CNS.SCORE.DESCRIPTION'].replace('Not Scored: More than 50 active Accounts found',0)\n",
    "train['PERFORM_CNS.SCORE.DESCRIPTION'] = train['PERFORM_CNS.SCORE.DESCRIPTION'].replace('M-Very High Risk', 1)\n",
    "train['PERFORM_CNS.SCORE.DESCRIPTION'] = train['PERFORM_CNS.SCORE.DESCRIPTION'].replace('L-Very High Risk', 1)\n",
    "train['PERFORM_CNS.SCORE.DESCRIPTION'] = train['PERFORM_CNS.SCORE.DESCRIPTION'].replace('K-High Risk', 2)\n",
    "train['PERFORM_CNS.SCORE.DESCRIPTION'] = train['PERFORM_CNS.SCORE.DESCRIPTION'].replace('J-High Risk', 2)\n",
    "train['PERFORM_CNS.SCORE.DESCRIPTION'] = train['PERFORM_CNS.SCORE.DESCRIPTION'].replace('I-Medium Risk', 3)\n",
    "train['PERFORM_CNS.SCORE.DESCRIPTION'] = train['PERFORM_CNS.SCORE.DESCRIPTION'].replace('H-Medium Risk', 3)\n",
    "train['PERFORM_CNS.SCORE.DESCRIPTION'] = train['PERFORM_CNS.SCORE.DESCRIPTION'].replace('G-Low Risk', 4)\n",
    "train['PERFORM_CNS.SCORE.DESCRIPTION'] = train['PERFORM_CNS.SCORE.DESCRIPTION'].replace('F-Low Risk', 4)\n",
    "train['PERFORM_CNS.SCORE.DESCRIPTION'] = train['PERFORM_CNS.SCORE.DESCRIPTION'].replace('E-Low Risk', 4)\n",
    "train['PERFORM_CNS.SCORE.DESCRIPTION'] = train['PERFORM_CNS.SCORE.DESCRIPTION'].replace('D-Very Low Risk', 5)\n",
    "train['PERFORM_CNS.SCORE.DESCRIPTION'] = train['PERFORM_CNS.SCORE.DESCRIPTION'].replace('C-Very Low Risk', 5)\n",
    "train['PERFORM_CNS.SCORE.DESCRIPTION'] = train['PERFORM_CNS.SCORE.DESCRIPTION'].replace('B-Very Low Risk', 5)\n",
    "train['PERFORM_CNS.SCORE.DESCRIPTION'] = train['PERFORM_CNS.SCORE.DESCRIPTION'].replace('A-Very Low Risk', 5)"
   ]
  },
  {
   "cell_type": "code",
   "execution_count": 59,
   "metadata": {},
   "outputs": [],
   "source": [
    "test['PERFORM_CNS.SCORE.DESCRIPTION'] = test['PERFORM_CNS.SCORE.DESCRIPTION'].replace('No Bureau History Available', 0)\n",
    "test['PERFORM_CNS.SCORE.DESCRIPTION'] = test['PERFORM_CNS.SCORE.DESCRIPTION'].replace('Not Scored: Sufficient History Not Available', 0)\n",
    "test['PERFORM_CNS.SCORE.DESCRIPTION'] = test['PERFORM_CNS.SCORE.DESCRIPTION'].replace('Not Scored: Not Enough Info available on the customer', 0)\n",
    "test['PERFORM_CNS.SCORE.DESCRIPTION'] = test['PERFORM_CNS.SCORE.DESCRIPTION'].replace('Not Scored: No Activity seen on the customer (Inactive)',0)\n",
    "test['PERFORM_CNS.SCORE.DESCRIPTION'] = test['PERFORM_CNS.SCORE.DESCRIPTION'].replace('Not Scored: No Updates available in last 36 months', 0)\n",
    "test['PERFORM_CNS.SCORE.DESCRIPTION'] = test['PERFORM_CNS.SCORE.DESCRIPTION'].replace('Not Scored: Only a Guarantor', 0)\n",
    "test['PERFORM_CNS.SCORE.DESCRIPTION'] = test['PERFORM_CNS.SCORE.DESCRIPTION'].replace('Not Scored: More than 50 active Accounts found',0)\n",
    "test['PERFORM_CNS.SCORE.DESCRIPTION'] = test['PERFORM_CNS.SCORE.DESCRIPTION'].replace('M-Very High Risk', 1)\n",
    "test['PERFORM_CNS.SCORE.DESCRIPTION'] = test['PERFORM_CNS.SCORE.DESCRIPTION'].replace('L-Very High Risk', 1)\n",
    "test['PERFORM_CNS.SCORE.DESCRIPTION'] = test['PERFORM_CNS.SCORE.DESCRIPTION'].replace('K-High Risk', 2)\n",
    "test['PERFORM_CNS.SCORE.DESCRIPTION'] = test['PERFORM_CNS.SCORE.DESCRIPTION'].replace('J-High Risk', 2)\n",
    "test['PERFORM_CNS.SCORE.DESCRIPTION'] = test['PERFORM_CNS.SCORE.DESCRIPTION'].replace('I-Medium Risk', 3)\n",
    "test['PERFORM_CNS.SCORE.DESCRIPTION'] = test['PERFORM_CNS.SCORE.DESCRIPTION'].replace('H-Medium Risk', 3)\n",
    "test['PERFORM_CNS.SCORE.DESCRIPTION'] = test['PERFORM_CNS.SCORE.DESCRIPTION'].replace('G-Low Risk', 4)\n",
    "test['PERFORM_CNS.SCORE.DESCRIPTION'] = test['PERFORM_CNS.SCORE.DESCRIPTION'].replace('F-Low Risk', 4)\n",
    "test['PERFORM_CNS.SCORE.DESCRIPTION'] = test['PERFORM_CNS.SCORE.DESCRIPTION'].replace('E-Low Risk', 4)\n",
    "test['PERFORM_CNS.SCORE.DESCRIPTION'] = test['PERFORM_CNS.SCORE.DESCRIPTION'].replace('D-Very Low Risk', 5)\n",
    "test['PERFORM_CNS.SCORE.DESCRIPTION'] = test['PERFORM_CNS.SCORE.DESCRIPTION'].replace('C-Very Low Risk', 5)\n",
    "test['PERFORM_CNS.SCORE.DESCRIPTION'] = test['PERFORM_CNS.SCORE.DESCRIPTION'].replace('B-Very Low Risk', 5)\n",
    "test['PERFORM_CNS.SCORE.DESCRIPTION'] = test['PERFORM_CNS.SCORE.DESCRIPTION'].replace('A-Very Low Risk', 5)"
   ]
  },
  {
   "cell_type": "code",
   "execution_count": 60,
   "metadata": {},
   "outputs": [
    {
     "name": "stderr",
     "output_type": "stream",
     "text": [
      "/opt/conda/lib/python3.6/site-packages/scipy/stats/stats.py:1713: FutureWarning: Using a non-tuple sequence for multidimensional indexing is deprecated; use `arr[tuple(seq)]` instead of `arr[seq]`. In the future this will be interpreted as an array index, `arr[np.array(seq)]`, which will result either in an error or a different result.\n",
      "  return np.add.reduce(sorted[indexer] * weights, axis=axis) / sumval\n"
     ]
    },
    {
     "data": {
      "image/png": "[encoded data removed]",
      "text/plain": [
       "<Figure size 1080x360 with 2 Axes>"
      ]
     },
     "metadata": {},
     "output_type": "display_data"
    }
   ],
   "source": [
    "# checking the bureau score\n",
    "\n",
    "plt.rcParams['figure.figsize'] = (15, 5)\n",
    "plt.subplot(1, 2, 1)\n",
    "sns.distplot(data['PERFORM_CNS.SCORE'], color = 'purple')\n",
    "plt.title('Before Log transformations')\n",
    "\n",
    "plt.subplot(1, 2, 2)\n",
    "data['PERFORM_CNS.SCORE'] = np.log1p(data['PERFORM_CNS.SCORE'])\n",
    "train['PERFORM_CNS.SCORE'] = np.log1p(train['PERFORM_CNS.SCORE'])\n",
    "test['PERFORM_CNS.SCORE'] = np.log1p(test['PERFORM_CNS.SCORE'])\n",
    "sns.distplot(data['PERFORM_CNS.SCORE'], color = 'maroon')\n",
    "plt.title('After Log transformations')\n",
    "\n",
    "plt.show()"
   ]
  },
  {
   "cell_type": "code",
   "execution_count": 61,
   "metadata": {},
   "outputs": [
    {
     "data": {
      "text/plain": [
       "0    344835\n",
       "1       711\n",
       "Name: Passport_flag, dtype: int64"
      ]
     },
     "execution_count": 61,
     "metadata": {},
     "output_type": "execute_result"
    }
   ],
   "source": [
    "# customer has passport or not\n",
    "\n",
    "data['Passport_flag'].value_counts()"
   ]
  },
  {
   "cell_type": "code",
   "execution_count": 62,
   "metadata": {},
   "outputs": [
    {
     "data": {
      "text/plain": [
       "0    338249\n",
       "1      7297\n",
       "Name: Driving_flag, dtype: int64"
      ]
     },
     "execution_count": 62,
     "metadata": {},
     "output_type": "execute_result"
    }
   ],
   "source": [
    "# customer has driving license or not\n",
    "\n",
    "data['Driving_flag'].value_counts()"
   ]
  },
  {
   "cell_type": "code",
   "execution_count": 63,
   "metadata": {},
   "outputs": [
    {
     "data": {
      "text/plain": [
       "0    298155\n",
       "1     47391\n",
       "Name: VoterID_flag, dtype: int64"
      ]
     },
     "execution_count": 63,
     "metadata": {},
     "output_type": "execute_result"
    }
   ],
   "source": [
    "# customer has voter-id card or not\n",
    "\n",
    "data['VoterID_flag'].value_counts()"
   ]
  },
  {
   "cell_type": "code",
   "execution_count": 64,
   "metadata": {},
   "outputs": [
    {
     "data": {
      "text/plain": [
       "0    306392\n",
       "1     39154\n",
       "Name: PAN_flag, dtype: int64"
      ]
     },
     "execution_count": 64,
     "metadata": {},
     "output_type": "execute_result"
    }
   ],
   "source": [
    "# customer has pan card or not\n",
    "\n",
    "data['PAN_flag'].value_counts()"
   ]
  },
  {
   "cell_type": "code",
   "execution_count": 65,
   "metadata": {},
   "outputs": [
    {
     "data": {
      "text/plain": [
       "1    293663\n",
       "0     51883\n",
       "Name: Aadhar_flag, dtype: int64"
      ]
     },
     "execution_count": 65,
     "metadata": {},
     "output_type": "execute_result"
    }
   ],
   "source": [
    "# customer has aadhar card or not\n",
    "\n",
    "data['Aadhar_flag'].value_counts()"
   ]
  },
  {
   "cell_type": "code",
   "execution_count": 66,
   "metadata": {},
   "outputs": [
    {
     "data": {
      "text/plain": [
       "1    345546\n",
       "Name: MobileNo_Avl_Flag, dtype: int64"
      ]
     },
     "execution_count": 66,
     "metadata": {},
     "output_type": "execute_result"
    }
   ],
   "source": [
    "# customer has shared the mobile no. or not\n",
    "\n",
    "data['MobileNo_Avl_Flag'].value_counts()"
   ]
  },
  {
   "cell_type": "code",
   "execution_count": 67,
   "metadata": {},
   "outputs": [
    {
     "data": {
      "text/plain": [
       "11    99420\n",
       "10    89440\n",
       "8     58586\n",
       "9     57939\n",
       "12    10659\n",
       "3      7601\n",
       "6      7024\n",
       "4      4627\n",
       "7      4339\n",
       "5      4178\n",
       "1      1708\n",
       "2        25\n",
       "Name: DisbursalMonth, dtype: int64"
      ]
     },
     "execution_count": 67,
     "metadata": {},
     "output_type": "execute_result"
    }
   ],
   "source": [
    "# lets extract features from disbursal dates\n",
    "# as all  the disbursement dates are of year 2018 so we can extract the months\n",
    "\n",
    "data['DisbursalDate'] = pd.to_datetime(data['DisbursalDate'], errors = 'coerce')\n",
    "train['DisbursalDate'] = pd.to_datetime(train['DisbursalDate'], errors = 'coerce')\n",
    "test['DisbursalDate'] = pd.to_datetime(test['DisbursalDate'], errors = 'coerce')\n",
    "\n",
    "# extracting the month of the disbursement\n",
    "data['DisbursalMonth'] = data['DisbursalDate'].dt.month\n",
    "train['DisbursalMonth'] = train['DisbursalDate'].dt.month\n",
    "test['DisbursalMonth'] = test['DisbursalDate'].dt.month\n",
    "\n",
    "add_datepart(data, 'DisbursalDate')\n",
    "add_datepart(train, 'DisbursalDate')\n",
    "add_datepart(test, 'DisbursalDate')\n",
    "data['DisbursalMonth'].value_counts()"
   ]
  },
  {
   "cell_type": "code",
   "execution_count": 68,
   "metadata": {},
   "outputs": [
    {
     "data": {
      "image/png": "[encoded data removed]",
      "text/plain": [
       "<Figure size 1296x360 with 1 Axes>"
      ]
     },
     "metadata": {},
     "output_type": "display_data"
    }
   ],
   "source": [
    "# plotting the Disbursal date\n",
    "\n",
    "plt.rcParams['figure.figsize'] = (18, 5)\n",
    "sns.countplot(data['DisbursalMonth'], palette = 'colorblind')\n",
    "plt.title('Months', fontsize = 30)\n",
    "plt.show()"
   ]
  },
  {
   "cell_type": "code",
   "execution_count": 69,
   "metadata": {},
   "outputs": [],
   "source": [
    "# some attributes are categorical but they are in integer so let's convert them into category\n",
    "\n",
    "# data['branch_id'] = data['branch_id'].astype('category')\n",
    "# data['manufacturer_id'] = data['manufacturer_id'].astype('category')\n",
    "# data['State_ID'] = data['State_ID'].astype('category')\n",
    "\n",
    "# train['branch_id'] = train['branch_id'].astype('category')\n",
    "# train['manufacturer_id'] = train['manufacturer_id'].astype('category')\n",
    "# train['State_ID'] = train['State_ID'].astype('category')\n",
    "\n",
    "# test['branch_id'] = test['branch_id'].astype('category')\n",
    "# test['manufacturer_id'] = test['manufacturer_id'].astype('category')\n",
    "# test['State_ID'] = test['State_ID'].astype('category')\n",
    "\n",
    "# from sklearn.preprocessing import LabelEncoder\n",
    "\n",
    "# le = LabelEncoder()\n",
    "# data['branch_id'] = le.fit_transform(data['branch_id'])\n",
    "# data['manufacturer_id'] = le.fit_transform(data['manufacturer_id'])\n",
    "# data['State_ID'] = le.fit_transform(data['State_ID'])\n",
    "\n",
    "# train['branch_id'] = le.fit_transform(train['branch_id'])\n",
    "# train['manufacturer_id'] = le.fit_transform(train['manufacturer_id'])\n",
    "# train['State_ID'] = le.fit_transform(train['State_ID'])\n",
    "\n",
    "# test['branch_id'] = le.fit_transform(test['branch_id'])\n",
    "# test['manufacturer_id'] = le.fit_transform(test['manufacturer_id'])\n",
    "# test['State_ID'] = le.fit_transform(test['State_ID'])\n",
    "# checking the values in these attributes\n",
    "#data['branch_id'].value_counts()\n",
    "#data['manufacturer_id'].value_counts()\n",
    "#data['State_ID'].value_counts()"
   ]
  },
  {
   "cell_type": "code",
   "execution_count": 70,
   "metadata": {},
   "outputs": [
    {
     "data": {
      "text/plain": [
       "Index(['disbursed_amount', 'asset_cost', 'ltv', 'branch_id', 'supplier_id',\n",
       "       'manufacturer_id', 'Current_pincode_ID', 'Employment.Type', 'State_ID',\n",
       "       'Employee_code_ID', 'MobileNo_Avl_Flag', 'Aadhar_flag', 'PAN_flag',\n",
       "       'VoterID_flag', 'Driving_flag', 'Passport_flag', 'PERFORM_CNS.SCORE',\n",
       "       'PERFORM_CNS.SCORE.DESCRIPTION', 'PRI.NO.OF.ACCTS', 'PRI.ACTIVE.ACCTS',\n",
       "       'PRI.OVERDUE.ACCTS', 'PRI.CURRENT.BALANCE', 'PRI.SANCTIONED.AMOUNT',\n",
       "       'PRI.DISBURSED.AMOUNT', 'SEC.NO.OF.ACCTS', 'SEC.ACTIVE.ACCTS',\n",
       "       'SEC.OVERDUE.ACCTS', 'SEC.CURRENT.BALANCE', 'SEC.SANCTIONED.AMOUNT',\n",
       "       'SEC.DISBURSED.AMOUNT', 'PRIMARY.INSTAL.AMT', 'SEC.INSTAL.AMT',\n",
       "       'NEW.ACCTS.IN.LAST.SIX.MONTHS', 'DELINQUENT.ACCTS.IN.LAST.SIX.MONTHS',\n",
       "       'AVERAGE.ACCT.AGE', 'CREDIT.HISTORY.LENGTH', 'NO.OF_INQUIRIES',\n",
       "       'Year_of_birth', 'age', 'DisbursalMonth', 'DisbursalYear',\n",
       "       'DisbursalWeek', 'DisbursalDay', 'DisbursalDayofweek',\n",
       "       'DisbursalDayofyear', 'DisbursalIs_month_end',\n",
       "       'DisbursalIs_month_start', 'DisbursalIs_quarter_end',\n",
       "       'DisbursalIs_quarter_start', 'DisbursalIs_year_end',\n",
       "       'DisbursalIs_year_start', 'DisbursalElapsed'],\n",
       "      dtype='object')"
      ]
     },
     "execution_count": 70,
     "metadata": {},
     "output_type": "execute_result"
    }
   ],
   "source": [
    "# removing unnecassary columns\n",
    "\n",
    "data = data.drop(['Date.of.Birth','UniqueID'], axis = 1)\n",
    "train = train.drop(['Date.of.Birth', 'UniqueID'], axis = 1)\n",
    "test = test.drop(['Date.of.Birth', 'UniqueID'], axis = 1)\n",
    "\n",
    "# checking the new columns of data\n",
    "data.columns"
   ]
  },
  {
   "cell_type": "code",
   "execution_count": 71,
   "metadata": {},
   "outputs": [
    {
     "data": {
      "text/html": [
       "<div>\n",
       "<style scoped>\n",
       "    .dataframe tbody tr th:only-of-type {\n",
       "        vertical-align: middle;\n",
       "    }\n",
       "\n",
       "    .dataframe tbody tr th {\n",
       "        vertical-align: top;\n",
       "    }\n",
       "\n",
       "    .dataframe thead th {\n",
       "        text-align: right;\n",
       "    }\n",
       "</style>\n",
       "<table border=\"1\" class=\"dataframe\">\n",
       "  <thead>\n",
       "    <tr style=\"text-align: right;\">\n",
       "      <th></th>\n",
       "      <th>disbursed_amount</th>\n",
       "      <th>asset_cost</th>\n",
       "      <th>ltv</th>\n",
       "      <th>branch_id</th>\n",
       "      <th>supplier_id</th>\n",
       "      <th>manufacturer_id</th>\n",
       "      <th>Current_pincode_ID</th>\n",
       "      <th>Employment.Type</th>\n",
       "      <th>State_ID</th>\n",
       "      <th>Employee_code_ID</th>\n",
       "      <th>MobileNo_Avl_Flag</th>\n",
       "      <th>Aadhar_flag</th>\n",
       "      <th>PAN_flag</th>\n",
       "      <th>VoterID_flag</th>\n",
       "      <th>Driving_flag</th>\n",
       "      <th>Passport_flag</th>\n",
       "      <th>PERFORM_CNS.SCORE</th>\n",
       "      <th>PERFORM_CNS.SCORE.DESCRIPTION</th>\n",
       "      <th>PRI.NO.OF.ACCTS</th>\n",
       "      <th>PRI.ACTIVE.ACCTS</th>\n",
       "      <th>PRI.OVERDUE.ACCTS</th>\n",
       "      <th>PRI.CURRENT.BALANCE</th>\n",
       "      <th>PRI.SANCTIONED.AMOUNT</th>\n",
       "      <th>PRI.DISBURSED.AMOUNT</th>\n",
       "      <th>SEC.NO.OF.ACCTS</th>\n",
       "      <th>SEC.ACTIVE.ACCTS</th>\n",
       "      <th>SEC.OVERDUE.ACCTS</th>\n",
       "      <th>SEC.CURRENT.BALANCE</th>\n",
       "      <th>SEC.SANCTIONED.AMOUNT</th>\n",
       "      <th>SEC.DISBURSED.AMOUNT</th>\n",
       "      <th>PRIMARY.INSTAL.AMT</th>\n",
       "      <th>SEC.INSTAL.AMT</th>\n",
       "      <th>NEW.ACCTS.IN.LAST.SIX.MONTHS</th>\n",
       "      <th>DELINQUENT.ACCTS.IN.LAST.SIX.MONTHS</th>\n",
       "      <th>AVERAGE.ACCT.AGE</th>\n",
       "      <th>CREDIT.HISTORY.LENGTH</th>\n",
       "      <th>NO.OF_INQUIRIES</th>\n",
       "      <th>Year_of_birth</th>\n",
       "      <th>age</th>\n",
       "      <th>DisbursalMonth</th>\n",
       "      <th>DisbursalYear</th>\n",
       "      <th>DisbursalWeek</th>\n",
       "      <th>DisbursalDay</th>\n",
       "      <th>DisbursalDayofweek</th>\n",
       "      <th>DisbursalDayofyear</th>\n",
       "      <th>DisbursalIs_month_end</th>\n",
       "      <th>DisbursalIs_month_start</th>\n",
       "      <th>DisbursalIs_quarter_end</th>\n",
       "      <th>DisbursalIs_quarter_start</th>\n",
       "      <th>DisbursalIs_year_end</th>\n",
       "      <th>DisbursalIs_year_start</th>\n",
       "      <th>DisbursalElapsed</th>\n",
       "    </tr>\n",
       "  </thead>\n",
       "  <tbody>\n",
       "    <tr>\n",
       "      <th>166625</th>\n",
       "      <td>10.887512</td>\n",
       "      <td>11.195279</td>\n",
       "      <td>4.323735</td>\n",
       "      <td>34</td>\n",
       "      <td>23024</td>\n",
       "      <td>86</td>\n",
       "      <td>974</td>\n",
       "      <td>2</td>\n",
       "      <td>6</td>\n",
       "      <td>2202</td>\n",
       "      <td>1</td>\n",
       "      <td>1</td>\n",
       "      <td>0</td>\n",
       "      <td>0</td>\n",
       "      <td>0</td>\n",
       "      <td>0</td>\n",
       "      <td>6.289716</td>\n",
       "      <td>2</td>\n",
       "      <td>3.526361</td>\n",
       "      <td>2.639057</td>\n",
       "      <td>2</td>\n",
       "      <td>2785185</td>\n",
       "      <td>15.899955</td>\n",
       "      <td>15.899403</td>\n",
       "      <td>0.0</td>\n",
       "      <td>0.0</td>\n",
       "      <td>0.0</td>\n",
       "      <td>0</td>\n",
       "      <td>0.0</td>\n",
       "      <td>0.0</td>\n",
       "      <td>11.661759</td>\n",
       "      <td>0.0</td>\n",
       "      <td>0</td>\n",
       "      <td>1</td>\n",
       "      <td>33</td>\n",
       "      <td>122</td>\n",
       "      <td>0</td>\n",
       "      <td>1976</td>\n",
       "      <td>42.0</td>\n",
       "      <td>10</td>\n",
       "      <td>2018</td>\n",
       "      <td>44</td>\n",
       "      <td>31</td>\n",
       "      <td>2</td>\n",
       "      <td>304</td>\n",
       "      <td>True</td>\n",
       "      <td>False</td>\n",
       "      <td>False</td>\n",
       "      <td>False</td>\n",
       "      <td>False</td>\n",
       "      <td>False</td>\n",
       "      <td>1540944000</td>\n",
       "    </tr>\n",
       "    <tr>\n",
       "      <th>317199</th>\n",
       "      <td>10.612631</td>\n",
       "      <td>11.131811</td>\n",
       "      <td>4.135007</td>\n",
       "      <td>34</td>\n",
       "      <td>22637</td>\n",
       "      <td>86</td>\n",
       "      <td>1044</td>\n",
       "      <td>1</td>\n",
       "      <td>6</td>\n",
       "      <td>2626</td>\n",
       "      <td>1</td>\n",
       "      <td>1</td>\n",
       "      <td>0</td>\n",
       "      <td>0</td>\n",
       "      <td>0</td>\n",
       "      <td>0</td>\n",
       "      <td>2.833213</td>\n",
       "      <td>0</td>\n",
       "      <td>0.693147</td>\n",
       "      <td>0.693147</td>\n",
       "      <td>0</td>\n",
       "      <td>0</td>\n",
       "      <td>10.194327</td>\n",
       "      <td>10.194327</td>\n",
       "      <td>0.0</td>\n",
       "      <td>0.0</td>\n",
       "      <td>0.0</td>\n",
       "      <td>0</td>\n",
       "      <td>0.0</td>\n",
       "      <td>0.0</td>\n",
       "      <td>8.229778</td>\n",
       "      <td>0.0</td>\n",
       "      <td>0</td>\n",
       "      <td>0</td>\n",
       "      <td>33</td>\n",
       "      <td>33</td>\n",
       "      <td>0</td>\n",
       "      <td>1981</td>\n",
       "      <td>38.0</td>\n",
       "      <td>11</td>\n",
       "      <td>2018</td>\n",
       "      <td>48</td>\n",
       "      <td>28</td>\n",
       "      <td>2</td>\n",
       "      <td>332</td>\n",
       "      <td>False</td>\n",
       "      <td>False</td>\n",
       "      <td>False</td>\n",
       "      <td>False</td>\n",
       "      <td>False</td>\n",
       "      <td>False</td>\n",
       "      <td>1543363200</td>\n",
       "    </tr>\n",
       "    <tr>\n",
       "      <th>311036</th>\n",
       "      <td>10.996819</td>\n",
       "      <td>11.226429</td>\n",
       "      <td>4.425685</td>\n",
       "      <td>138</td>\n",
       "      <td>15663</td>\n",
       "      <td>86</td>\n",
       "      <td>3367</td>\n",
       "      <td>1</td>\n",
       "      <td>9</td>\n",
       "      <td>2515</td>\n",
       "      <td>1</td>\n",
       "      <td>0</td>\n",
       "      <td>0</td>\n",
       "      <td>0</td>\n",
       "      <td>0</td>\n",
       "      <td>1</td>\n",
       "      <td>6.562444</td>\n",
       "      <td>5</td>\n",
       "      <td>2.484907</td>\n",
       "      <td>1.386294</td>\n",
       "      <td>1</td>\n",
       "      <td>114215</td>\n",
       "      <td>12.192567</td>\n",
       "      <td>12.192567</td>\n",
       "      <td>0.0</td>\n",
       "      <td>0.0</td>\n",
       "      <td>0.0</td>\n",
       "      <td>0</td>\n",
       "      <td>0.0</td>\n",
       "      <td>0.0</td>\n",
       "      <td>8.811354</td>\n",
       "      <td>0.0</td>\n",
       "      <td>1</td>\n",
       "      <td>0</td>\n",
       "      <td>16</td>\n",
       "      <td>63</td>\n",
       "      <td>0</td>\n",
       "      <td>1981</td>\n",
       "      <td>37.0</td>\n",
       "      <td>5</td>\n",
       "      <td>2018</td>\n",
       "      <td>19</td>\n",
       "      <td>11</td>\n",
       "      <td>4</td>\n",
       "      <td>131</td>\n",
       "      <td>False</td>\n",
       "      <td>False</td>\n",
       "      <td>False</td>\n",
       "      <td>False</td>\n",
       "      <td>False</td>\n",
       "      <td>False</td>\n",
       "      <td>1525996800</td>\n",
       "    </tr>\n",
       "    <tr>\n",
       "      <th>269576</th>\n",
       "      <td>11.364669</td>\n",
       "      <td>11.612780</td>\n",
       "      <td>4.391110</td>\n",
       "      <td>2</td>\n",
       "      <td>16785</td>\n",
       "      <td>48</td>\n",
       "      <td>2382</td>\n",
       "      <td>1</td>\n",
       "      <td>4</td>\n",
       "      <td>163</td>\n",
       "      <td>1</td>\n",
       "      <td>1</td>\n",
       "      <td>1</td>\n",
       "      <td>0</td>\n",
       "      <td>0</td>\n",
       "      <td>0</td>\n",
       "      <td>5.707110</td>\n",
       "      <td>1</td>\n",
       "      <td>2.397895</td>\n",
       "      <td>1.386294</td>\n",
       "      <td>2</td>\n",
       "      <td>928930</td>\n",
       "      <td>14.066398</td>\n",
       "      <td>13.950187</td>\n",
       "      <td>0.0</td>\n",
       "      <td>0.0</td>\n",
       "      <td>0.0</td>\n",
       "      <td>0</td>\n",
       "      <td>0.0</td>\n",
       "      <td>0.0</td>\n",
       "      <td>9.507700</td>\n",
       "      <td>0.0</td>\n",
       "      <td>0</td>\n",
       "      <td>1</td>\n",
       "      <td>17</td>\n",
       "      <td>49</td>\n",
       "      <td>0</td>\n",
       "      <td>1988</td>\n",
       "      <td>31.0</td>\n",
       "      <td>11</td>\n",
       "      <td>2018</td>\n",
       "      <td>48</td>\n",
       "      <td>27</td>\n",
       "      <td>1</td>\n",
       "      <td>331</td>\n",
       "      <td>False</td>\n",
       "      <td>False</td>\n",
       "      <td>False</td>\n",
       "      <td>False</td>\n",
       "      <td>False</td>\n",
       "      <td>False</td>\n",
       "      <td>1543276800</td>\n",
       "    </tr>\n",
       "    <tr>\n",
       "      <th>274637</th>\n",
       "      <td>11.156508</td>\n",
       "      <td>11.492733</td>\n",
       "      <td>4.303524</td>\n",
       "      <td>248</td>\n",
       "      <td>20675</td>\n",
       "      <td>86</td>\n",
       "      <td>1756</td>\n",
       "      <td>1</td>\n",
       "      <td>4</td>\n",
       "      <td>1229</td>\n",
       "      <td>1</td>\n",
       "      <td>1</td>\n",
       "      <td>0</td>\n",
       "      <td>0</td>\n",
       "      <td>0</td>\n",
       "      <td>0</td>\n",
       "      <td>0.000000</td>\n",
       "      <td>0</td>\n",
       "      <td>0.000000</td>\n",
       "      <td>0.000000</td>\n",
       "      <td>0</td>\n",
       "      <td>0</td>\n",
       "      <td>0.000000</td>\n",
       "      <td>0.000000</td>\n",
       "      <td>0.0</td>\n",
       "      <td>0.0</td>\n",
       "      <td>0.0</td>\n",
       "      <td>0</td>\n",
       "      <td>0.0</td>\n",
       "      <td>0.0</td>\n",
       "      <td>0.000000</td>\n",
       "      <td>0.0</td>\n",
       "      <td>0</td>\n",
       "      <td>0</td>\n",
       "      <td>0</td>\n",
       "      <td>0</td>\n",
       "      <td>0</td>\n",
       "      <td>1996</td>\n",
       "      <td>23.0</td>\n",
       "      <td>11</td>\n",
       "      <td>2018</td>\n",
       "      <td>46</td>\n",
       "      <td>15</td>\n",
       "      <td>3</td>\n",
       "      <td>319</td>\n",
       "      <td>False</td>\n",
       "      <td>False</td>\n",
       "      <td>False</td>\n",
       "      <td>False</td>\n",
       "      <td>False</td>\n",
       "      <td>False</td>\n",
       "      <td>1542240000</td>\n",
       "    </tr>\n",
       "  </tbody>\n",
       "</table>\n",
       "</div>"
      ],
      "text/plain": [
       "        disbursed_amount        ...         DisbursalElapsed\n",
       "166625         10.887512        ...               1540944000\n",
       "317199         10.612631        ...               1543363200\n",
       "311036         10.996819        ...               1525996800\n",
       "269576         11.364669        ...               1543276800\n",
       "274637         11.156508        ...               1542240000\n",
       "\n",
       "[5 rows x 52 columns]"
      ]
     },
     "execution_count": 71,
     "metadata": {},
     "output_type": "execute_result"
    }
   ],
   "source": [
    "# looking at the sample of the pre-processed data\n",
    "\n",
    "data.sample(5)"
   ]
  },
  {
   "cell_type": "code",
   "execution_count": 72,
   "metadata": {},
   "outputs": [
    {
     "data": {
      "text/plain": [
       "0    0.782929\n",
       "1    0.217071\n",
       "Name: loan_default, dtype: float64"
      ]
     },
     "execution_count": 72,
     "metadata": {},
     "output_type": "execute_result"
    }
   ],
   "source": [
    "# checking the target variable\n",
    "\n",
    "y.value_counts(normalize=True)"
   ]
  },
  {
   "cell_type": "code",
   "execution_count": 73,
   "metadata": {},
   "outputs": [],
   "source": [
    "# there is a big difference in the no. of values for 1 and 0\n",
    "# so we can apply SMOTE or over-sampling\n",
    "# that means replicating the samples of 1 to lessen the parity between 0 and 1 values\n",
    "\n",
    "# lets install imblearn\n",
    "#!pip install -U imbalanced-learn"
   ]
  },
  {
   "cell_type": "code",
   "execution_count": 74,
   "metadata": {},
   "outputs": [
    {
     "name": "stderr",
     "output_type": "stream",
     "text": [
      "Using TensorFlow backend.\n"
     ]
    },
    {
     "name": "stdout",
     "output_type": "stream",
     "text": [
      "CPU times: user 5min 39s, sys: 940 ms, total: 5min 40s\n",
      "Wall time: 5min 39s\n"
     ]
    }
   ],
   "source": [
    "from imblearn.combine import SMOTETomek\n",
    "smt = SMOTETomek(ratio='auto')\n",
    "%time X_smt, y_smt = smt.fit_sample(train, y)"
   ]
  },
  {
   "cell_type": "code",
   "execution_count": 75,
   "metadata": {},
   "outputs": [
    {
     "data": {
      "text/plain": [
       "((331506, 52), (331506,), (233154, 52), (233154,))"
      ]
     },
     "execution_count": 75,
     "metadata": {},
     "output_type": "execute_result"
    }
   ],
   "source": [
    "X_smt.shape, y_smt.shape, train.shape,y.shape"
   ]
  },
  {
   "cell_type": "code",
   "execution_count": 76,
   "metadata": {},
   "outputs": [
    {
     "name": "stdout",
     "output_type": "stream",
     "text": [
      "CPU times: user 0 ns, sys: 0 ns, total: 0 ns\n",
      "Wall time: 38.9 µs\n"
     ]
    },
    {
     "name": "stderr",
     "output_type": "stream",
     "text": [
      "[Parallel(n_jobs=1)]: Using backend SequentialBackend with 1 concurrent workers.\n",
      "[Parallel(n_jobs=-1)]: Using backend LokyBackend with 2 concurrent workers.\n",
      "[Parallel(n_jobs=-1)]: Done  46 tasks      | elapsed:   47.6s\n",
      "[Parallel(n_jobs=-1)]: Done 196 tasks      | elapsed:  3.0min\n",
      "[Parallel(n_jobs=-1)]: Done 200 out of 200 | elapsed:  3.1min finished\n",
      "[Parallel(n_jobs=2)]: Using backend ThreadingBackend with 2 concurrent workers.\n",
      "[Parallel(n_jobs=2)]: Done  46 tasks      | elapsed:    0.2s\n",
      "[Parallel(n_jobs=2)]: Done 196 tasks      | elapsed:    0.8s\n",
      "[Parallel(n_jobs=2)]: Done 200 out of 200 | elapsed:    0.9s finished\n",
      "[Parallel(n_jobs=-1)]: Using backend LokyBackend with 2 concurrent workers.\n",
      "[Parallel(n_jobs=-1)]: Done  46 tasks      | elapsed:   40.9s\n",
      "[Parallel(n_jobs=-1)]: Done 196 tasks      | elapsed:  2.9min\n",
      "[Parallel(n_jobs=-1)]: Done 200 out of 200 | elapsed:  3.0min finished\n",
      "[Parallel(n_jobs=2)]: Using backend ThreadingBackend with 2 concurrent workers.\n",
      "[Parallel(n_jobs=2)]: Done  46 tasks      | elapsed:    0.2s\n",
      "[Parallel(n_jobs=2)]: Done 196 tasks      | elapsed:    0.8s\n",
      "[Parallel(n_jobs=2)]: Done 200 out of 200 | elapsed:    0.9s finished\n",
      "[Parallel(n_jobs=-1)]: Using backend LokyBackend with 2 concurrent workers.\n",
      "[Parallel(n_jobs=-1)]: Done  46 tasks      | elapsed:   40.8s\n",
      "[Parallel(n_jobs=-1)]: Done 196 tasks      | elapsed:  2.9min\n",
      "[Parallel(n_jobs=-1)]: Done 200 out of 200 | elapsed:  3.0min finished\n",
      "[Parallel(n_jobs=2)]: Using backend ThreadingBackend with 2 concurrent workers.\n",
      "[Parallel(n_jobs=2)]: Done  46 tasks      | elapsed:    0.2s\n",
      "[Parallel(n_jobs=2)]: Done 196 tasks      | elapsed:    0.8s\n",
      "[Parallel(n_jobs=2)]: Done 200 out of 200 | elapsed:    0.8s finished\n",
      "[Parallel(n_jobs=-1)]: Using backend LokyBackend with 2 concurrent workers.\n",
      "[Parallel(n_jobs=-1)]: Done  46 tasks      | elapsed:   41.9s\n",
      "[Parallel(n_jobs=-1)]: Done 196 tasks      | elapsed:  2.9min\n",
      "[Parallel(n_jobs=-1)]: Done 200 out of 200 | elapsed:  2.9min finished\n",
      "[Parallel(n_jobs=2)]: Using backend ThreadingBackend with 2 concurrent workers.\n",
      "[Parallel(n_jobs=2)]: Done  46 tasks      | elapsed:    0.2s\n",
      "[Parallel(n_jobs=2)]: Done 196 tasks      | elapsed:    0.8s\n",
      "[Parallel(n_jobs=2)]: Done 200 out of 200 | elapsed:    0.9s finished\n",
      "[Parallel(n_jobs=-1)]: Using backend LokyBackend with 2 concurrent workers.\n",
      "[Parallel(n_jobs=-1)]: Done  46 tasks      | elapsed:   42.7s\n",
      "[Parallel(n_jobs=-1)]: Done 196 tasks      | elapsed:  2.9min\n",
      "[Parallel(n_jobs=-1)]: Done 200 out of 200 | elapsed:  3.0min finished\n",
      "[Parallel(n_jobs=2)]: Using backend ThreadingBackend with 2 concurrent workers.\n",
      "[Parallel(n_jobs=2)]: Done  46 tasks      | elapsed:    0.2s\n",
      "[Parallel(n_jobs=2)]: Done 196 tasks      | elapsed:    0.9s\n",
      "[Parallel(n_jobs=2)]: Done 200 out of 200 | elapsed:    0.9s finished\n",
      "[Parallel(n_jobs=-1)]: Using backend LokyBackend with 2 concurrent workers.\n",
      "[Parallel(n_jobs=-1)]: Done  46 tasks      | elapsed:   40.5s\n",
      "[Parallel(n_jobs=-1)]: Done 196 tasks      | elapsed:  2.9min\n",
      "[Parallel(n_jobs=-1)]: Done 200 out of 200 | elapsed:  2.9min finished\n",
      "[Parallel(n_jobs=2)]: Using backend ThreadingBackend with 2 concurrent workers.\n",
      "[Parallel(n_jobs=2)]: Done  46 tasks      | elapsed:    0.2s\n",
      "[Parallel(n_jobs=2)]: Done 196 tasks      | elapsed:    0.9s\n",
      "[Parallel(n_jobs=2)]: Done 200 out of 200 | elapsed:    0.9s finished\n",
      "[Parallel(n_jobs=-1)]: Using backend LokyBackend with 2 concurrent workers.\n",
      "[Parallel(n_jobs=-1)]: Done  46 tasks      | elapsed:   41.9s\n",
      "[Parallel(n_jobs=-1)]: Done 196 tasks      | elapsed:  2.9min\n",
      "[Parallel(n_jobs=-1)]: Done 200 out of 200 | elapsed:  3.0min finished\n",
      "[Parallel(n_jobs=2)]: Using backend ThreadingBackend with 2 concurrent workers.\n",
      "[Parallel(n_jobs=2)]: Done  46 tasks      | elapsed:    0.2s\n",
      "[Parallel(n_jobs=2)]: Done 196 tasks      | elapsed:    0.8s\n",
      "[Parallel(n_jobs=2)]: Done 200 out of 200 | elapsed:    0.9s finished\n",
      "[Parallel(n_jobs=-1)]: Using backend LokyBackend with 2 concurrent workers.\n",
      "[Parallel(n_jobs=-1)]: Done  46 tasks      | elapsed:   41.2s\n",
      "[Parallel(n_jobs=-1)]: Done 196 tasks      | elapsed:  2.9min\n",
      "[Parallel(n_jobs=-1)]: Done 200 out of 200 | elapsed:  3.0min finished\n",
      "[Parallel(n_jobs=2)]: Using backend ThreadingBackend with 2 concurrent workers.\n",
      "[Parallel(n_jobs=2)]: Done  46 tasks      | elapsed:    0.2s\n",
      "[Parallel(n_jobs=2)]: Done 196 tasks      | elapsed:    0.8s\n",
      "[Parallel(n_jobs=2)]: Done 200 out of 200 | elapsed:    0.9s finished\n",
      "[Parallel(n_jobs=-1)]: Using backend LokyBackend with 2 concurrent workers.\n",
      "[Parallel(n_jobs=-1)]: Done  46 tasks      | elapsed:   41.7s\n",
      "[Parallel(n_jobs=-1)]: Done 196 tasks      | elapsed:  2.9min\n",
      "[Parallel(n_jobs=-1)]: Done 200 out of 200 | elapsed:  3.0min finished\n",
      "[Parallel(n_jobs=2)]: Using backend ThreadingBackend with 2 concurrent workers.\n",
      "[Parallel(n_jobs=2)]: Done  46 tasks      | elapsed:    0.2s\n",
      "[Parallel(n_jobs=2)]: Done 196 tasks      | elapsed:    0.8s\n",
      "[Parallel(n_jobs=2)]: Done 200 out of 200 | elapsed:    0.8s finished\n",
      "[Parallel(n_jobs=-1)]: Using backend LokyBackend with 2 concurrent workers.\n",
      "[Parallel(n_jobs=-1)]: Done  46 tasks      | elapsed:   42.3s\n",
      "[Parallel(n_jobs=-1)]: Done 196 tasks      | elapsed:  3.0min\n",
      "[Parallel(n_jobs=-1)]: Done 200 out of 200 | elapsed:  3.0min finished\n",
      "[Parallel(n_jobs=2)]: Using backend ThreadingBackend with 2 concurrent workers.\n",
      "[Parallel(n_jobs=2)]: Done  46 tasks      | elapsed:    0.2s\n",
      "[Parallel(n_jobs=2)]: Done 196 tasks      | elapsed:    0.8s\n",
      "[Parallel(n_jobs=2)]: Done 200 out of 200 | elapsed:    0.9s finished\n",
      "[Parallel(n_jobs=-1)]: Using backend LokyBackend with 2 concurrent workers.\n",
      "[Parallel(n_jobs=-1)]: Done  46 tasks      | elapsed:   40.8s\n",
      "[Parallel(n_jobs=-1)]: Done 196 tasks      | elapsed:  2.9min\n",
      "[Parallel(n_jobs=-1)]: Done 200 out of 200 | elapsed:  3.0min finished\n",
      "[Parallel(n_jobs=2)]: Using backend ThreadingBackend with 2 concurrent workers.\n",
      "[Parallel(n_jobs=2)]: Done  46 tasks      | elapsed:    0.2s\n",
      "[Parallel(n_jobs=2)]: Done 196 tasks      | elapsed:    0.9s\n",
      "[Parallel(n_jobs=2)]: Done 200 out of 200 | elapsed:    0.9s finished\n",
      "[Parallel(n_jobs=-1)]: Using backend LokyBackend with 2 concurrent workers.\n",
      "[Parallel(n_jobs=-1)]: Done  46 tasks      | elapsed:   41.0s\n",
      "[Parallel(n_jobs=-1)]: Done 196 tasks      | elapsed:  2.9min\n",
      "[Parallel(n_jobs=-1)]: Done 200 out of 200 | elapsed:  3.0min finished\n",
      "[Parallel(n_jobs=2)]: Using backend ThreadingBackend with 2 concurrent workers.\n",
      "[Parallel(n_jobs=2)]: Done  46 tasks      | elapsed:    0.2s\n",
      "[Parallel(n_jobs=2)]: Done 196 tasks      | elapsed:    0.9s\n",
      "[Parallel(n_jobs=2)]: Done 200 out of 200 | elapsed:    0.9s finished\n",
      "[Parallel(n_jobs=-1)]: Using backend LokyBackend with 2 concurrent workers.\n",
      "[Parallel(n_jobs=-1)]: Done  46 tasks      | elapsed:   42.0s\n",
      "[Parallel(n_jobs=-1)]: Done 196 tasks      | elapsed:  2.9min\n",
      "[Parallel(n_jobs=-1)]: Done 200 out of 200 | elapsed:  3.0min finished\n",
      "[Parallel(n_jobs=2)]: Using backend ThreadingBackend with 2 concurrent workers.\n",
      "[Parallel(n_jobs=2)]: Done  46 tasks      | elapsed:    0.2s\n",
      "[Parallel(n_jobs=2)]: Done 196 tasks      | elapsed:    0.9s\n",
      "[Parallel(n_jobs=2)]: Done 200 out of 200 | elapsed:    0.9s finished\n",
      "[Parallel(n_jobs=-1)]: Using backend LokyBackend with 2 concurrent workers.\n",
      "[Parallel(n_jobs=-1)]: Done  46 tasks      | elapsed:   42.8s\n",
      "[Parallel(n_jobs=-1)]: Done 196 tasks      | elapsed:  2.9min\n",
      "[Parallel(n_jobs=-1)]: Done 200 out of 200 | elapsed:  3.0min finished\n",
      "[Parallel(n_jobs=2)]: Using backend ThreadingBackend with 2 concurrent workers.\n",
      "[Parallel(n_jobs=2)]: Done  46 tasks      | elapsed:    0.2s\n",
      "[Parallel(n_jobs=2)]: Done 196 tasks      | elapsed:    0.8s\n",
      "[Parallel(n_jobs=2)]: Done 200 out of 200 | elapsed:    0.9s finished\n",
      "[Parallel(n_jobs=-1)]: Using backend LokyBackend with 2 concurrent workers.\n",
      "[Parallel(n_jobs=-1)]: Done  46 tasks      | elapsed:   41.5s\n",
      "[Parallel(n_jobs=-1)]: Done 196 tasks      | elapsed:  2.9min\n",
      "[Parallel(n_jobs=-1)]: Done 200 out of 200 | elapsed:  3.0min finished\n",
      "[Parallel(n_jobs=2)]: Using backend ThreadingBackend with 2 concurrent workers.\n",
      "[Parallel(n_jobs=2)]: Done  46 tasks      | elapsed:    0.2s\n",
      "[Parallel(n_jobs=2)]: Done 196 tasks      | elapsed:    0.8s\n",
      "[Parallel(n_jobs=2)]: Done 200 out of 200 | elapsed:    0.8s finished\n",
      "[Parallel(n_jobs=-1)]: Using backend LokyBackend with 2 concurrent workers.\n",
      "[Parallel(n_jobs=-1)]: Done  46 tasks      | elapsed:   40.7s\n",
      "[Parallel(n_jobs=-1)]: Done 196 tasks      | elapsed:  2.9min\n",
      "[Parallel(n_jobs=-1)]: Done 200 out of 200 | elapsed:  3.0min finished\n",
      "[Parallel(n_jobs=2)]: Using backend ThreadingBackend with 2 concurrent workers.\n",
      "[Parallel(n_jobs=2)]: Done  46 tasks      | elapsed:    0.2s\n",
      "[Parallel(n_jobs=2)]: Done 196 tasks      | elapsed:    0.8s\n",
      "[Parallel(n_jobs=2)]: Done 200 out of 200 | elapsed:    0.9s finished\n",
      "[Parallel(n_jobs=-1)]: Using backend LokyBackend with 2 concurrent workers.\n",
      "[Parallel(n_jobs=-1)]: Done  46 tasks      | elapsed:   42.7s\n",
      "[Parallel(n_jobs=-1)]: Done 196 tasks      | elapsed:  2.9min\n",
      "[Parallel(n_jobs=-1)]: Done 200 out of 200 | elapsed:  3.0min finished\n",
      "[Parallel(n_jobs=2)]: Using backend ThreadingBackend with 2 concurrent workers.\n",
      "[Parallel(n_jobs=2)]: Done  46 tasks      | elapsed:    0.2s\n",
      "[Parallel(n_jobs=2)]: Done 196 tasks      | elapsed:    0.8s\n",
      "[Parallel(n_jobs=2)]: Done 200 out of 200 | elapsed:    0.9s finished\n",
      "[Parallel(n_jobs=-1)]: Using backend LokyBackend with 2 concurrent workers.\n",
      "[Parallel(n_jobs=-1)]: Done  46 tasks      | elapsed:   42.0s\n",
      "[Parallel(n_jobs=-1)]: Done 196 tasks      | elapsed:  2.9min\n",
      "[Parallel(n_jobs=-1)]: Done 200 out of 200 | elapsed:  3.0min finished\n",
      "[Parallel(n_jobs=2)]: Using backend ThreadingBackend with 2 concurrent workers.\n",
      "[Parallel(n_jobs=2)]: Done  46 tasks      | elapsed:    0.2s\n",
      "[Parallel(n_jobs=2)]: Done 196 tasks      | elapsed:    0.8s\n",
      "[Parallel(n_jobs=2)]: Done 200 out of 200 | elapsed:    0.8s finished\n",
      "[Parallel(n_jobs=-1)]: Using backend LokyBackend with 2 concurrent workers.\n",
      "[Parallel(n_jobs=-1)]: Done  46 tasks      | elapsed:   41.8s\n",
      "[Parallel(n_jobs=-1)]: Done 196 tasks      | elapsed:  2.9min\n",
      "[Parallel(n_jobs=-1)]: Done 200 out of 200 | elapsed:  3.0min finished\n",
      "[Parallel(n_jobs=2)]: Using backend ThreadingBackend with 2 concurrent workers.\n",
      "[Parallel(n_jobs=2)]: Done  46 tasks      | elapsed:    0.2s\n",
      "[Parallel(n_jobs=2)]: Done 196 tasks      | elapsed:    0.8s\n",
      "[Parallel(n_jobs=2)]: Done 200 out of 200 | elapsed:    0.8s finished\n",
      "[Parallel(n_jobs=-1)]: Using backend LokyBackend with 2 concurrent workers.\n",
      "[Parallel(n_jobs=-1)]: Done  46 tasks      | elapsed:   41.0s\n",
      "[Parallel(n_jobs=-1)]: Done 196 tasks      | elapsed:  3.0min\n",
      "[Parallel(n_jobs=-1)]: Done 200 out of 200 | elapsed:  3.0min finished\n",
      "[Parallel(n_jobs=2)]: Using backend ThreadingBackend with 2 concurrent workers.\n",
      "[Parallel(n_jobs=2)]: Done  46 tasks      | elapsed:    0.2s\n",
      "[Parallel(n_jobs=2)]: Done 196 tasks      | elapsed:    0.8s\n",
      "[Parallel(n_jobs=2)]: Done 200 out of 200 | elapsed:    0.8s finished\n",
      "[Parallel(n_jobs=1)]: Done  20 out of  20 | elapsed: 60.2min finished\n"
     ]
    },
    {
     "name": "stdout",
     "output_type": "stream",
     "text": [
      "CPU times: user 1min 11s, sys: 16.7 s, total: 1min 28s\n",
      "Wall time: 1h 11s\n"
     ]
    },
    {
     "data": {
      "text/plain": [
       "0.9303568519067564"
      ]
     },
     "execution_count": 76,
     "metadata": {},
     "output_type": "execute_result"
    }
   ],
   "source": [
    "from sklearn.model_selection import cross_val_predict\n",
    "from sklearn.ensemble import RandomForestClassifier\n",
    "rf= RandomForestClassifier(n_estimators=200,verbose=1, n_jobs=-1,random_state=42)\n",
    "%time cv =StratifiedKFold(n_splits=20,shuffle=True,random_state=45)\n",
    "%time pre_rf = cross_val_predict(rf, cv=cv, X=X_smt,y=y_smt, verbose=1,method='predict_proba')\n",
    "roc_auc_score(y_smt, pre_rf[:,1])"
   ]
  },
  {
   "cell_type": "code",
   "execution_count": 77,
   "metadata": {},
   "outputs": [
    {
     "name": "stderr",
     "output_type": "stream",
     "text": [
      "[Parallel(n_jobs=-1)]: Using backend ThreadingBackend with 2 concurrent workers.\n",
      "[Parallel(n_jobs=-1)]: Done  46 tasks      | elapsed:   43.9s\n",
      "[Parallel(n_jobs=-1)]: Done 196 tasks      | elapsed:  3.0min\n",
      "[Parallel(n_jobs=-1)]: Done 200 out of 200 | elapsed:  3.1min finished\n",
      "[Parallel(n_jobs=2)]: Using backend ThreadingBackend with 2 concurrent workers.\n",
      "[Parallel(n_jobs=2)]: Done  46 tasks      | elapsed:    1.4s\n",
      "[Parallel(n_jobs=2)]: Done 196 tasks      | elapsed:    5.9s\n",
      "[Parallel(n_jobs=2)]: Done 200 out of 200 | elapsed:    6.0s finished\n"
     ]
    },
    {
     "data": {
      "text/html": [
       "<div>\n",
       "<style scoped>\n",
       "    .dataframe tbody tr th:only-of-type {\n",
       "        vertical-align: middle;\n",
       "    }\n",
       "\n",
       "    .dataframe tbody tr th {\n",
       "        vertical-align: top;\n",
       "    }\n",
       "\n",
       "    .dataframe thead th {\n",
       "        text-align: right;\n",
       "    }\n",
       "</style>\n",
       "<table border=\"1\" class=\"dataframe\">\n",
       "  <thead>\n",
       "    <tr style=\"text-align: right;\">\n",
       "      <th></th>\n",
       "      <th>UniqueID</th>\n",
       "      <th>loan_default</th>\n",
       "    </tr>\n",
       "  </thead>\n",
       "  <tbody>\n",
       "    <tr>\n",
       "      <th>0</th>\n",
       "      <td>655269</td>\n",
       "      <td>0.245</td>\n",
       "    </tr>\n",
       "    <tr>\n",
       "      <th>1</th>\n",
       "      <td>723482</td>\n",
       "      <td>0.340</td>\n",
       "    </tr>\n",
       "    <tr>\n",
       "      <th>2</th>\n",
       "      <td>758529</td>\n",
       "      <td>0.365</td>\n",
       "    </tr>\n",
       "    <tr>\n",
       "      <th>3</th>\n",
       "      <td>763449</td>\n",
       "      <td>0.310</td>\n",
       "    </tr>\n",
       "    <tr>\n",
       "      <th>4</th>\n",
       "      <td>708663</td>\n",
       "      <td>0.245</td>\n",
       "    </tr>\n",
       "  </tbody>\n",
       "</table>\n",
       "</div>"
      ],
      "text/plain": [
       "   UniqueID  loan_default\n",
       "0    655269         0.245\n",
       "1    723482         0.340\n",
       "2    758529         0.365\n",
       "3    763449         0.310\n",
       "4    708663         0.245"
      ]
     },
     "execution_count": 77,
     "metadata": {},
     "output_type": "execute_result"
    }
   ],
   "source": [
    "rf.fit(X_smt,y_smt)\n",
    "rf_smote = rf.predict_proba(test)[:,1]\n",
    "submission = pd.DataFrame({'UniqueID': unique_id,'loan_default': rf_smote})\n",
    "submission.to_csv('submission_smote_rf.csv',index=False)\n",
    "\n",
    "submission.head()"
   ]
  },
  {
   "cell_type": "code",
   "execution_count": 78,
   "metadata": {},
   "outputs": [
    {
     "name": "stderr",
     "output_type": "stream",
     "text": [
      "[Parallel(n_jobs=1)]: Using backend SequentialBackend with 1 concurrent workers.\n"
     ]
    },
    {
     "name": "stdout",
     "output_type": "stream",
     "text": [
      "CPU times: user 55min 51s, sys: 2.88 s, total: 55min 54s\n",
      "Wall time: 55min 56s\n"
     ]
    },
    {
     "name": "stderr",
     "output_type": "stream",
     "text": [
      "[Parallel(n_jobs=1)]: Done  20 out of  20 | elapsed: 55.9min finished\n"
     ]
    },
    {
     "data": {
      "text/plain": [
       "0.8959699877756049"
      ]
     },
     "execution_count": 78,
     "metadata": {},
     "output_type": "execute_result"
    }
   ],
   "source": [
    "from sklearn.ensemble import AdaBoostClassifier\n",
    "ada = AdaBoostClassifier(learning_rate=1.2,n_estimators=150)\n",
    "%time pre_ada = cross_val_predict(ada, cv=cv, X=X_smt,y=y_smt, verbose=1,method='predict_proba')\n",
    "roc_auc_score(y_smt, pre_ada[:,1])"
   ]
  },
  {
   "cell_type": "code",
   "execution_count": 79,
   "metadata": {},
   "outputs": [
    {
     "data": {
      "text/html": [
       "<div>\n",
       "<style scoped>\n",
       "    .dataframe tbody tr th:only-of-type {\n",
       "        vertical-align: middle;\n",
       "    }\n",
       "\n",
       "    .dataframe tbody tr th {\n",
       "        vertical-align: top;\n",
       "    }\n",
       "\n",
       "    .dataframe thead th {\n",
       "        text-align: right;\n",
       "    }\n",
       "</style>\n",
       "<table border=\"1\" class=\"dataframe\">\n",
       "  <thead>\n",
       "    <tr style=\"text-align: right;\">\n",
       "      <th></th>\n",
       "      <th>UniqueID</th>\n",
       "      <th>loan_default</th>\n",
       "    </tr>\n",
       "  </thead>\n",
       "  <tbody>\n",
       "    <tr>\n",
       "      <th>0</th>\n",
       "      <td>655269</td>\n",
       "      <td>0.498432</td>\n",
       "    </tr>\n",
       "    <tr>\n",
       "      <th>1</th>\n",
       "      <td>723482</td>\n",
       "      <td>0.498634</td>\n",
       "    </tr>\n",
       "    <tr>\n",
       "      <th>2</th>\n",
       "      <td>758529</td>\n",
       "      <td>0.499131</td>\n",
       "    </tr>\n",
       "    <tr>\n",
       "      <th>3</th>\n",
       "      <td>763449</td>\n",
       "      <td>0.497617</td>\n",
       "    </tr>\n",
       "    <tr>\n",
       "      <th>4</th>\n",
       "      <td>708663</td>\n",
       "      <td>0.498578</td>\n",
       "    </tr>\n",
       "  </tbody>\n",
       "</table>\n",
       "</div>"
      ],
      "text/plain": [
       "   UniqueID  loan_default\n",
       "0    655269      0.498432\n",
       "1    723482      0.498634\n",
       "2    758529      0.499131\n",
       "3    763449      0.497617\n",
       "4    708663      0.498578"
      ]
     },
     "execution_count": 79,
     "metadata": {},
     "output_type": "execute_result"
    }
   ],
   "source": [
    "ada.fit(X_smt,y_smt)\n",
    "ada_smote = ada.predict_proba(test)[:,1]\n",
    "submission = pd.DataFrame({'UniqueID': unique_id,'loan_default': ada_smote})\n",
    "submission.to_csv('submission_smote_ada.csv',index=False)\n",
    "\n",
    "submission.head()"
   ]
  },
  {
   "cell_type": "code",
   "execution_count": 80,
   "metadata": {},
   "outputs": [
    {
     "name": "stderr",
     "output_type": "stream",
     "text": [
      "[Parallel(n_jobs=1)]: Using backend SequentialBackend with 1 concurrent workers.\n"
     ]
    },
    {
     "name": "stdout",
     "output_type": "stream",
     "text": [
      "CPU times: user 47min 3s, sys: 7.77 s, total: 47min 11s\n",
      "Wall time: 47min 13s\n"
     ]
    },
    {
     "name": "stderr",
     "output_type": "stream",
     "text": [
      "[Parallel(n_jobs=1)]: Done  20 out of  20 | elapsed: 47.2min finished\n"
     ]
    },
    {
     "data": {
      "text/plain": [
       "0.909537648801346"
      ]
     },
     "execution_count": 80,
     "metadata": {},
     "output_type": "execute_result"
    }
   ],
   "source": [
    "from xgboost.sklearn import XGBClassifier\n",
    "xgb = XGBClassifier(n_estimators = 200, n_jobs = -1,learning_rate = 0.25,eval_metric='merror',reg_alpha=0.1)\n",
    "%time pre_xgb = cross_val_predict(xgb, cv=cv, X=X_smt,y=y_smt, verbose=1,method='predict_proba')\n",
    "roc_auc_score(y_smt, pre_xgb[:,1])"
   ]
  },
  {
   "cell_type": "code",
   "execution_count": 81,
   "metadata": {},
   "outputs": [
    {
     "ename": "ValueError",
     "evalue": "feature_names mismatch: ['f0', 'f1', 'f2', 'f3', 'f4', 'f5', 'f6', 'f7', 'f8', 'f9', 'f10', 'f11', 'f12', 'f13', 'f14', 'f15', 'f16', 'f17', 'f18', 'f19', 'f20', 'f21', 'f22', 'f23', 'f24', 'f25', 'f26', 'f27', 'f28', 'f29', 'f30', 'f31', 'f32', 'f33', 'f34', 'f35', 'f36', 'f37', 'f38', 'f39', 'f40', 'f41', 'f42', 'f43', 'f44', 'f45', 'f46', 'f47', 'f48', 'f49', 'f50', 'f51'] ['disbursed_amount', 'asset_cost', 'ltv', 'branch_id', 'supplier_id', 'manufacturer_id', 'Current_pincode_ID', 'Employment.Type', 'State_ID', 'Employee_code_ID', 'MobileNo_Avl_Flag', 'Aadhar_flag', 'PAN_flag', 'VoterID_flag', 'Driving_flag', 'Passport_flag', 'PERFORM_CNS.SCORE', 'PERFORM_CNS.SCORE.DESCRIPTION', 'PRI.NO.OF.ACCTS', 'PRI.ACTIVE.ACCTS', 'PRI.OVERDUE.ACCTS', 'PRI.CURRENT.BALANCE', 'PRI.SANCTIONED.AMOUNT', 'PRI.DISBURSED.AMOUNT', 'SEC.NO.OF.ACCTS', 'SEC.ACTIVE.ACCTS', 'SEC.OVERDUE.ACCTS', 'SEC.CURRENT.BALANCE', 'SEC.SANCTIONED.AMOUNT', 'SEC.DISBURSED.AMOUNT', 'PRIMARY.INSTAL.AMT', 'SEC.INSTAL.AMT', 'NEW.ACCTS.IN.LAST.SIX.MONTHS', 'DELINQUENT.ACCTS.IN.LAST.SIX.MONTHS', 'AVERAGE.ACCT.AGE', 'CREDIT.HISTORY.LENGTH', 'NO.OF_INQUIRIES', 'Year_of_birth', 'age', 'DisbursalMonth', 'DisbursalYear', 'DisbursalWeek', 'DisbursalDay', 'DisbursalDayofweek', 'DisbursalDayofyear', 'DisbursalIs_month_end', 'DisbursalIs_month_start', 'DisbursalIs_quarter_end', 'DisbursalIs_quarter_start', 'DisbursalIs_year_end', 'DisbursalIs_year_start', 'DisbursalElapsed']\nexpected f1, f49, f24, f20, f18, f17, f21, f43, f47, f40, f5, f28, f15, f33, f36, f29, f8, f50, f35, f0, f16, f19, f6, f31, f42, f27, f2, f38, f39, f32, f41, f46, f13, f44, f10, f12, f23, f34, f51, f3, f26, f25, f45, f11, f37, f30, f14, f9, f4, f7, f22, f48 in input data\ntraining data did not have the following fields: supplier_id, SEC.SANCTIONED.AMOUNT, Passport_flag, NO.OF_INQUIRIES, Aadhar_flag, MobileNo_Avl_Flag, DisbursalDayofweek, PRI.CURRENT.BALANCE, AVERAGE.ACCT.AGE, ltv, PERFORM_CNS.SCORE, manufacturer_id, DisbursalDayofyear, PAN_flag, NEW.ACCTS.IN.LAST.SIX.MONTHS, VoterID_flag, DisbursalIs_month_end, PERFORM_CNS.SCORE.DESCRIPTION, State_ID, DisbursalElapsed, SEC.ACTIVE.ACCTS, DisbursalYear, Current_pincode_ID, SEC.NO.OF.ACCTS, CREDIT.HISTORY.LENGTH, DisbursalIs_year_end, PRI.NO.OF.ACCTS, DisbursalMonth, PRI.SANCTIONED.AMOUNT, SEC.CURRENT.BALANCE, Employee_code_ID, PRIMARY.INSTAL.AMT, DisbursalIs_month_start, DisbursalIs_quarter_end, SEC.OVERDUE.ACCTS, branch_id, age, SEC.INSTAL.AMT, disbursed_amount, asset_cost, PRI.DISBURSED.AMOUNT, Year_of_birth, Driving_flag, DELINQUENT.ACCTS.IN.LAST.SIX.MONTHS, PRI.ACTIVE.ACCTS, DisbursalWeek, DisbursalIs_quarter_start, DisbursalIs_year_start, Employment.Type, SEC.DISBURSED.AMOUNT, DisbursalDay, PRI.OVERDUE.ACCTS",
     "output_type": "error",
     "traceback": [
      "\u001b[0;31m---------------------------------------------------------------------------\u001b[0m",
      "\u001b[0;31mValueError\u001b[0m                                Traceback (most recent call last)",
      "\u001b[0;32m<ipython-input-81-963bdfe725ff>\u001b[0m in \u001b[0;36m<module>\u001b[0;34m()\u001b[0m\n\u001b[1;32m      1\u001b[0m \u001b[0mxgb\u001b[0m\u001b[0;34m.\u001b[0m\u001b[0mfit\u001b[0m\u001b[0;34m(\u001b[0m\u001b[0mX_smt\u001b[0m\u001b[0;34m,\u001b[0m\u001b[0my_smt\u001b[0m\u001b[0;34m)\u001b[0m\u001b[0;34m\u001b[0m\u001b[0m\n\u001b[0;32m----> 2\u001b[0;31m \u001b[0mxgb_smote\u001b[0m \u001b[0;34m=\u001b[0m \u001b[0mxgb\u001b[0m\u001b[0;34m.\u001b[0m\u001b[0mpredict_proba\u001b[0m\u001b[0;34m(\u001b[0m\u001b[0mtest\u001b[0m\u001b[0;34m)\u001b[0m\u001b[0;34m[\u001b[0m\u001b[0;34m:\u001b[0m\u001b[0;34m,\u001b[0m\u001b[0;36m1\u001b[0m\u001b[0;34m]\u001b[0m\u001b[0;34m\u001b[0m\u001b[0m\n\u001b[0m\u001b[1;32m      3\u001b[0m \u001b[0msubmission\u001b[0m \u001b[0;34m=\u001b[0m \u001b[0mpd\u001b[0m\u001b[0;34m.\u001b[0m\u001b[0mDataFrame\u001b[0m\u001b[0;34m(\u001b[0m\u001b[0;34m{\u001b[0m\u001b[0;34m'UniqueID'\u001b[0m\u001b[0;34m:\u001b[0m \u001b[0munique_id\u001b[0m\u001b[0;34m,\u001b[0m\u001b[0;34m'loan_default'\u001b[0m\u001b[0;34m:\u001b[0m \u001b[0mxgb_smote\u001b[0m\u001b[0;34m}\u001b[0m\u001b[0;34m)\u001b[0m\u001b[0;34m\u001b[0m\u001b[0m\n\u001b[1;32m      4\u001b[0m \u001b[0msubmission\u001b[0m\u001b[0;34m.\u001b[0m\u001b[0mto_csv\u001b[0m\u001b[0;34m(\u001b[0m\u001b[0;34m'submission_smote_xgb.csv'\u001b[0m\u001b[0;34m,\u001b[0m\u001b[0mindex\u001b[0m\u001b[0;34m=\u001b[0m\u001b[0;32mFalse\u001b[0m\u001b[0;34m)\u001b[0m\u001b[0;34m\u001b[0m\u001b[0m\n\u001b[1;32m      5\u001b[0m \u001b[0;34m\u001b[0m\u001b[0m\n",
      "\u001b[0;32m/opt/conda/lib/python3.6/site-packages/xgboost/sklearn.py\u001b[0m in \u001b[0;36mpredict_proba\u001b[0;34m(self, data, ntree_limit, validate_features)\u001b[0m\n\u001b[1;32m    813\u001b[0m         class_probs = self.get_booster().predict(test_dmatrix,\n\u001b[1;32m    814\u001b[0m                                                  \u001b[0mntree_limit\u001b[0m\u001b[0;34m=\u001b[0m\u001b[0mntree_limit\u001b[0m\u001b[0;34m,\u001b[0m\u001b[0;34m\u001b[0m\u001b[0m\n\u001b[0;32m--> 815\u001b[0;31m                                                  validate_features=validate_features)\n\u001b[0m\u001b[1;32m    816\u001b[0m         \u001b[0;32mif\u001b[0m \u001b[0mself\u001b[0m\u001b[0;34m.\u001b[0m\u001b[0mobjective\u001b[0m \u001b[0;34m==\u001b[0m \u001b[0;34m\"multi:softprob\"\u001b[0m\u001b[0;34m:\u001b[0m\u001b[0;34m\u001b[0m\u001b[0m\n\u001b[1;32m    817\u001b[0m             \u001b[0;32mreturn\u001b[0m \u001b[0mclass_probs\u001b[0m\u001b[0;34m\u001b[0m\u001b[0m\n",
      "\u001b[0;32m/opt/conda/lib/python3.6/site-packages/xgboost/core.py\u001b[0m in \u001b[0;36mpredict\u001b[0;34m(self, data, output_margin, ntree_limit, pred_leaf, pred_contribs, approx_contribs, pred_interactions, validate_features)\u001b[0m\n\u001b[1;32m   1283\u001b[0m \u001b[0;34m\u001b[0m\u001b[0m\n\u001b[1;32m   1284\u001b[0m         \u001b[0;32mif\u001b[0m \u001b[0mvalidate_features\u001b[0m\u001b[0;34m:\u001b[0m\u001b[0;34m\u001b[0m\u001b[0m\n\u001b[0;32m-> 1285\u001b[0;31m             \u001b[0mself\u001b[0m\u001b[0;34m.\u001b[0m\u001b[0m_validate_features\u001b[0m\u001b[0;34m(\u001b[0m\u001b[0mdata\u001b[0m\u001b[0;34m)\u001b[0m\u001b[0;34m\u001b[0m\u001b[0m\n\u001b[0m\u001b[1;32m   1286\u001b[0m \u001b[0;34m\u001b[0m\u001b[0m\n\u001b[1;32m   1287\u001b[0m         \u001b[0mlength\u001b[0m \u001b[0;34m=\u001b[0m \u001b[0mc_bst_ulong\u001b[0m\u001b[0;34m(\u001b[0m\u001b[0;34m)\u001b[0m\u001b[0;34m\u001b[0m\u001b[0m\n",
      "\u001b[0;32m/opt/conda/lib/python3.6/site-packages/xgboost/core.py\u001b[0m in \u001b[0;36m_validate_features\u001b[0;34m(self, data)\u001b[0m\n\u001b[1;32m   1690\u001b[0m \u001b[0;34m\u001b[0m\u001b[0m\n\u001b[1;32m   1691\u001b[0m                 raise ValueError(msg.format(self.feature_names,\n\u001b[0;32m-> 1692\u001b[0;31m                                             data.feature_names))\n\u001b[0m\u001b[1;32m   1693\u001b[0m \u001b[0;34m\u001b[0m\u001b[0m\n\u001b[1;32m   1694\u001b[0m     \u001b[0;32mdef\u001b[0m \u001b[0mget_split_value_histogram\u001b[0m\u001b[0;34m(\u001b[0m\u001b[0mself\u001b[0m\u001b[0;34m,\u001b[0m \u001b[0mfeature\u001b[0m\u001b[0;34m,\u001b[0m \u001b[0mfmap\u001b[0m\u001b[0;34m=\u001b[0m\u001b[0;34m''\u001b[0m\u001b[0;34m,\u001b[0m \u001b[0mbins\u001b[0m\u001b[0;34m=\u001b[0m\u001b[0;32mNone\u001b[0m\u001b[0;34m,\u001b[0m \u001b[0mas_pandas\u001b[0m\u001b[0;34m=\u001b[0m\u001b[0;32mTrue\u001b[0m\u001b[0;34m)\u001b[0m\u001b[0;34m:\u001b[0m\u001b[0;34m\u001b[0m\u001b[0m\n",
      "\u001b[0;31mValueError\u001b[0m: feature_names mismatch: ['f0', 'f1', 'f2', 'f3', 'f4', 'f5', 'f6', 'f7', 'f8', 'f9', 'f10', 'f11', 'f12', 'f13', 'f14', 'f15', 'f16', 'f17', 'f18', 'f19', 'f20', 'f21', 'f22', 'f23', 'f24', 'f25', 'f26', 'f27', 'f28', 'f29', 'f30', 'f31', 'f32', 'f33', 'f34', 'f35', 'f36', 'f37', 'f38', 'f39', 'f40', 'f41', 'f42', 'f43', 'f44', 'f45', 'f46', 'f47', 'f48', 'f49', 'f50', 'f51'] ['disbursed_amount', 'asset_cost', 'ltv', 'branch_id', 'supplier_id', 'manufacturer_id', 'Current_pincode_ID', 'Employment.Type', 'State_ID', 'Employee_code_ID', 'MobileNo_Avl_Flag', 'Aadhar_flag', 'PAN_flag', 'VoterID_flag', 'Driving_flag', 'Passport_flag', 'PERFORM_CNS.SCORE', 'PERFORM_CNS.SCORE.DESCRIPTION', 'PRI.NO.OF.ACCTS', 'PRI.ACTIVE.ACCTS', 'PRI.OVERDUE.ACCTS', 'PRI.CURRENT.BALANCE', 'PRI.SANCTIONED.AMOUNT', 'PRI.DISBURSED.AMOUNT', 'SEC.NO.OF.ACCTS', 'SEC.ACTIVE.ACCTS', 'SEC.OVERDUE.ACCTS', 'SEC.CURRENT.BALANCE', 'SEC.SANCTIONED.AMOUNT', 'SEC.DISBURSED.AMOUNT', 'PRIMARY.INSTAL.AMT', 'SEC.INSTAL.AMT', 'NEW.ACCTS.IN.LAST.SIX.MONTHS', 'DELINQUENT.ACCTS.IN.LAST.SIX.MONTHS', 'AVERAGE.ACCT.AGE', 'CREDIT.HISTORY.LENGTH', 'NO.OF_INQUIRIES', 'Year_of_birth', 'age', 'DisbursalMonth', 'DisbursalYear', 'DisbursalWeek', 'DisbursalDay', 'DisbursalDayofweek', 'DisbursalDayofyear', 'DisbursalIs_month_end', 'DisbursalIs_month_start', 'DisbursalIs_quarter_end', 'DisbursalIs_quarter_start', 'DisbursalIs_year_end', 'DisbursalIs_year_start', 'DisbursalElapsed']\nexpected f1, f49, f24, f20, f18, f17, f21, f43, f47, f40, f5, f28, f15, f33, f36, f29, f8, f50, f35, f0, f16, f19, f6, f31, f42, f27, f2, f38, f39, f32, f41, f46, f13, f44, f10, f12, f23, f34, f51, f3, f26, f25, f45, f11, f37, f30, f14, f9, f4, f7, f22, f48 in input data\ntraining data did not have the following fields: supplier_id, SEC.SANCTIONED.AMOUNT, Passport_flag, NO.OF_INQUIRIES, Aadhar_flag, MobileNo_Avl_Flag, DisbursalDayofweek, PRI.CURRENT.BALANCE, AVERAGE.ACCT.AGE, ltv, PERFORM_CNS.SCORE, manufacturer_id, DisbursalDayofyear, PAN_flag, NEW.ACCTS.IN.LAST.SIX.MONTHS, VoterID_flag, DisbursalIs_month_end, PERFORM_CNS.SCORE.DESCRIPTION, State_ID, DisbursalElapsed, SEC.ACTIVE.ACCTS, DisbursalYear, Current_pincode_ID, SEC.NO.OF.ACCTS, CREDIT.HISTORY.LENGTH, DisbursalIs_year_end, PRI.NO.OF.ACCTS, DisbursalMonth, PRI.SANCTIONED.AMOUNT, SEC.CURRENT.BALANCE, Employee_code_ID, PRIMARY.INSTAL.AMT, DisbursalIs_month_start, DisbursalIs_quarter_end, SEC.OVERDUE.ACCTS, branch_id, age, SEC.INSTAL.AMT, disbursed_amount, asset_cost, PRI.DISBURSED.AMOUNT, Year_of_birth, Driving_flag, DELINQUENT.ACCTS.IN.LAST.SIX.MONTHS, PRI.ACTIVE.ACCTS, DisbursalWeek, DisbursalIs_quarter_start, DisbursalIs_year_start, Employment.Type, SEC.DISBURSED.AMOUNT, DisbursalDay, PRI.OVERDUE.ACCTS"
     ]
    }
   ],
   "source": [
    "xgb.fit(X_smt,y_smt)\n",
    "xgb_smote = xgb.predict_proba(test)[:,1]\n",
    "submission = pd.DataFrame({'UniqueID': unique_id,'loan_default': xgb_smote})\n",
    "submission.to_csv('submission_smote_xgb.csv',index=False)\n",
    "\n",
    "submission.head()"
   ]
  },
  {
   "cell_type": "code",
   "execution_count": 82,
   "metadata": {},
   "outputs": [
    {
     "name": "stderr",
     "output_type": "stream",
     "text": [
      "[Parallel(n_jobs=1)]: Using backend SequentialBackend with 1 concurrent workers.\n"
     ]
    },
    {
     "name": "stdout",
     "output_type": "stream",
     "text": [
      "CPU times: user 9min 12s, sys: 8.2 s, total: 9min 20s\n",
      "Wall time: 9min 20s\n"
     ]
    },
    {
     "name": "stderr",
     "output_type": "stream",
     "text": [
      "[Parallel(n_jobs=1)]: Done  20 out of  20 | elapsed:  9.3min finished\n"
     ]
    },
    {
     "data": {
      "text/plain": [
       "0.9211757428001776"
      ]
     },
     "execution_count": 82,
     "metadata": {},
     "output_type": "execute_result"
    }
   ],
   "source": [
    "from lightgbm import LGBMClassifier\n",
    "lgb = LGBMClassifier(random_state=1,learning_rate=0.15,n_estimators=400,min_child_samples=25,n_jobs=-1,reg_alpha=0.1,reg_lambda=0.1)\n",
    "%time pre_lgb = cross_val_predict(lgb, cv=cv, X=X_smt,y=y_smt, verbose=1,method='predict_proba')\n",
    "roc_auc_score(y_smt, pre_lgb[:,1])"
   ]
  },
  {
   "cell_type": "code",
   "execution_count": 83,
   "metadata": {},
   "outputs": [
    {
     "data": {
      "text/html": [
       "<div>\n",
       "<style scoped>\n",
       "    .dataframe tbody tr th:only-of-type {\n",
       "        vertical-align: middle;\n",
       "    }\n",
       "\n",
       "    .dataframe tbody tr th {\n",
       "        vertical-align: top;\n",
       "    }\n",
       "\n",
       "    .dataframe thead th {\n",
       "        text-align: right;\n",
       "    }\n",
       "</style>\n",
       "<table border=\"1\" class=\"dataframe\">\n",
       "  <thead>\n",
       "    <tr style=\"text-align: right;\">\n",
       "      <th></th>\n",
       "      <th>UniqueID</th>\n",
       "      <th>loan_default</th>\n",
       "    </tr>\n",
       "  </thead>\n",
       "  <tbody>\n",
       "    <tr>\n",
       "      <th>0</th>\n",
       "      <td>655269</td>\n",
       "      <td>0.269190</td>\n",
       "    </tr>\n",
       "    <tr>\n",
       "      <th>1</th>\n",
       "      <td>723482</td>\n",
       "      <td>0.311754</td>\n",
       "    </tr>\n",
       "    <tr>\n",
       "      <th>2</th>\n",
       "      <td>758529</td>\n",
       "      <td>0.297902</td>\n",
       "    </tr>\n",
       "    <tr>\n",
       "      <th>3</th>\n",
       "      <td>763449</td>\n",
       "      <td>0.297964</td>\n",
       "    </tr>\n",
       "    <tr>\n",
       "      <th>4</th>\n",
       "      <td>708663</td>\n",
       "      <td>0.392577</td>\n",
       "    </tr>\n",
       "  </tbody>\n",
       "</table>\n",
       "</div>"
      ],
      "text/plain": [
       "   UniqueID  loan_default\n",
       "0    655269      0.269190\n",
       "1    723482      0.311754\n",
       "2    758529      0.297902\n",
       "3    763449      0.297964\n",
       "4    708663      0.392577"
      ]
     },
     "execution_count": 83,
     "metadata": {},
     "output_type": "execute_result"
    }
   ],
   "source": [
    "lgb.fit(X_smt,y_smt)\n",
    "lgb_smote = lgb.predict_proba(test)[:,1]\n",
    "submission = pd.DataFrame({'UniqueID': unique_id,'loan_default': lgb_smote})\n",
    "submission.to_csv('submission_smote_lgb.csv',index=False)\n",
    "\n",
    "submission.head()"
   ]
  },
  {
   "cell_type": "code",
   "execution_count": 84,
   "metadata": {},
   "outputs": [
    {
     "name": "stderr",
     "output_type": "stream",
     "text": [
      "[Parallel(n_jobs=1)]: Using backend SequentialBackend with 1 concurrent workers.\n"
     ]
    },
    {
     "name": "stdout",
     "output_type": "stream",
     "text": [
      "CPU times: user 2h 38min 3s, sys: 6.78 s, total: 2h 38min 10s\n",
      "Wall time: 2h 38min 15s\n"
     ]
    },
    {
     "name": "stderr",
     "output_type": "stream",
     "text": [
      "[Parallel(n_jobs=1)]: Done  20 out of  20 | elapsed: 158.3min finished\n"
     ]
    },
    {
     "data": {
      "text/plain": [
       "0.9194219639176405"
      ]
     },
     "execution_count": 84,
     "metadata": {},
     "output_type": "execute_result"
    }
   ],
   "source": [
    "from sklearn.ensemble import GradientBoostingClassifier\n",
    "gbm = GradientBoostingClassifier(random_state=1,loss='exponential',learning_rate=0.26,n_estimators=150,max_depth =5,min_samples_leaf=1)\n",
    "%time pre_gbm = cross_val_predict(gbm, cv=cv, X=X_smt,y=y_smt, verbose=1,method='predict_proba')\n",
    "roc_auc_score(y_smt, pre_gbm[:,1])"
   ]
  },
  {
   "cell_type": "code",
   "execution_count": 85,
   "metadata": {},
   "outputs": [
    {
     "data": {
      "text/html": [
       "<div>\n",
       "<style scoped>\n",
       "    .dataframe tbody tr th:only-of-type {\n",
       "        vertical-align: middle;\n",
       "    }\n",
       "\n",
       "    .dataframe tbody tr th {\n",
       "        vertical-align: top;\n",
       "    }\n",
       "\n",
       "    .dataframe thead th {\n",
       "        text-align: right;\n",
       "    }\n",
       "</style>\n",
       "<table border=\"1\" class=\"dataframe\">\n",
       "  <thead>\n",
       "    <tr style=\"text-align: right;\">\n",
       "      <th></th>\n",
       "      <th>UniqueID</th>\n",
       "      <th>loan_default</th>\n",
       "    </tr>\n",
       "  </thead>\n",
       "  <tbody>\n",
       "    <tr>\n",
       "      <th>0</th>\n",
       "      <td>655269</td>\n",
       "      <td>0.235612</td>\n",
       "    </tr>\n",
       "    <tr>\n",
       "      <th>1</th>\n",
       "      <td>723482</td>\n",
       "      <td>0.297920</td>\n",
       "    </tr>\n",
       "    <tr>\n",
       "      <th>2</th>\n",
       "      <td>758529</td>\n",
       "      <td>0.369183</td>\n",
       "    </tr>\n",
       "    <tr>\n",
       "      <th>3</th>\n",
       "      <td>763449</td>\n",
       "      <td>0.322190</td>\n",
       "    </tr>\n",
       "    <tr>\n",
       "      <th>4</th>\n",
       "      <td>708663</td>\n",
       "      <td>0.305487</td>\n",
       "    </tr>\n",
       "  </tbody>\n",
       "</table>\n",
       "</div>"
      ],
      "text/plain": [
       "   UniqueID  loan_default\n",
       "0    655269      0.235612\n",
       "1    723482      0.297920\n",
       "2    758529      0.369183\n",
       "3    763449      0.322190\n",
       "4    708663      0.305487"
      ]
     },
     "execution_count": 85,
     "metadata": {},
     "output_type": "execute_result"
    }
   ],
   "source": [
    "gbm.fit(X_smt,y_smt)\n",
    "gbm_smote = gbm.predict_proba(test)[:,1]\n",
    "submission = pd.DataFrame({'UniqueID': unique_id,'loan_default': gbm_smote})\n",
    "submission.to_csv('submission_smote_gbm.csv',index=False)\n",
    "\n",
    "submission.head()"
   ]
  },
  {
   "cell_type": "code",
   "execution_count": 86,
   "metadata": {},
   "outputs": [
    {
     "ename": "NameError",
     "evalue": "name 'xgb_smote' is not defined",
     "output_type": "error",
     "traceback": [
      "\u001b[0;31m---------------------------------------------------------------------------\u001b[0m",
      "\u001b[0;31mNameError\u001b[0m                                 Traceback (most recent call last)",
      "\u001b[0;32m<ipython-input-86-cf1dd4dc9074>\u001b[0m in \u001b[0;36m<module>\u001b[0;34m()\u001b[0m\n\u001b[0;32m----> 1\u001b[0;31m \u001b[0mavg_smote\u001b[0m \u001b[0;34m=\u001b[0m \u001b[0mrf_smote\u001b[0m\u001b[0;34m*\u001b[0m\u001b[0;36m0.17\u001b[0m \u001b[0;34m+\u001b[0m \u001b[0mada_smote\u001b[0m\u001b[0;34m*\u001b[0m\u001b[0;36m0.20\u001b[0m \u001b[0;34m+\u001b[0m \u001b[0mlgb_smote\u001b[0m\u001b[0;34m*\u001b[0m\u001b[0;36m0.21\u001b[0m \u001b[0;34m+\u001b[0m \u001b[0mxgb_smote\u001b[0m\u001b[0;34m*\u001b[0m\u001b[0;36m0.21\u001b[0m \u001b[0;34m+\u001b[0m \u001b[0mgbm_smote\u001b[0m\u001b[0;34m*\u001b[0m\u001b[0;36m0.21\u001b[0m\u001b[0;34m\u001b[0m\u001b[0m\n\u001b[0m\u001b[1;32m      2\u001b[0m \u001b[0msubmission\u001b[0m \u001b[0;34m=\u001b[0m \u001b[0mpd\u001b[0m\u001b[0;34m.\u001b[0m\u001b[0mDataFrame\u001b[0m\u001b[0;34m(\u001b[0m\u001b[0;34m{\u001b[0m\u001b[0;34m'UniqueID'\u001b[0m\u001b[0;34m:\u001b[0m \u001b[0munique_id\u001b[0m\u001b[0;34m,\u001b[0m\u001b[0;34m'loan_default'\u001b[0m\u001b[0;34m:\u001b[0m \u001b[0mavg_smote\u001b[0m\u001b[0;34m}\u001b[0m\u001b[0;34m)\u001b[0m\u001b[0;34m\u001b[0m\u001b[0m\n\u001b[1;32m      3\u001b[0m \u001b[0msubmission\u001b[0m\u001b[0;34m.\u001b[0m\u001b[0mto_csv\u001b[0m\u001b[0;34m(\u001b[0m\u001b[0;34m'submission_smote_avg.csv'\u001b[0m\u001b[0;34m,\u001b[0m\u001b[0mindex\u001b[0m\u001b[0;34m=\u001b[0m\u001b[0;32mFalse\u001b[0m\u001b[0;34m)\u001b[0m\u001b[0;34m\u001b[0m\u001b[0m\n",
      "\u001b[0;31mNameError\u001b[0m: name 'xgb_smote' is not defined"
     ]
    }
   ],
   "source": [
    "avg_smote = rf_smote*0.17 + ada_smote*0.20 + lgb_smote*0.21 + xgb_smote*0.21 + gbm_smote*0.21\n",
    "submission = pd.DataFrame({'UniqueID': unique_id,'loan_default': avg_smote})\n",
    "submission.to_csv('submission_smote_avg.csv',index=False)"
   ]
  },
  {
   "cell_type": "code",
   "execution_count": 87,
   "metadata": {},
   "outputs": [
    {
     "ename": "NameError",
     "evalue": "name 'xgb_smote' is not defined",
     "output_type": "error",
     "traceback": [
      "\u001b[0;31m---------------------------------------------------------------------------\u001b[0m",
      "\u001b[0;31mNameError\u001b[0m                                 Traceback (most recent call last)",
      "\u001b[0;32m<ipython-input-87-eeef3f7314f4>\u001b[0m in \u001b[0;36m<module>\u001b[0;34m()\u001b[0m\n\u001b[0;32m----> 1\u001b[0;31m \u001b[0mavg_smote2\u001b[0m \u001b[0;34m=\u001b[0m \u001b[0mada_smote\u001b[0m\u001b[0;34m*\u001b[0m\u001b[0;36m0.25\u001b[0m \u001b[0;34m+\u001b[0m \u001b[0mlgb_smote\u001b[0m\u001b[0;34m*\u001b[0m\u001b[0;36m0.25\u001b[0m \u001b[0;34m+\u001b[0m \u001b[0mxgb_smote\u001b[0m\u001b[0;34m*\u001b[0m\u001b[0;36m0.25\u001b[0m \u001b[0;34m+\u001b[0m \u001b[0mgbm_smote\u001b[0m\u001b[0;34m*\u001b[0m\u001b[0;36m0.25\u001b[0m\u001b[0;34m\u001b[0m\u001b[0m\n\u001b[0m\u001b[1;32m      2\u001b[0m \u001b[0msubmission\u001b[0m \u001b[0;34m=\u001b[0m \u001b[0mpd\u001b[0m\u001b[0;34m.\u001b[0m\u001b[0mDataFrame\u001b[0m\u001b[0;34m(\u001b[0m\u001b[0;34m{\u001b[0m\u001b[0;34m'UniqueID'\u001b[0m\u001b[0;34m:\u001b[0m \u001b[0munique_id\u001b[0m\u001b[0;34m,\u001b[0m\u001b[0;34m'loan_default'\u001b[0m\u001b[0;34m:\u001b[0m \u001b[0mavg_smote2\u001b[0m\u001b[0;34m}\u001b[0m\u001b[0;34m)\u001b[0m\u001b[0;34m\u001b[0m\u001b[0m\n\u001b[1;32m      3\u001b[0m \u001b[0msubmission\u001b[0m\u001b[0;34m.\u001b[0m\u001b[0mto_csv\u001b[0m\u001b[0;34m(\u001b[0m\u001b[0;34m'submission_smote_avg2.csv'\u001b[0m\u001b[0;34m,\u001b[0m\u001b[0mindex\u001b[0m\u001b[0;34m=\u001b[0m\u001b[0;32mFalse\u001b[0m\u001b[0;34m)\u001b[0m\u001b[0;34m\u001b[0m\u001b[0m\n",
      "\u001b[0;31mNameError\u001b[0m: name 'xgb_smote' is not defined"
     ]
    }
   ],
   "source": [
    "avg_smote2 = ada_smote*0.25 + lgb_smote*0.25 + xgb_smote*0.25 + gbm_smote*0.25\n",
    "submission = pd.DataFrame({'UniqueID': unique_id,'loan_default': avg_smote2})\n",
    "submission.to_csv('submission_smote_avg2.csv',index=False)"
   ]
  },
  {
   "cell_type": "code",
   "execution_count": 88,
   "metadata": {},
   "outputs": [],
   "source": [
    "# separating train and test datasets from data\n",
    "\n",
    "# x_train = train\n",
    "# x_test = test\n",
    "# y.shape\n",
    "# # checking the shape of train and test\n",
    "# print(\"Shape of train :\", x_train.shape)\n",
    "# print(\"Shape of test :\", x_test.shape)"
   ]
  },
  {
   "cell_type": "code",
   "execution_count": 89,
   "metadata": {},
   "outputs": [],
   "source": [
    "# applying SMOTE\n",
    "\n",
    "# from imblearn.over_sampling import SMOTE\n",
    "\n",
    "# x_resample, y_resample = SMOTE().fit_sample(x_train, y_train.values.ravel()) \n",
    "\n",
    "# # checking the shape of x_resample and y_resample\n",
    "# print(\"Shape of x:\", x_resample.shape)\n",
    "# print(\"Shape of y:\", y_resample.shape)"
   ]
  },
  {
   "cell_type": "code",
   "execution_count": 90,
   "metadata": {},
   "outputs": [],
   "source": [
    "\n",
    "# # train and valid sets from train\n",
    "# from sklearn.model_selection import train_test_split\n",
    "\n",
    "# x_train, x_valid, y_train, y_valid = train_test_split(train, y, test_size = 0.2, random_state = 0)\n",
    "\n",
    "# # checking the shapes\n",
    "# print(x_train.shape)\n",
    "# print(y_train.shape)\n",
    "# print(x_valid.shape)\n",
    "# print(y_valid.shape)"
   ]
  },
  {
   "cell_type": "code",
   "execution_count": 91,
   "metadata": {},
   "outputs": [],
   "source": [
    "# applying standardization\n",
    "\n",
    "# standardization\n",
    "\n",
    "from sklearn.preprocessing import StandardScaler\n",
    "\n",
    "# sc = StandardScaler()\n",
    "# x_train = sc.fit_transform(x_train)\n",
    "# x_valid = sc.transform(x_valid)\n",
    "# x_test = sc.transform(x_test)"
   ]
  },
  {
   "cell_type": "code",
   "execution_count": 92,
   "metadata": {},
   "outputs": [],
   "source": [
    "# RANDOM FOREST CLASSIFIER\n",
    "\n",
    "from sklearn.ensemble import RandomForestClassifier\n",
    "# from sklearn.metrics import confusion_matrix\n",
    "# from sklearn.metrics import classification_report\n",
    "\n",
    "# model_rf = RandomForestClassifier(n_estimators =150,n_jobs=-1,random_state=1)\n",
    "# model_rf.fit(x_train, y_train)\n",
    "\n",
    "# y_pred = model_rf.predict(x_valid)\n",
    "\n",
    "# print(\"Training Accuracy: \", model_rf.score(x_train, y_train))\n",
    "# print('Testing Accuarcy: ', model_rf.score(x_valid, y_valid))\n",
    "# print('Traing AUC:',roc_auc_score(y_train,model_rf.predict_proba(x_train)[:,1]))\n",
    "# print('Testing AUC:',roc_auc_score(y_valid,model_rf.predict_proba(x_valid)[:,1]))\n",
    "\n",
    "# # making a classification report\n",
    "# cr = classification_report(y_valid,  y_pred)\n",
    "# print(cr)\n",
    "\n",
    "# # making a confusion matrix\n",
    "# cm = confusion_matrix(y_valid, y_pred)\n",
    "# sns.heatmap(cm, annot = True)"
   ]
  },
  {
   "cell_type": "code",
   "execution_count": 93,
   "metadata": {},
   "outputs": [],
   "source": [
    "# # getting the avg precision score\n",
    "# from sklearn.metrics import average_precision_score\n",
    "\n",
    "# apc = average_precision_score(y_valid, y_pred)\n",
    "# print('Average Precision Score :', apc)"
   ]
  },
  {
   "cell_type": "code",
   "execution_count": 94,
   "metadata": {},
   "outputs": [],
   "source": [
    "##### plotting an AUC ROC Curve\n",
    "\n",
    "# from sklearn.metrics import precision_recall_curve\n",
    "# from sklearn.utils.fixes import signature\n",
    "\n",
    "# precision, recall, _ = precision_recall_curve(y_valid, y_pred)\n",
    "\n",
    "# step_kwargs = ({'step':'post'} if 'step' in signature(plt.fill_between).parameters else{})\n",
    "\n",
    "# plt.step(recall, precision, color = 'red', alpha = 0.6, where = 'post')\n",
    "# plt.fill_between(recall, precision, color = 'red', alpha = 0.6, **step_kwargs)\n",
    "\n",
    "# plt.title('Precision Recall Curve')\n",
    "# plt.xlabel('Recall', fontsize = 15)\n",
    "# plt.ylabel('Precision', fontsize =15)\n",
    "# plt.ylim([0.0, 1.05])\n",
    "# plt.xlim([0.0, 1.0])"
   ]
  },
  {
   "cell_type": "code",
   "execution_count": 95,
   "metadata": {},
   "outputs": [],
   "source": [
    "# ADA BOOST CLASSIFIER\n",
    "\n",
    "from sklearn.ensemble import AdaBoostClassifier\n",
    "from sklearn.metrics import confusion_matrix\n",
    "from sklearn.metrics import classification_report\n",
    "\n",
    "# model_ada = AdaBoostClassifier(learning_rate=1.2,n_estimators=100)\n",
    "# model_ada.fit(x_train, y_train)\n",
    "\n",
    "# y_pred = model_ada.predict(x_valid)\n",
    "\n",
    "# print(\"Training Accuracy: \", model_ada.score(x_train, y_train))\n",
    "# print('Testing Accuarcy: ', model_ada.score(x_valid, y_valid))\n",
    "# print('Traing AUC:',roc_auc_score(y_train,model_ada.predict_proba(x_train)[:,1]))\n",
    "# print('Testing AUC:',roc_auc_score(y_valid,model_ada.predict_proba(x_valid)[:,1]))\n",
    "\n",
    "# # making a classification report\n",
    "# cr = classification_report(y_valid,  y_pred)\n",
    "# print(cr)\n",
    "\n",
    "# # making a confusion matrix\n",
    "# cm = confusion_matrix(y_valid, y_pred)\n",
    "# sns.heatmap(cm, annot = True)"
   ]
  },
  {
   "cell_type": "code",
   "execution_count": 96,
   "metadata": {},
   "outputs": [],
   "source": [
    "# # getting the avg precision score\n",
    "from sklearn.metrics import average_precision_score\n",
    "\n",
    "# apc = average_precision_score(y_valid, y_pred)\n",
    "# print('Average Precision Score :', apc)"
   ]
  },
  {
   "cell_type": "code",
   "execution_count": 97,
   "metadata": {},
   "outputs": [],
   "source": [
    "# plotting an AUC ROC Curve\n",
    "\n",
    "from sklearn.metrics import precision_recall_curve\n",
    "from sklearn.utils.fixes import signature\n",
    "\n",
    "# precision, recall, _ = precision_recall_curve(y_valid, y_pred)\n",
    "\n",
    "# step_kwargs = ({'step':'post'} if 'step' in signature(plt.fill_between).parameters else{})\n",
    "\n",
    "# plt.step(recall, precision, color = 'pink', alpha = 0.6, where = 'post')\n",
    "# plt.fill_between(recall, precision, color = 'pink', alpha = 0.6, **step_kwargs)\n",
    "\n",
    "# plt.title('Precision Recall Curve')\n",
    "# plt.xlabel('Recall', fontsize = 15)\n",
    "# plt.ylabel('Precision', fontsize =15)\n",
    "# plt.ylim([0.0, 1.05])\n",
    "# plt.xlim([0.0, 1.0])"
   ]
  },
  {
   "cell_type": "code",
   "execution_count": 98,
   "metadata": {},
   "outputs": [],
   "source": [
    "# Xg-Boost Classifier\n",
    "\n",
    "from xgboost.sklearn import XGBClassifier\n",
    "from sklearn.metrics import confusion_matrix\n",
    "from sklearn.metrics import classification_report\n",
    "\n",
    "# model_xgb = XGBClassifier(n_estimators = 200, n_jobs = -1,learning_rate = 0.25,eval_metric='merror',reg_alpha=0.1)\n",
    "# model_xgb.fit(x_train, y_train)\n",
    "\n",
    "# y_pred = model_xgb.predict(x_valid)\n",
    "\n",
    "# print(\"Training Accuracy: \", model_xgb.score(x_train, y_train))\n",
    "# print('Testing Accuarcy: ', model_xgb.score(x_valid, y_valid))\n",
    "# print('Traing AUC:',roc_auc_score(y_train,model_xgb.predict_proba(x_train)[:,1]))\n",
    "# print('Testing AUC:',roc_auc_score(y_valid,model_xgb.predict_proba(x_valid)[:,1]))\n",
    "# # making a classification report\n",
    "# cr = classification_report(y_valid,  y_pred)\n",
    "# print(cr)\n",
    "\n",
    "# # making a confusion matrix\n",
    "# cm = confusion_matrix(y_valid, y_pred)\n",
    "# sns.heatmap(cm, annot = True)"
   ]
  },
  {
   "cell_type": "code",
   "execution_count": 99,
   "metadata": {},
   "outputs": [],
   "source": [
    "# # getting the avg precision score\n",
    "# from sklearn.metrics import average_precision_score\n",
    "\n",
    "# apc = average_precision_score(y_valid, y_pred)\n",
    "# print('Average Precision Score :', apc)"
   ]
  },
  {
   "cell_type": "code",
   "execution_count": 100,
   "metadata": {},
   "outputs": [],
   "source": [
    "# # plotting an AUC ROC Curve\n",
    "\n",
    "# from sklearn.metrics import precision_recall_curve\n",
    "# from sklearn.utils.fixes import signature\n",
    "\n",
    "# precision, recall, _ = precision_recall_curve(y_valid, y_pred)\n",
    "\n",
    "# step_kwargs = ({'step':'post'} if 'step' in signature(plt.fill_between).parameters else{})\n",
    "\n",
    "# plt.step(recall, precision, color = 'pink', alpha = 0.6, where = 'post')\n",
    "# plt.fill_between(recall, precision, color = 'pink', alpha = 0.6, **step_kwargs)\n",
    "\n",
    "# plt.title('Precision Recall Curve')\n",
    "# plt.xlabel('Recall', fontsize = 15)\n",
    "# plt.ylabel('Precision', fontsize =15)\n",
    "# plt.ylim([0.0, 1.05])\n",
    "# plt.xlim([0.0, 1.0])"
   ]
  },
  {
   "cell_type": "code",
   "execution_count": 101,
   "metadata": {},
   "outputs": [],
   "source": [
    "# light boost classifier\n",
    "\n",
    "from lightgbm import LGBMClassifier\n",
    "from sklearn.metrics import confusion_matrix\n",
    "from sklearn.metrics import classification_report\n",
    "\n",
    "# model_lgb = LGBMClassifier(random_state=1,learning_rate=0.15,n_estimators=400,min_child_samples=25,n_jobs=-1,reg_alpha=0.1,reg_lambda=0.1)\n",
    "# model_lgb.fit(x_train, y_train)\n",
    "\n",
    "# y_pred = model_lgb.predict(x_valid)\n",
    "\n",
    "# print(\"Training Accuracy: \", model_lgb.score(x_train, y_train))\n",
    "# print('Testing Accuarcy: ', model_lgb.score(x_valid, y_valid))\n",
    "# print('Traing AUC:',roc_auc_score(y_train,model_lgb.predict_proba(x_train)[:,1]))\n",
    "# print('Testing AUC:',roc_auc_score(y_valid,model_lgb.predict_proba(x_valid)[:,1]))\n",
    "\n",
    "# # making a classification report\n",
    "# cr = classification_report(y_valid,  y_pred)\n",
    "# print(cr)\n",
    "\n",
    "# # making a confusion matrix\n",
    "# cm = confusion_matrix(y_valid, y_pred)\n",
    "# sns.heatmap(cm, annot = True)"
   ]
  },
  {
   "cell_type": "code",
   "execution_count": 102,
   "metadata": {},
   "outputs": [],
   "source": [
    "# # getting the avg precision score\n",
    "from sklearn.metrics import average_precision_score\n",
    "\n",
    "# apc = average_precision_score(y_valid, y_pred)\n",
    "# print('Average Precision Score :', apc)"
   ]
  },
  {
   "cell_type": "code",
   "execution_count": 103,
   "metadata": {},
   "outputs": [],
   "source": [
    "# # plotting an AUC ROC Curve\n",
    "\n",
    "from sklearn.metrics import precision_recall_curve\n",
    "from sklearn.utils.fixes import signature\n",
    "\n",
    "# precision, recall, _ = precision_recall_curve(y_valid, y_pred)\n",
    "\n",
    "# step_kwargs = ({'step':'post'} if 'step' in signature(plt.fill_between).parameters else{})\n",
    "\n",
    "# plt.step(recall, precision, color = 'pink', alpha = 0.6, where = 'post')\n",
    "# plt.fill_between(recall, precision, color = 'pink', alpha = 0.6, **step_kwargs)\n",
    "\n",
    "# plt.title('Precision Recall Curve')\n",
    "# plt.xlabel('Recall', fontsize = 15)\n",
    "# plt.ylabel('Precision', fontsize =15)\n",
    "# plt.ylim([0.0, 1.05])\n",
    "# plt.xlim([0.0, 1.0])"
   ]
  },
  {
   "cell_type": "code",
   "execution_count": 104,
   "metadata": {},
   "outputs": [],
   "source": [
    "# GBM  classifier\n",
    "\n",
    "from sklearn.ensemble import GradientBoostingClassifier\n",
    "from sklearn.metrics import confusion_matrix\n",
    "from sklearn.metrics import classification_report\n",
    "\n",
    "# model_gbm = GradientBoostingClassifier(random_state=1,loss='exponential',learning_rate=0.26,n_estimators=150,max_depth =5,min_samples_leaf=1)\n",
    "# model_gbm.fit(x_train, y_train)\n",
    "\n",
    "# y_pred = model_gbm.predict(x_valid)\n",
    "\n",
    "# print(\"Training Accuracy: \", model_gbm.score(x_train, y_train))\n",
    "# print('Testing Accuarcy: ', model_gbm.score(x_valid, y_valid))\n",
    "# print('Traing AUC:',roc_auc_score(y_train,model_gbm.predict_proba(x_train)[:,1]))\n",
    "# print('Testing AUC:',roc_auc_score(y_valid,model_gbm.predict_proba(x_valid)[:,1]))\n",
    "\n",
    "# # making a classification report\n",
    "# cr = classification_report(y_valid,  y_pred)\n",
    "# print(cr)\n",
    "\n",
    "# # making a confusion matrix\n",
    "# cm = confusion_matrix(y_valid, y_pred)\n",
    "# sns.heatmap(cm, annot = True)"
   ]
  },
  {
   "cell_type": "code",
   "execution_count": 105,
   "metadata": {},
   "outputs": [],
   "source": [
    "# getting the avg precision score\n",
    "from sklearn.metrics import average_precision_score\n",
    "\n",
    "# apc = average_precision_score(y_valid, y_pred)\n",
    "# print('Average Precision Score :', apc)"
   ]
  },
  {
   "cell_type": "code",
   "execution_count": 106,
   "metadata": {},
   "outputs": [],
   "source": [
    "# plotting an AUC ROC Curve\n",
    "\n",
    "from sklearn.metrics import precision_recall_curve\n",
    "from sklearn.utils.fixes import signature\n",
    "\n",
    "# precision, recall, _ = precision_recall_curve(y_valid, y_pred)\n",
    "\n",
    "# step_kwargs = ({'step':'post'} if 'step' in signature(plt.fill_between).parameters else{})\n",
    "\n",
    "# plt.step(recall, precision, color = 'pink', alpha = 0.6, where = 'post')\n",
    "# plt.fill_between(recall, precision, color = 'pink', alpha = 0.6, **step_kwargs)\n",
    "\n",
    "# plt.title('Precision Recall Curve')\n",
    "# plt.xlabel('Recall', fontsize = 15)\n",
    "# plt.ylabel('Precision', fontsize =15)\n",
    "# plt.ylim([0.0, 1.05])\n",
    "# plt.xlim([0.0, 1.0])"
   ]
  },
  {
   "cell_type": "code",
   "execution_count": 107,
   "metadata": {},
   "outputs": [],
   "source": [
    "# let's plot the feature importance plot for the lg boost model\n",
    "# feature = pd.DataFrame()\n",
    "# x_train = pd.DataFrame(x_train)\n",
    "# feature['name'] = x_train.columns\n",
    "# feature['importance'] = model_lgb.feature_importances_\n",
    "\n",
    "# feature.sort_values(by = ['importance'], ascending = True, inplace = True)\n",
    "# feature.set_index('name', inplace = True)\n",
    "\n",
    "# feature.plot(kind = 'barh', color = 'purple', figsize = (5, 15), fontsize = 10)"
   ]
  },
  {
   "cell_type": "code",
   "execution_count": 108,
   "metadata": {},
   "outputs": [],
   "source": [
    "# ## fit all the models on whole training set (No validation set needed) before predicting on testing set\n",
    "\n",
    "# model_rf.fit(train, y)\n",
    "# model_ada.fit(train, y)\n",
    "# model_xgb.fit(train, y)\n",
    "# model_lgb.fit(train, y)\n",
    "# model_gbm.fit(train, y)"
   ]
  },
  {
   "cell_type": "code",
   "execution_count": 109,
   "metadata": {},
   "outputs": [],
   "source": [
    "# # let's predict for the tests set\n",
    "# y_pred_rf = model_rf.predict_proba(x_test)[:,1]\n",
    "# y_pred_ada = model_ada.predict_proba(x_test)[:,1]\n",
    "# y_pred_xgb = model_xgb.predict_proba(x_test)[:,1]\n",
    "# y_pred_lgb = model_lgb.predict_proba(x_test)[:,1]\n",
    "# y_pred_gbm = model_lgb.predict_proba(x_test)[:,1]"
   ]
  },
  {
   "cell_type": "code",
   "execution_count": 110,
   "metadata": {},
   "outputs": [],
   "source": [
    "# ##Boosting.\n",
    "## XGB, LGB, GBM performed better than RF and ADA on validation set. let's give more weiht to them\n",
    "#avg_pred = y_pred_ada\n",
    "# avg_pred = y_pred_rf*0.17 + y_pred_ada*0.20 + y_pred_lgb*0.21 + y_pred_xgb*0.21 + y_pred_gbm*0.21"
   ]
  },
  {
   "cell_type": "code",
   "execution_count": 111,
   "metadata": {},
   "outputs": [
    {
     "data": {
      "text/html": [
       "<div>\n",
       "<style scoped>\n",
       "    .dataframe tbody tr th:only-of-type {\n",
       "        vertical-align: middle;\n",
       "    }\n",
       "\n",
       "    .dataframe tbody tr th {\n",
       "        vertical-align: top;\n",
       "    }\n",
       "\n",
       "    .dataframe thead th {\n",
       "        text-align: right;\n",
       "    }\n",
       "</style>\n",
       "<table border=\"1\" class=\"dataframe\">\n",
       "  <thead>\n",
       "    <tr style=\"text-align: right;\">\n",
       "      <th></th>\n",
       "      <th>UniqueID</th>\n",
       "      <th>loan_default</th>\n",
       "    </tr>\n",
       "  </thead>\n",
       "  <tbody>\n",
       "    <tr>\n",
       "      <th>0</th>\n",
       "      <td>655269</td>\n",
       "      <td>0</td>\n",
       "    </tr>\n",
       "    <tr>\n",
       "      <th>1</th>\n",
       "      <td>723482</td>\n",
       "      <td>0</td>\n",
       "    </tr>\n",
       "    <tr>\n",
       "      <th>2</th>\n",
       "      <td>758529</td>\n",
       "      <td>0</td>\n",
       "    </tr>\n",
       "    <tr>\n",
       "      <th>3</th>\n",
       "      <td>763449</td>\n",
       "      <td>0</td>\n",
       "    </tr>\n",
       "    <tr>\n",
       "      <th>4</th>\n",
       "      <td>708663</td>\n",
       "      <td>0</td>\n",
       "    </tr>\n",
       "  </tbody>\n",
       "</table>\n",
       "</div>"
      ],
      "text/plain": [
       "   UniqueID  loan_default\n",
       "0    655269             0\n",
       "1    723482             0\n",
       "2    758529             0\n",
       "3    763449             0\n",
       "4    708663             0"
      ]
     },
     "execution_count": 111,
     "metadata": {},
     "output_type": "execute_result"
    }
   ],
   "source": [
    "# lets look at the submission file\n",
    "submission = pd.read_csv('../input/sample_submission_24jSKY6.csv')\n",
    "submission.head()"
   ]
  },
  {
   "cell_type": "code",
   "execution_count": 112,
   "metadata": {},
   "outputs": [],
   "source": [
    "#  let's create a submission file\n",
    "#Create a  DataFrame with the passengers ids and our prediction regarding whether they survived or not\n",
    "# submission_avg = pd.DataFrame({'UniqueID': unique_id,'loan_default': avg_pred})\n",
    "# submission_avg.to_csv('submission_avg.csv',index=False)\n",
    "# #Visualize the first 5 rows\n",
    "# submission_avg.head()"
   ]
  },
  {
   "cell_type": "code",
   "execution_count": 113,
   "metadata": {},
   "outputs": [],
   "source": [
    "# submission_rf = pd.DataFrame({'UniqueID': unique_id,'loan_default': y_pred_rf})\n",
    "# submission_rf.to_csv('submission_rf.csv',index=False)\n",
    "# #Visualize the first 5 rows\n",
    "# submission_rf.head()"
   ]
  },
  {
   "cell_type": "code",
   "execution_count": 114,
   "metadata": {},
   "outputs": [],
   "source": [
    "# submission_ada = pd.DataFrame({'UniqueID': unique_id,'loan_default': y_pred_ada})\n",
    "# submission_ada.to_csv('submission_ada.csv',index=False)\n",
    "# #Visualize the first 5 rows\n",
    "# submission_ada.head()"
   ]
  },
  {
   "cell_type": "code",
   "execution_count": 115,
   "metadata": {},
   "outputs": [],
   "source": [
    "# submission_xgb = pd.DataFrame({'UniqueID': unique_id,'loan_default': y_pred_xgb})\n",
    "# submission_xgb.to_csv('submission_xgb.csv',index=False)\n",
    "# #Visualize the first 5 rows\n",
    "# submission_xgb.head()"
   ]
  },
  {
   "cell_type": "code",
   "execution_count": 116,
   "metadata": {},
   "outputs": [],
   "source": [
    "# submission_lgb = pd.DataFrame({'UniqueID': unique_id,'loan_default': y_pred_lgb})\n",
    "# submission_lgb.to_csv('submission_lgb.csv',index=False)\n",
    "# #Visualize the first 5 rows\n",
    "# submission_lgb.head()"
   ]
  },
  {
   "cell_type": "code",
   "execution_count": 117,
   "metadata": {},
   "outputs": [],
   "source": [
    "# submission_gbm = pd.DataFrame({'UniqueID': unique_id,'loan_default': y_pred_gbm})\n",
    "# submission_gbm.to_csv('submission_gbm.csv',index=False)\n",
    "# #Visualize the first 5 rows\n",
    "# submission_gbm.head()"
   ]
  },
  {
   "cell_type": "code",
   "execution_count": 118,
   "metadata": {},
   "outputs": [],
   "source": [
    "from IPython.display import HTML\n",
    "def create_download_link(title = \"Download CSV file\", filename = \"data.csv\"):  \n",
    "    html = '<a href={filename}>{title}</a>'\n",
    "    html = html.format(title=title,filename=filename)\n",
    "    return HTML(html)\n",
    "\n",
    "#Convert DataFrame to a csv file that can be uploaded\n",
    "#This is saved in the same directory as your notebook\n",
    "#filename = 'submission.csv'\n",
    "# submission.to_csv(filename,index=False)\n",
    "\n",
    "# print('Saved file: ' + filename)\n",
    "# create_download_link(filename='submission1.csv')"
   ]
  },
  {
   "cell_type": "code",
   "execution_count": 119,
   "metadata": {},
   "outputs": [],
   "source": [
    "# display_all(train.head())"
   ]
  },
  {
   "cell_type": "code",
   "execution_count": 120,
   "metadata": {},
   "outputs": [],
   "source": [
    "# def k_folds_xgb(X, y, X_test, k,n_est):\n",
    "#     folds = StratifiedKFold(n_splits = k, shuffle=True, random_state=2019)\n",
    "#     y_test = np.zeros((X_test.shape[0], 2))\n",
    "#     y_oof = np.zeros((X.shape[0]))\n",
    "#     score = 0\n",
    "#     for i, (train_idx, val_idx) in  enumerate(folds.split(X, y)):\n",
    "#         clf =  XGBClassifier(n_estimators = n_est, n_jobs = -1,learning_rate = 0.25,eval_metric='merror',reg_alpha=0.1)\n",
    "#         clf.fit(X.iloc[train_idx], y[train_idx])\n",
    "#         y_oof[val_idx] = clf.predict(X.iloc[val_idx])\n",
    "#         y_test += clf.predict_proba(X_test) / folds.n_splits\n",
    "#         score += roc_auc_score(y[val_idx],clf.predict_proba(X.iloc[val_idx])[:,1])\n",
    "#         print('Fold: {} score: {}'.format(i,roc_auc_score(y[val_idx],clf.predict_proba(X.iloc[val_idx])[:,1])))\n",
    "#     print('Avg ROC', score / folds.n_splits) \n",
    "        \n",
    "#     return y_oof, y_test "
   ]
  },
  {
   "cell_type": "code",
   "execution_count": 121,
   "metadata": {},
   "outputs": [],
   "source": [
    "# y_oof, y_pred_kxgb = k_folds_xgb(X_smt, y_smt, test, k= 2,n_est=5)"
   ]
  },
  {
   "cell_type": "code",
   "execution_count": 122,
   "metadata": {},
   "outputs": [],
   "source": [
    "# submission_kxgb = pd.DataFrame({'UniqueID': unique_id,'loan_default': y_pred_kxgb[:,1]})\n",
    "# submission_kxgb.to_csv('submission_kxgb.csv',index=False)\n",
    "# #Visualize the first 5 rows\n",
    "# submission_kxgb.head()"
   ]
  },
  {
   "cell_type": "code",
   "execution_count": 123,
   "metadata": {},
   "outputs": [],
   "source": [
    "# def k_folds_gbm(X, y, X_test, k,n_est):\n",
    "#     folds = StratifiedKFold(n_splits = k, shuffle=True, random_state=2019)\n",
    "#     y_test = np.zeros((X_test.shape[0], 2))\n",
    "#     y_oof = np.zeros((X.shape[0]))\n",
    "#     score = 0\n",
    "#     for i, (train_idx, val_idx) in  enumerate(folds.split(X, y)):\n",
    "#         clf =  GradientBoostingClassifier(random_state=1,loss='exponential',learning_rate=0.26,n_estimators=n_est,max_depth =5,min_samples_leaf=1)\n",
    "#         clf.fit(X.iloc[train_idx], y[train_idx])\n",
    "#         y_oof[val_idx] = clf.predict(X.iloc[val_idx])\n",
    "#         y_test += clf.predict_proba(X_test) / folds.n_splits\n",
    "#         score += roc_auc_score(y[val_idx],clf.predict_proba(X.iloc[val_idx])[:,1])\n",
    "#         print('Fold: {} score: {}'.format(i,roc_auc_score(y[val_idx],clf.predict_proba(X.iloc[val_idx])[:,1])))\n",
    "#     print('Avg ROC', score / folds.n_splits) \n",
    "        \n",
    "#     return y_oof, y_test "
   ]
  },
  {
   "cell_type": "code",
   "execution_count": 124,
   "metadata": {},
   "outputs": [],
   "source": [
    "# y_oof, y_pred_kgbm = k_folds_gbm(train, y, x_test, k= 20,n_est=200)"
   ]
  },
  {
   "cell_type": "code",
   "execution_count": 125,
   "metadata": {},
   "outputs": [],
   "source": [
    "# submission_kgbm = pd.DataFrame({'UniqueID': unique_id,'loan_default': y_pred_kgbm[:,1]})\n",
    "# submission_kgbm.to_csv('submission_kgbm.csv',index=False)\n",
    "# #Visualize the first 5 rows\n",
    "# submission_kgbm.head()"
   ]
  },
  {
   "cell_type": "code",
   "execution_count": 126,
   "metadata": {},
   "outputs": [],
   "source": [
    "# def k_folds_ada(X, y, X_test, k,n_est):\n",
    "#     folds = StratifiedKFold(n_splits = k, shuffle=True, random_state=2019)\n",
    "#     y_test = np.zeros((X_test.shape[0], 2))\n",
    "#     y_oof = np.zeros((X.shape[0]))\n",
    "#     score = 0\n",
    "#     for i, (train_idx, val_idx) in  enumerate(folds.split(X, y)):\n",
    "#         clf =  AdaBoostClassifier(learning_rate=1.2,n_estimators=n_est)\n",
    "#         clf.fit(X.iloc[train_idx], y[train_idx])\n",
    "#         y_oof[val_idx] = clf.predict(X.iloc[val_idx])\n",
    "#         y_test += clf.predict_proba(X_test) / folds.n_splits\n",
    "#         score += roc_auc_score(y[val_idx],clf.predict_proba(X.iloc[val_idx])[:,1])\n",
    "#         print('Fold: {} score: {}'.format(i,roc_auc_score(y[val_idx],clf.predict_proba(X.iloc[val_idx])[:,1])))\n",
    "#     print('Avg ROC', score / folds.n_splits) \n",
    "        \n",
    "#     return y_oof, y_test "
   ]
  },
  {
   "cell_type": "code",
   "execution_count": 127,
   "metadata": {},
   "outputs": [],
   "source": [
    "# y_oof, y_pred_kada = k_folds_ada(train, y, x_test, k= 20,n_est=200)"
   ]
  },
  {
   "cell_type": "code",
   "execution_count": 128,
   "metadata": {},
   "outputs": [],
   "source": [
    "# submission_kada = pd.DataFrame({'UniqueID': unique_id,'loan_default': y_pred_kada[:,1]})\n",
    "# submission_kada.to_csv('submission_kada.csv',index=False)\n",
    "# #Visualize the first 5 rows\n",
    "# submission_kada.head()"
   ]
  },
  {
   "cell_type": "code",
   "execution_count": 129,
   "metadata": {},
   "outputs": [],
   "source": [
    "# def k_folds_rf(X, y, X_test, k,n_est):\n",
    "#     folds = StratifiedKFold(n_splits = k, shuffle=True, random_state=2019)\n",
    "#     y_test = np.zeros((X_test.shape[0], 2))\n",
    "#     y_oof = np.zeros((X.shape[0]))\n",
    "#     score = 0\n",
    "#     for i, (train_idx, val_idx) in  enumerate(folds.split(X, y)):\n",
    "#         clf =  RandomForestClassifier(n_estimators =n_est,n_jobs=-1,random_state=1)\n",
    "#         clf.fit(X.iloc[train_idx], y[train_idx])\n",
    "#         y_oof[val_idx] = clf.predict(X.iloc[val_idx])\n",
    "#         y_test += clf.predict_proba(X_test) / folds.n_splits\n",
    "#         score += roc_auc_score(y[val_idx],clf.predict_proba(X.iloc[val_idx])[:,1])\n",
    "#         print('Fold: {} score: {}'.format(i,roc_auc_score(y[val_idx],clf.predict_proba(X.iloc[val_idx])[:,1])))\n",
    "#     print('Avg ROC', score / folds.n_splits) \n",
    "        \n",
    "#     return y_oof, y_test "
   ]
  },
  {
   "cell_type": "code",
   "execution_count": 130,
   "metadata": {},
   "outputs": [],
   "source": [
    "# y_oof, y_pred_krf = k_folds_rf(train, y, x_test, k= 20,n_est=250)"
   ]
  },
  {
   "cell_type": "code",
   "execution_count": 131,
   "metadata": {},
   "outputs": [],
   "source": [
    "# submission_krf = pd.DataFrame({'UniqueID': unique_id,'loan_default': y_pred_krf[:,1]})\n",
    "# submission_krf.to_csv('submission_krf.csv',index=False)\n",
    "# #Visualize the first 5 rows\n",
    "# submission_krf.head()"
   ]
  },
  {
   "cell_type": "code",
   "execution_count": 132,
   "metadata": {},
   "outputs": [],
   "source": [
    "# def k_folds_lgb(X, y, X_test, k,n_est):\n",
    "#     folds = StratifiedKFold(n_splits = k, shuffle=True, random_state=2019)\n",
    "#     y_test = np.zeros((X_test.shape[0], 2))\n",
    "#     y_oof = np.zeros((X.shape[0]))\n",
    "#     score = 0\n",
    "#     for i, (train_idx, val_idx) in  enumerate(folds.split(X, y)):\n",
    "#         clf =  LGBMClassifier(random_state=1,learning_rate=0.15,n_estimators=n_est,min_child_samples=25,n_jobs=-1,reg_alpha=0.1,reg_lambda=0.1)\n",
    "#         clf.fit(X.iloc[train_idx], y[train_idx])\n",
    "#         y_oof[val_idx] = clf.predict(X.iloc[val_idx])\n",
    "#         y_test += clf.predict_proba(X_test) / folds.n_splits\n",
    "#         score += roc_auc_score(y[val_idx],clf.predict_proba(X.iloc[val_idx])[:,1])\n",
    "#         print('Fold: {} score: {}'.format(i,roc_auc_score(y[val_idx],clf.predict_proba(X.iloc[val_idx])[:,1])))\n",
    "#     print('Avg ROC', score / folds.n_splits) \n",
    "        \n",
    "#     return y_oof, y_test "
   ]
  },
  {
   "cell_type": "code",
   "execution_count": 133,
   "metadata": {},
   "outputs": [],
   "source": [
    "# y_oof, y_pred_klgb = k_folds_lgb(train, y, x_test, k= 20,n_est=500)"
   ]
  },
  {
   "cell_type": "code",
   "execution_count": 134,
   "metadata": {},
   "outputs": [],
   "source": [
    "# submission_klgb = pd.DataFrame({'UniqueID': unique_id,'loan_default': y_pred_klgb[:,1]})\n",
    "# submission_klgb.to_csv('submission_klgb.csv',index=False)\n",
    "# #Visualize the first 5 rows\n",
    "# submission_klgb.head()"
   ]
  },
  {
   "cell_type": "code",
   "execution_count": 135,
   "metadata": {},
   "outputs": [],
   "source": [
    "# # avg_pred2 = y_pred_krf*0.17 + y_pred_kada*0.20 + y_pred_kxgb*0.21 + y_pred_klgb*0.21 + y_pred_kgbm*0.21\n",
    "# avg_pred =  (y_pred_kxgb*0.28 + y_pred_klgb*0.28 + y_pred_kgbm*0.28 + y_pred_kada*0.16)\n",
    "# submission_avg = pd.DataFrame({'UniqueID': unique_id,'loan_default': avg_pred[:,1]})\n",
    "# submission_avg.to_csv('submission_avg.csv',index=False)\n",
    "# #Visualize the first 5 rows\n",
    "# submission_avg.head()"
   ]
  },
  {
   "cell_type": "code",
   "execution_count": 136,
   "metadata": {},
   "outputs": [],
   "source": [
    "# display_all(train.head())"
   ]
  },
  {
   "cell_type": "code",
   "execution_count": 137,
   "metadata": {},
   "outputs": [],
   "source": [
    "# display_all(test.head())"
   ]
  },
  {
   "cell_type": "code",
   "execution_count": 138,
   "metadata": {},
   "outputs": [],
   "source": [
    "# train['loan_default'] = y\n",
    "# train.shape, test.shape, y.shape"
   ]
  },
  {
   "cell_type": "code",
   "execution_count": 139,
   "metadata": {},
   "outputs": [],
   "source": [
    "# dep_var = 'loan_default'\n",
    "# cat_vars = ['branch_id', 'supplier_id', 'manufacturer_id', 'Current_pincode_ID', 'Employment.Type', 'State_ID', 'Employee_code_ID',\n",
    "#            'MobileNo_Avl_Flag', 'Aadhar_flag', 'PAN_flag', 'VoterID_flag', 'Driving_flag', 'Passport_flag', 'NEW.ACCTS.IN.LAST.SIX.MONTHS',\n",
    "#            'DELINQUENT.ACCTS.IN.LAST.SIX.MONTHS','NO.OF_INQUIRIES','Year_of_birth','DisbursalMonth','DisbursalYear','DisbursalWeek',\n",
    "#            'DisbursalDay','DisbursalDayofweek','DisbursalDayofyear','DisbursalIs_month_end','DisbursalIs_month_start',\n",
    "#            'DisbursalIs_quarter_end','DisbursalIs_quarter_start','DisbursalIs_year_end','DisbursalIs_year_start']\n",
    "# cont_vars = ['disbursed_amount','asset_cost','ltv','PERFORM_CNS.SCORE','PERFORM_CNS.SCORE.DESCRIPTION','PRI.NO.OF.ACCTS','PRI.ACTIVE.ACCTS',\n",
    "#              'PRI.OVERDUE.ACCTS','PRI.CURRENT.BALANCE','PRI.SANCTIONED.AMOUNT','PRI.DISBURSED.AMOUNT','SEC.NO.OF.ACCTS','SEC.ACTIVE.ACCTS',\n",
    "#              'SEC.OVERDUE.ACCTS','SEC.CURRENT.BALANCE','SEC.SANCTIONED.AMOUNT','SEC.DISBURSED.AMOUNT','PRIMARY.INSTAL.AMT','SEC.INSTAL.AMT',\n",
    "#              'AVERAGE.ACCT.AGE','CREDIT.HISTORY.LENGTH','DisbursalElapsed']\n",
    "# procs = [Categorify]"
   ]
  },
  {
   "cell_type": "code",
   "execution_count": 140,
   "metadata": {},
   "outputs": [],
   "source": [
    "# data = (TabularList.from_df(train, path=path, cat_names=cat_vars, cont_names=cont_vars, procs=procs,)\n",
    "#                 .split_by_idx(list(range(55000,100000)))\n",
    "#                 .label_from_df(cols=dep_var)\n",
    "#                 .add_test(TabularList.from_df(test, path=path, cat_names=cat_vars, cont_names=cont_vars))\n",
    "#                 .databunch())"
   ]
  },
  {
   "cell_type": "code",
   "execution_count": 141,
   "metadata": {},
   "outputs": [],
   "source": [
    "# data.show_batch(rows=5)"
   ]
  },
  {
   "cell_type": "code",
   "execution_count": 142,
   "metadata": {},
   "outputs": [],
   "source": [
    "# learn = tabular_learner(data, layers=[500,100], ps=[0.001,0.01], emb_drop=0.04, \n",
    "#                          metrics=accuracy)"
   ]
  },
  {
   "cell_type": "code",
   "execution_count": 143,
   "metadata": {},
   "outputs": [],
   "source": [
    "# learn.model"
   ]
  },
  {
   "cell_type": "code",
   "execution_count": 144,
   "metadata": {},
   "outputs": [],
   "source": [
    "# learn.lr_find()\n",
    "# learn.recorder.plot()"
   ]
  },
  {
   "cell_type": "code",
   "execution_count": 145,
   "metadata": {},
   "outputs": [],
   "source": [
    "# learn.fit_one_cycle(3, 1e-2, wd=0.15)"
   ]
  },
  {
   "cell_type": "code",
   "execution_count": 146,
   "metadata": {},
   "outputs": [],
   "source": [
    "# learn.recorder.plot_losses()"
   ]
  },
  {
   "cell_type": "code",
   "execution_count": 147,
   "metadata": {},
   "outputs": [],
   "source": [
    "# learn.fit_one_cycle(1, 3e-4)"
   ]
  },
  {
   "cell_type": "code",
   "execution_count": 148,
   "metadata": {},
   "outputs": [],
   "source": [
    "#learn.TTA(DatasetType.Test)"
   ]
  },
  {
   "cell_type": "code",
   "execution_count": 149,
   "metadata": {},
   "outputs": [],
   "source": [
    "# test_preds = learn.get_preds(DatasetType.Test)[0][:,1]\n",
    "# submit = pd.DataFrame({'UniqueID':unique_id, 'loan_default':test_preds}, columns=['UniqueID', 'loan_default'])\n",
    "# submit.to_csv('submit_1.csv',index=False)\n",
    "# submit.head()"
   ]
  },
  {
   "cell_type": "code",
   "execution_count": 150,
   "metadata": {},
   "outputs": [],
   "source": [
    "#create_download_link(filename='submit.csv')"
   ]
  }
 ],
 "metadata": {
  "kernelspec": {
   "display_name": "Python 3",
   "language": "python",
   "name": "python3"
  },
  "language_info": {
   "codemirror_mode": {
    "name": "ipython",
    "version": 3
   },
   "file_extension": ".py",
   "mimetype": "text/x-python",
   "name": "python",
   "nbconvert_exporter": "python",
   "pygments_lexer": "ipython3",
   "version": "3.6.4"
  }
 },
 "nbformat": 4,
 "nbformat_minor": 1
}
